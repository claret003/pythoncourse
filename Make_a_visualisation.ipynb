{
  "nbformat": 4,
  "nbformat_minor": 0,
  "metadata": {
    "colab": {
      "name": "Make a visualisation.ipynb",
      "provenance": [],
      "collapsed_sections": [],
      "include_colab_link": true
    },
    "kernelspec": {
      "name": "python3",
      "display_name": "Python 3"
    },
    "language_info": {
      "name": "python"
    }
  },
  "cells": [
    {
      "cell_type": "markdown",
      "metadata": {
        "id": "view-in-github",
        "colab_type": "text"
      },
      "source": [
        "<a href=\"https://colab.research.google.com/github/claret003/pythoncourse/blob/main/Make_a_visualisation.ipynb\" target=\"_parent\"><img src=\"https://colab.research.google.com/assets/colab-badge.svg\" alt=\"Open In Colab\"/></a>"
      ]
    },
    {
      "cell_type": "markdown",
      "metadata": {
        "id": "xWRHWcO8oKV7"
      },
      "source": [
        "# Make a visualisation\n",
        "\n",
        "Use the code cell below to:\n",
        "\n",
        "* import the pandas library\n",
        "* store the link (url)\n",
        "* create a dataframe from the dataset  (df= )\n",
        "* display the dataframe (df) info\n",
        "* drop the rows that have no data in the 'NO2 Level' column\n",
        "* change the datatype for the Date column to datetime\n",
        "* change the datatype for the NO2 Level column to float\n",
        "\n",
        "Choose the url for your chosen dataset from this list:\n",
        "\n",
        "### NO2-daily-mean-2014-2021-Rochester-Stoke.csv\n",
        "https://drive.google.com/uc?id=16aM_5IUWKrpY2Hq3SRWcElHg-NbzX84x  \n",
        "\n",
        "### NO2-measurement-data-2020-Rochester-Stoke.csv\n",
        "https://drive.google.com/uc?id=1QSNJ3B1ku8kjXsA_tCBh4fbpDK7wVLAA  \n",
        "\n",
        "###NO2-daily-mean 2014-2-21-Swale-Newington.csv\n",
        "https://drive.google.com/uc?id=142uY47X9XLXnHhLdTNjtGR2xu0mG914n\n",
        "\n",
        "### NO2-measurement-data-2020-Swale-Newington.csv\n",
        "https://drive.google.com/uc?id=1obId239aLn0yAFcUkTA0h9r6hc-M6Au\n",
        "\n",
        "###NO2-daily-mean 2014-2-21-Swale-Ospringe.csv\n",
        "https://drive.google.com/uc?id=14VhDFa5UE8RaZjLa4OR7MYa4WseNGENP\n",
        "\n",
        "### NO2-measurement-data-2020-Swale-Ospringe.csv\n",
        "https://drive.google.com/uc?id=1frgM9uNYHMoqn1Dfh3nPE8j2zgXJwYCm\n"
      ]
    },
    {
      "cell_type": "code",
      "metadata": {
        "id": "wzt08wuZoHV9",
        "outputId": "5c96e27d-e257-4b19-b015-a7a3c60974b2",
        "colab": {
          "base_uri": "https://localhost:8080/",
          "height": 423
        }
      },
      "source": [
        "# prepare the data using the code in the learning worksheets, changing the url to the one for your chosen dataset\n",
        "import pandas as pd\n",
        "\n",
        "url = 'https://drive.google.com/uc?id=16aM_5IUWKrpY2Hq3SRWcElHg-NbzX84x'\n",
        "\n",
        "df = pd.read_csv(url, skiprows = 1)\n",
        "display(df.info())\n",
        "\n",
        "df['Date'] = pd.to_datetime(df['Date'])\n",
        "df.drop(df[df['Nitrogen dioxide'] == 'nodata'].index, inplace = True)\n",
        "df['Nitrogen dioxide'] = df['Nitrogen dioxide'].astype(float)\n",
        "display(df.info())"
      ],
      "execution_count": 4,
      "outputs": [
        {
          "output_type": "stream",
          "name": "stdout",
          "text": [
            "<class 'pandas.core.frame.DataFrame'>\n",
            "RangeIndex: 2556 entries, 0 to 2555\n",
            "Data columns (total 3 columns):\n",
            " #   Column            Non-Null Count  Dtype \n",
            "---  ------            --------------  ----- \n",
            " 0   Date              2556 non-null   object\n",
            " 1   Nitrogen dioxide  2556 non-null   object\n",
            " 2   Status            2556 non-null   object\n",
            "dtypes: object(3)\n",
            "memory usage: 60.0+ KB\n"
          ]
        },
        {
          "output_type": "display_data",
          "data": {
            "text/plain": [
              "None"
            ]
          },
          "metadata": {}
        },
        {
          "output_type": "stream",
          "name": "stdout",
          "text": [
            "<class 'pandas.core.frame.DataFrame'>\n",
            "Int64Index: 2455 entries, 0 to 2555\n",
            "Data columns (total 3 columns):\n",
            " #   Column            Non-Null Count  Dtype         \n",
            "---  ------            --------------  -----         \n",
            " 0   Date              2455 non-null   datetime64[ns]\n",
            " 1   Nitrogen dioxide  2455 non-null   float64       \n",
            " 2   Status            2455 non-null   object        \n",
            "dtypes: datetime64[ns](1), float64(1), object(1)\n",
            "memory usage: 76.7+ KB\n"
          ]
        },
        {
          "output_type": "display_data",
          "data": {
            "text/plain": [
              "None"
            ]
          },
          "metadata": {}
        }
      ]
    },
    {
      "cell_type": "markdown",
      "metadata": {
        "id": "LyKb6H0aqWWX"
      },
      "source": [
        "## Add code to group data as needed for the chart you want to make"
      ]
    },
    {
      "cell_type": "code",
      "metadata": {
        "id": "vg0gQLbkqe8s"
      },
      "source": [
        "df['Day'] = df['Date'].dt.weekday"
      ],
      "execution_count": 10,
      "outputs": []
    },
    {
      "cell_type": "markdown",
      "metadata": {
        "id": "8ByaMMFHqf1L"
      },
      "source": [
        "## Create and style the chart"
      ]
    },
    {
      "cell_type": "code",
      "metadata": {
        "id": "D2I3sBXCqkMz",
        "outputId": "731c7568-dfb7-46f0-a4cd-6b7dcf426e61",
        "colab": {
          "base_uri": "https://localhost:8080/",
          "height": 296
        }
      },
      "source": [
        "import matplotlib.pyplot as plt\n",
        "\n",
        "y = df.groupby(['Day'])['Nitrogen dioxide'].mean()\n",
        "x = df['Day'].unique()\n",
        "\n",
        "\n",
        "plt.title('Daily mean NO2 levels')\n",
        "plt.xticks(rotation=45)\n",
        "plt.xlabel('Day of week')\n",
        "plt.ylabel('NO2 mg/m3')\n",
        "\n",
        "plt.bar(x,y)\n",
        "plt.show()"
      ],
      "execution_count": 11,
      "outputs": [
        {
          "output_type": "display_data",
          "data": {
            "image/png": "[encoded data removed]",
            "text/plain": [
              "<Figure size 432x288 with 1 Axes>"
            ]
          },
          "metadata": {
            "needs_background": "light"
          }
        }
      ]
    },
    {
      "cell_type": "markdown",
      "metadata": {
        "id": "7RjhGvOLqlD8"
      },
      "source": [
        "## Finally\n",
        "\n",
        "To download your finished image to a file:\n",
        "\n",
        "* right-click on the image\n",
        "* select Save image as...\n",
        "* give the file a name (maybe the same as the chart title)\n",
        "* save it to the downloads folder\n",
        "\n",
        "Go to the Jamboard:  https://jamboard.google.com/d/15AHamnKEWIVIf66_fu2Jp41G7J74fw0vlsLQfcApmJo/edit?usp=sharing  \n",
        "\n",
        "Click on the right arrow at the top of the page to go to the 2nd screen  \n",
        "Click on the image icon in the tools bar on the left  \n",
        "Select your file from the download folder  \n",
        "Move the image to a suitable place on the Jamboard"
      ]
    }
  ]
}