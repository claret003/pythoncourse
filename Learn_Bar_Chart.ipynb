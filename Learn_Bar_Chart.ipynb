{
  "nbformat": 4,
  "nbformat_minor": 0,
  "metadata": {
    "colab": {
      "name": "Learn Bar Chart.ipynb",
      "provenance": [],
      "collapsed_sections": [],
      "include_colab_link": true
    },
    "kernelspec": {
      "name": "python3",
      "display_name": "Python 3"
    },
    "language_info": {
      "name": "python"
    }
  },
  "cells": [
    {
      "cell_type": "markdown",
      "metadata": {
        "id": "view-in-github",
        "colab_type": "text"
      },
      "source": [
        "<a href=\"https://colab.research.google.com/github/claret003/pythoncourse/blob/main/Learn_Bar_Chart.ipynb\" target=\"_parent\"><img src=\"https://colab.research.google.com/assets/colab-badge.svg\" alt=\"Open In Colab\"/></a>"
      ]
    },
    {
      "cell_type": "markdown",
      "metadata": {
        "id": "AVCxMzqnFpGg"
      },
      "source": [
        "# Using Python code to change the data for creating a chart\n",
        "---\n",
        "\n",
        "You have now looked at a dataset using Pandas, dropped rows of data with missing values (nodata) and changed datatypes.  Let's use the same dataset to practise creating a bar chart.\n",
        "\n",
        "## Setting up\n",
        "\n",
        "In the cell code below, write the code to:\n",
        "* import the pandas library\n",
        "* store the link (url)\n",
        "* create a dataframe from the dataset  (df= )\n",
        "* display the dataframe (df) info\n",
        "* drop the rows that have no data in the 'NO2 Level' column\n",
        "* change the datatype for the Date column to datetime\n",
        "* change the datatype for the NO2 Level column to float\n",
        "\n",
        "\n",
        "\n",
        "\n",
        "\n",
        "\n",
        " "
      ]
    },
    {
      "cell_type": "code",
      "metadata": {
        "id": "-TvPXkxFFmNJ",
        "outputId": "a9bd564c-29a2-4ebe-95a4-08d7c0242256",
        "colab": {
          "base_uri": "https://localhost:8080/",
          "height": 460
        }
      },
      "source": [
        "# copy the 7 relevant code lines from the Electric Medway Learn 1 worksheet here\n",
        "\n",
        "import pandas as pd\n",
        "\n",
        "url = \"https://drive.google.com/uc?id=1_arR3BXakHSMSUkBfPkRleXBX1HZcJ5F\"\n",
        "df = pd.read_csv(url, skiprows=1)\n",
        "display(df.info())\n",
        "\n",
        "df.drop(df[df['NO2 Level'] == 'nodata'].index, inplace = True)\n",
        "df['Date'] = pd.to_datetime(df['Date'])\n",
        "df['NO2 Level'] = df['NO2 Level'].astype(float)\n",
        "display(df.info())\n"
      ],
      "execution_count": 2,
      "outputs": [
        {
          "output_type": "stream",
          "name": "stdout",
          "text": [
            "<class 'pandas.core.frame.DataFrame'>\n",
            "RangeIndex: 91 entries, 0 to 90\n",
            "Data columns (total 4 columns):\n",
            " #   Column     Non-Null Count  Dtype \n",
            "---  ------     --------------  ----- \n",
            " 0   Date       91 non-null     object\n",
            " 1   Time       91 non-null     object\n",
            " 2   Day        91 non-null     object\n",
            " 3   NO2 Level  91 non-null     object\n",
            "dtypes: object(4)\n",
            "memory usage: 3.0+ KB\n"
          ]
        },
        {
          "output_type": "display_data",
          "data": {
            "text/plain": [
              "None"
            ]
          },
          "metadata": {}
        },
        {
          "output_type": "stream",
          "name": "stdout",
          "text": [
            "<class 'pandas.core.frame.DataFrame'>\n",
            "Int64Index: 90 entries, 0 to 90\n",
            "Data columns (total 4 columns):\n",
            " #   Column     Non-Null Count  Dtype         \n",
            "---  ------     --------------  -----         \n",
            " 0   Date       90 non-null     datetime64[ns]\n",
            " 1   Time       90 non-null     object        \n",
            " 2   Day        90 non-null     object        \n",
            " 3   NO2 Level  90 non-null     float64       \n",
            "dtypes: datetime64[ns](1), float64(1), object(2)\n",
            "memory usage: 3.5+ KB\n"
          ]
        },
        {
          "output_type": "display_data",
          "data": {
            "text/plain": [
              "None"
            ]
          },
          "metadata": {}
        }
      ]
    },
    {
      "cell_type": "markdown",
      "metadata": {
        "id": "DFkBpPeKi9f8"
      },
      "source": [
        "## Creating a Bar Chart\n",
        "\n",
        "Now you have linked to your dataset and your datatypes are correct for the Date and NO2 Levels, you can start to create a chart.  **Note**:  you must have run the code cell above before you can run the code cell below to make the chart.\n",
        "\n",
        "To start a chart you need to import a new library from Python (which must go before any code that needs to use it):\n",
        "```\n",
        "import matplotlib.pyplot as plt\n",
        "```\n",
        "In the code cell below, add the code to create a chart.  Every chart will need:\n",
        "\n",
        "1. A title\n",
        "2. A label for x axis \n",
        "3. A label for y axis\n",
        "4. A chart type and data\n",
        "5. A command to tell the chart to draw\n",
        "\n",
        "The codes for a bar chart showing the NO2 levels by date are:\n",
        "\n",
        "```\n",
        "1. plt.title('My chart title')\n",
        "2. plt.xlabel('x axis label')\n",
        "3. plt.ylabel('y axis label')\n",
        "4. x = df['Date']\n",
        "5. y = df['NO2 Level']\n",
        "6. plt.bar(x,y)\n",
        "7. plt.show()\n",
        "```\n",
        "**Note:** the code for line 6 always starts with plt.bar() and can include a width for the bars (which you can change, values depend on the number of bars), but the information in the brackets will depend on what data you are plotting.   \n",
        "\n",
        "Have a go at adding and running this code and see what your graph looks like, then change the title, x axis label and y axis label to something more appropriate.\n",
        "\n",
        "\n",
        "\n",
        "\n",
        "\n",
        "\n"
      ]
    },
    {
      "cell_type": "code",
      "metadata": {
        "id": "oXHNkyvhbOig",
        "outputId": "a177ad05-3208-4e26-bab1-3998a37268c1",
        "colab": {
          "base_uri": "https://localhost:8080/",
          "height": 322
        }
      },
      "source": [
        "import matplotlib.pyplot as plt\n",
        "\n",
        "# add code below to create the chart\n",
        "\n",
        "plt.title('Fluctuations in daily mean NO2 levels over time')\n",
        "plt.xticks(rotation=45)\n",
        "plt.xlabel('Year')\n",
        "plt.ylabel('NO2 level')\n",
        "x = df['Date']\n",
        "y = df['NO2 Level']\n",
        "plt.bar(x,y)\n",
        "plt.show()\n"
      ],
      "execution_count": 6,
      "outputs": [
        {
          "output_type": "display_data",
          "data": {
            "image/png": "[encoded data removed]",
            "text/plain": [
              "<Figure size 432x288 with 1 Axes>"
            ]
          },
          "metadata": {
            "needs_background": "light"
          }
        }
      ]
    },
    {
      "cell_type": "markdown",
      "metadata": {
        "id": "vUWhsF1ihcak"
      },
      "source": [
        "## Changing the data\n",
        "\n",
        "If it is difficult to read the labels, use label rotation so the label appears vertically or on a slant:\n",
        "\n",
        "```\n",
        "plt.xticks(rotation=45)\n",
        "```\n",
        "\n",
        "Add this line to your code in the cell above (just after the label naming)\n"
      ]
    },
    {
      "cell_type": "markdown",
      "metadata": {
        "id": "d8LrSIQjhkuM"
      },
      "source": [
        "## Using groupby() to Simplify Data for a new chart\n",
        "\n",
        "The first bar chart has far too many bars to be of any use.  Data can be grouped to allow it to be easier to understand in a chart.  If for example you had hundreds of records that included dates and there were multiple entries for one month, it might be beneficial to calculate the maximum or minimum or average (mean or median) for an individual month.\n",
        "\n",
        "This dataset has a column called 'Day' with the days of the week that the measurements were taken.  For this exercise, we can group the data by Day and get the maximum NO2 level for all measurements on that particular day of the week (ie the highest measurement on a Friday).\n",
        "```\n",
        "y = df.groupby(['Day'])['NO2 Level'].max()\n",
        "plt.bar(y)\n",
        "```\n",
        "### Creating Labels\n",
        "\n",
        "A bar chart has x axis labels to show what each bar represents.  In this case, it will represent each different day in the Day column of your dataset (ie the days Mon to Sun, not repeated).  \n",
        "\n",
        "```\n",
        "x = df['Day'].unique()\n",
        "```\n",
        "\n",
        "In the code cell below:\n",
        "* create the new Month column \n",
        "* create a chart title \"NO2 highest levels for each day\"\n",
        "* create an x axis label \"Day of week\"\n",
        "* create a y axis label NO2 mg/m3\n",
        "* group the NO2 level data by Day, calculating the max (as above)\n",
        "* create the bar chart from labels list (x) and the grouped data (y), without giving a width for the bars\n",
        "* show the bar chart\n",
        "\n",
        "\n",
        "\n"
      ]
    },
    {
      "cell_type": "code",
      "metadata": {
        "id": "W8xSimyducP7",
        "outputId": "bc52e98c-7f06-40c9-d801-2a7da3e6a7b8",
        "colab": {
          "base_uri": "https://localhost:8080/",
          "height": 312
        }
      },
      "source": [
        "# clear out the previous chart\n",
        "plt.cla()\n",
        "\n",
        "# add code below to create the second chart\n",
        "\n",
        "y = df.groupby(['Day'])['NO2 Level'].max()\n",
        "x= df['Day'].unique()\n",
        "\n",
        "plt.title('NO2 highest levels for each day')\n",
        "plt.xticks(rotation=45)\n",
        "plt.xlabel('Day of week')\n",
        "plt.ylabel('NO2 mg/m3')\n",
        "\n",
        "plt.bar(x,y)\n",
        "plt.show()\n",
        "\n",
        "\n"
      ],
      "execution_count": 15,
      "outputs": [
        {
          "output_type": "display_data",
          "data": {
            "image/png": "[encoded data removed]",
            "text/plain": [
              "<Figure size 432x288 with 1 Axes>"
            ]
          },
          "metadata": {
            "needs_background": "light"
          }
        }
      ]
    },
    {
      "cell_type": "markdown",
      "metadata": {
        "id": "MzRd2pjWx0F9"
      },
      "source": [
        "You have now learnt the basics of creating a bar chart using a dataset and the matplotlib.pyplot library.  To learn how to change the style of a chart further, look at the worksheet called [Learn Styling Charts](https://colab.research.google.com/drive/1pTb2VbP6Etnbd-nyIqLSZKU_mezUFr1A?usp=sharing)."
      ]
    }
  ]
}