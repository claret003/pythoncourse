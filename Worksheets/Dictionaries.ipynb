{
  "nbformat": 4,
  "nbformat_minor": 0,
  "metadata": {
    "colab": {
      "name": "Dictionaries.ipynb",
      "provenance": [],
      "collapsed_sections": [],
      "include_colab_link": true
    },
    "kernelspec": {
      "name": "python3",
      "display_name": "Python 3"
    },
    "language_info": {
      "name": "python"
    }
  },
  "cells": [
    {
      "cell_type": "markdown",
      "metadata": {
        "id": "view-in-github",
        "colab_type": "text"
      },
      "source": [
        "<a href=\"https://colab.research.google.com/github/claret003/pythoncourse/blob/main/Worksheets/Dictionaries.ipynb\" target=\"_parent\"><img src=\"https://colab.research.google.com/assets/colab-badge.svg\" alt=\"Open In Colab\"/></a>"
      ]
    },
    {
      "cell_type": "markdown",
      "metadata": {
        "id": "AiiF1h2X4PHP"
      },
      "source": [
        "# Dictionaries\n",
        "\n",
        "---\n",
        "\n",
        "A **dictionary** is a collection of dissimilar data stored together in one *record*. Each item of data has a  (or key) that describes its paired value.  \n",
        "\n",
        "Create a dictionary object by declaring the set of keys and values, e.g.:\n",
        "\n",
        "```\n",
        "   transport = {\n",
        "       \"type\":\"bus\",\n",
        "       \"numPassengers\":72,\n",
        "       \"colour\":\"blue\",\n",
        "       \"fuel\":\"diesel\"\n",
        "   }\n",
        "```\n",
        "\n",
        "To access or change a value in a dictionary, use its key:  \n",
        "\n",
        "```\n",
        "transport[\"type\"] = \"coach\"\n",
        "transport_type = transport[\"type\"]\n",
        "transport_colour = transport[\"colour\"]\n",
        "transport[\"fuel\"] = petrol\n",
        "```\n",
        "\n",
        "To add a new key/value pair to a dictionary, simply assign a value to a new key:  \n",
        "```\n",
        "transport[\"seats\"] = 54\n",
        "```\n",
        "\n",
        "The transport dictionary will now look like this:  \n",
        "```\n",
        "   transport = {\n",
        "       \"type\":\"bus\",\n",
        "       \"numPassengers\":72,\n",
        "       \"colour\":\"blue\",\n",
        "       \"fuel\":\"diesel\",\n",
        "       \"seats\":54\n",
        "   }\n",
        "```\n",
        "\n"
      ]
    },
    {
      "cell_type": "markdown",
      "metadata": {
        "id": "1uZ5kNWB6CqK"
      },
      "source": [
        "---\n",
        "### Exercise 1 - print dictionary\n",
        "\n",
        "Write a function which will:  \n",
        "\n",
        "*  create an empty dictionary for a person (name, age and postcode, with values \"\", 0 and \"\")\n",
        "*  set the name value to \"Jack Jones\"\n",
        "*  set the age value to 16\n",
        "*  set the postcode value \"AB5 3DF\"  \n",
        "*  print the dictionary\n",
        "\n",
        "Expected output:  \n",
        "[\"name\":\"Jack Jones\", \"age\":16, \"postcode\":\"AB5 3DF\"]"
      ]
    },
    {
      "cell_type": "code",
      "metadata": {
        "id": "Ac7VQTj94Mrc",
        "colab": {
          "base_uri": "https://localhost:8080/"
        },
        "outputId": "4c96f433-07fd-4fdd-df9b-4790f2a157bc"
      },
      "source": [
        "def print_dict():\n",
        "  #write a function that will create an empty dictionary and print it\n",
        "  person = {\"name\" : \"\" , \"age\" : \"0\", \"postcode\" : \"\"}\n",
        "  person[\"name\"] = \"Jack Jones\"\n",
        "  person[\"age\"] = \"16\"\n",
        "  person[\"postcode\"] = \"AB5 3DF\"\n",
        "  print(person)\n",
        "\n",
        "\n",
        "# run the function print_dict()\n",
        "print_dict()"
      ],
      "execution_count": 4,
      "outputs": [
        {
          "output_type": "stream",
          "name": "stdout",
          "text": [
            "{'name': 'Jack Jones', 'age': '16', 'postcode': 'AB5 3DF'}\n"
          ]
        }
      ]
    },
    {
      "cell_type": "markdown",
      "metadata": {
        "id": "0OtNqNKv7WKm"
      },
      "source": [
        "---\n",
        "### Exercise 2 - create a dictionary\n",
        "\n",
        "Write a function that will create two dictionaries,without values:  \n",
        "\n",
        "1.  person (with keys firstname, surname, birthdate, postcode)  \n",
        "2.  car (with key/value pairs as follows:  make - Vauxhall, model - Corsa, engineSize - 1199, fuelType - unleaded, num_doors - 4)  \n",
        "\n",
        "*   assign values for the person dictionary as below:  \n",
        "Jack  \n",
        "Jones  \n",
        "2006/02/02    \n",
        "AB5 3DF\n",
        "*   return a string containing the person's full name from the person dictionary and the make of the car from the car dictionary.\n"
      ]
    },
    {
      "cell_type": "code",
      "metadata": {
        "id": "ZyqhaBCC-GdI",
        "colab": {
          "base_uri": "https://localhost:8080/"
        },
        "outputId": "aaebff51-2ffa-40a5-d4a0-b1625d4b16ad"
      },
      "source": [
        "def create_two_dicts():\n",
        "  #write a function that will create two dictionaries and create inputs\n",
        "  person ={\"firstname\" : \"\", \"surname\" :\"\", \"birthdate\" :\"\", \"postcode\" :\"\"}\n",
        "  car = {\"make\" : \"Vauxhall\", \"model\" : \"Corsa\", \"engineSize\" : \"1199\", \"fuelType\" : \"unleaded\", \"num_doors\" : \"4\"}\n",
        "  person[\"firstname\"] = \"Jack\"\n",
        "  person[\"surname\"] = \"Jones\"\n",
        "  person[\"birthdate\"] = \"2006/02/02\"\n",
        "  person[\"postcode\"] = \"AB5 3DF\"\n",
        "  print(f'{person[\"firstname\"]} {person[\"surname\"]} {car[\"make\"]}')\n",
        "\n",
        "# run and test the function create_two_dicts()\n",
        "actual = create_two_dicts()\n",
        "expected = \"Jack Jones Vauxhall\"\n",
        "if actual == expected:\n",
        "  print(\"Test passed\", actual)\n",
        "else:\n",
        "  print(\"Test failed\", \"should be\", expected, \"but was\", actual) #I DON'T UNDERSTAND HOW THIS TEST FAILED WHEN THE OUTPUT IS THE SAME AS THE EXPECTED??"
      ],
      "execution_count": 25,
      "outputs": [
        {
          "output_type": "stream",
          "name": "stdout",
          "text": [
            "Jack Jones Vauxhall\n",
            "Test failed should be Jack Jones Vauxhall but was None\n"
          ]
        }
      ]
    },
    {
      "cell_type": "markdown",
      "metadata": {
        "id": "gYuuOUYw-G4I"
      },
      "source": [
        "---\n",
        "### Exercise 3 - check dictionary values\n",
        "\n",
        "Write a new function which will:\n",
        "\n",
        "*  set up the same two dictionaries as in Exercise 2   \n",
        "*  fill in the person data from the function's parameters  \n",
        "*  if the person is under 17 then print a message to say that they can't buy a car as they are too young to drive\n",
        "*  else if the person is under 25 then print a message to say that an engine size under 1200 is recommended  \n",
        "*  assign the make of car from the final parameter  \n",
        "*  if the car is the same make as that stored in the car record, then return a message to say that you have a car of that make in stock near the user's postcode\n",
        "*  else (if the user enters any other car make) then return a message to say sorry that you don't have any cars of that make in stock near the user's postcode\n",
        "\n",
        "\n",
        "Test input:  \n",
        "John  \n",
        "Jones  \n",
        "2004/02/02  \n",
        "AB5 3DF  \n",
        "Ford  \n",
        "\n",
        "Expected output:  \n",
        "An engine size under 1200 is recommended  \n",
        "Sorry, we don't have any of that make in stock  \n"
      ]
    },
    {
      "cell_type": "code",
      "metadata": {
        "id": "Wp9Il2JG_hDh",
        "colab": {
          "base_uri": "https://localhost:8080/",
          "height": 356
        },
        "outputId": "3722420b-a111-452d-d6c5-9d74b13e3032"
      },
      "source": [
        "from datetime import datetime\n",
        "\n",
        "def check_values(firstname, surname, birthdate, postcode):\n",
        "  #write a function that will calculate age based on a given date\n",
        "  person ={\"firstname\" : \"\", \"surname\" :\"\", \"birthdate\" :\"\", \"postcode\" :\"\"}\n",
        "  car = {\"make\" : \"Vauxhall\", \"model\" : \"Corsa\", \"engineSize\" : \"1199\", \"fuelType\" : \"unleaded\", \"num_doors\" : \"4\"}\n",
        "  person[\"firstname\"] = \"Jack\"\n",
        "  person[\"surname\"] = \"Jones\"\n",
        "  person[\"birthdate\"] = \"2006/02/02\"\n",
        "  person[\"postcode\"] = \"AB5 3DF\"\n",
        "  person[\"firstname\"] = \"John\"\n",
        "  person[\"surname\"] = \"Jones\"\n",
        "  person[\"birthdate\"] = \"2004/02/02\"\n",
        "  person[\"postcode\"] = \"AB5 3DF\"\n",
        "  now = datetime.now()\n",
        "  # reformat birthdate\n",
        "  person[\"age\"] = now - birthdate\n",
        "  if person[\"age\"] <17:\n",
        "    print(\"You are too young to drive\")\n",
        "  elif person[\"age\"] <25:\n",
        "    print(\"An engine size under 1200 is recommended\")\n",
        "\n",
        "#I'M GIVING UP ON THIS!\n",
        "\n",
        "# run and test the function check_values() where the person is under 17\n",
        "actual = check_values(\"Jack\", \"Jones\", \"2006/02/02\", \"AB5 3DF\")\n",
        "expected = \"You are too young to drive\"\n",
        "if actual == expected:\n",
        "  print(\"Test 1 passed\", actual)\n",
        "else:\n",
        "  print(\"Test 1 failed\", \"Should be\", expected, \"got\", actual)\n",
        "\n",
        "  # run and test the function check_values() where the person is between 17 and 25\n",
        "actual = check_values(\"John\", \"Jones\", \"2000/02/02\", \"AB5 3DF\")\n",
        "expected = \"An engine size under 1200 is recommended.  We have one Vauxhall in stock near AB5 3DF\"\n",
        "if actual == expected:\n",
        "  print(\"Test 2 passed\", actual)\n",
        "else:\n",
        "  print(\"Test 2 failed\", \"Should be\", expected, \"got\", actual)\n",
        "\n",
        "# run and test the function check_values()\n",
        "actual = check_values(\"John\", \"Jones\", \"2000/02/02\", \"AB5 3DF\")\n",
        "expected = \"An engine size under 1200 is recommended.  Sorry, we don't have any of that make in stock near AB5 3DF\"\n",
        "if actual == expected:\n",
        "  print(\"Test 3 passed\", actual)\n",
        "else:\n",
        "  print(\"Test 3 failed\", \"Should be\", expected, \"got\", actual)"
      ],
      "execution_count": 43,
      "outputs": [
        {
          "output_type": "error",
          "ename": "TypeError",
          "evalue": "ignored",
          "traceback": [
            "\u001b[0;31m---------------------------------------------------------------------------\u001b[0m",
            "\u001b[0;31mTypeError\u001b[0m                                 Traceback (most recent call last)",
            "\u001b[0;32m<ipython-input-43-c51ca4274e8e>\u001b[0m in \u001b[0;36m<module>\u001b[0;34m()\u001b[0m\n\u001b[1;32m     23\u001b[0m \u001b[0;34m\u001b[0m\u001b[0m\n\u001b[1;32m     24\u001b[0m \u001b[0;31m# run and test the function check_values() where the person is under 17\u001b[0m\u001b[0;34m\u001b[0m\u001b[0;34m\u001b[0m\u001b[0;34m\u001b[0m\u001b[0m\n\u001b[0;32m---> 25\u001b[0;31m \u001b[0mactual\u001b[0m \u001b[0;34m=\u001b[0m \u001b[0mcheck_values\u001b[0m\u001b[0;34m(\u001b[0m\u001b[0;34m\"Jack\"\u001b[0m\u001b[0;34m,\u001b[0m \u001b[0;34m\"Jones\"\u001b[0m\u001b[0;34m,\u001b[0m \u001b[0;34m\"2006/02/02\"\u001b[0m\u001b[0;34m,\u001b[0m \u001b[0;34m\"AB5 3DF\"\u001b[0m\u001b[0;34m)\u001b[0m\u001b[0;34m\u001b[0m\u001b[0;34m\u001b[0m\u001b[0m\n\u001b[0m\u001b[1;32m     26\u001b[0m \u001b[0mexpected\u001b[0m \u001b[0;34m=\u001b[0m \u001b[0;34m\"You are too young to drive\"\u001b[0m\u001b[0;34m\u001b[0m\u001b[0;34m\u001b[0m\u001b[0m\n\u001b[1;32m     27\u001b[0m \u001b[0;32mif\u001b[0m \u001b[0mactual\u001b[0m \u001b[0;34m==\u001b[0m \u001b[0mexpected\u001b[0m\u001b[0;34m:\u001b[0m\u001b[0;34m\u001b[0m\u001b[0;34m\u001b[0m\u001b[0m\n",
            "\u001b[0;32m<ipython-input-43-c51ca4274e8e>\u001b[0m in \u001b[0;36mcheck_values\u001b[0;34m(firstname, surname, birthdate, postcode)\u001b[0m\n\u001b[1;32m     14\u001b[0m   \u001b[0mperson\u001b[0m\u001b[0;34m[\u001b[0m\u001b[0;34m\"postcode\"\u001b[0m\u001b[0;34m]\u001b[0m \u001b[0;34m=\u001b[0m \u001b[0;34m\"AB5 3DF\"\u001b[0m\u001b[0;34m\u001b[0m\u001b[0;34m\u001b[0m\u001b[0m\n\u001b[1;32m     15\u001b[0m   \u001b[0mnow\u001b[0m \u001b[0;34m=\u001b[0m \u001b[0mdatetime\u001b[0m\u001b[0;34m.\u001b[0m\u001b[0mnow\u001b[0m\u001b[0;34m(\u001b[0m\u001b[0;34m)\u001b[0m\u001b[0;34m\u001b[0m\u001b[0;34m\u001b[0m\u001b[0m\n\u001b[0;32m---> 16\u001b[0;31m   \u001b[0mperson\u001b[0m\u001b[0;34m[\u001b[0m\u001b[0;34m\"age\"\u001b[0m\u001b[0;34m]\u001b[0m \u001b[0;34m=\u001b[0m \u001b[0mnow\u001b[0m \u001b[0;34m-\u001b[0m \u001b[0mbirthdate\u001b[0m\u001b[0;34m\u001b[0m\u001b[0;34m\u001b[0m\u001b[0m\n\u001b[0m\u001b[1;32m     17\u001b[0m   \u001b[0;32mif\u001b[0m \u001b[0mperson\u001b[0m\u001b[0;34m[\u001b[0m\u001b[0;34m\"age\"\u001b[0m\u001b[0;34m]\u001b[0m \u001b[0;34m<\u001b[0m\u001b[0;36m17\u001b[0m\u001b[0;34m:\u001b[0m\u001b[0;34m\u001b[0m\u001b[0;34m\u001b[0m\u001b[0m\n\u001b[1;32m     18\u001b[0m     \u001b[0mprint\u001b[0m\u001b[0;34m(\u001b[0m\u001b[0;34m\"You are too young to drive\"\u001b[0m\u001b[0;34m)\u001b[0m\u001b[0;34m\u001b[0m\u001b[0;34m\u001b[0m\u001b[0m\n",
            "\u001b[0;31mTypeError\u001b[0m: unsupported operand type(s) for -: 'datetime.datetime' and 'str'"
          ]
        }
      ]
    },
    {
      "cell_type": "markdown",
      "metadata": {
        "id": "I6dUiRwn7Gkg"
      },
      "source": [
        "---\n",
        "### Exercise 4 - print keys and values\n",
        "\n",
        "Two dictionaries have been created below.  You can print a list of the dictionary's keys using `dictionary_name.keys()` and the values using `dictionary_name.values()`\n",
        "\n",
        "Write a function which will accept a dictionary as a parameter and will:  \n",
        "*  print the dictionary keys as a list   \n",
        "*  print the dictionary values as a list  \n",
        "\n",
        "*Hint*:  you will need to cast the keys as a list (`list(dictionary_name.keys()`)  and do the same for the values.\n"
      ]
    },
    {
      "cell_type": "code",
      "metadata": {
        "id": "FApOckhJEsMs",
        "colab": {
          "base_uri": "https://localhost:8080/"
        },
        "outputId": "9de09a16-80c1-4d1d-b910-dabd86e12ee0"
      },
      "source": [
        "def display_dictionary(subject):\n",
        "  #add your code below this line\n",
        "  english_scores = {'Andy': 95, 'Angela': 53}\n",
        "  maths_scores = {'Andy': 58, 'Angela': 72}\n",
        "  print(list(english_scores.keys()))\n",
        "  print(list(english_scores.values()))\n",
        "  print(list(maths_scores.keys()))\n",
        "  print(list(maths_scores.values()))  #I NEED TO GET THESE TO PRINT OUT ON A SINGLE LINE\n",
        "       \n",
        "\n",
        "\n",
        "# run and test the function display_dictionary()\n",
        "actual = display_dictionary(\"English\")\n",
        "expected = ([\"Andy\",\"Angela\"],[95, 53])\n",
        "if actual == expected:\n",
        "  print(\"Test 1 passed\", actual)\n",
        "else:\n",
        "  print(\"Test 1 failed\", \"should be\", expected, \"got\", actual)\n",
        "\n",
        "# run and test the function display_dictionary()\n",
        "actual = display_dictionary(\"Maths\")\n",
        "expected = ([\"Andy\",\"Angela\"],[58,72])\n",
        "if actual == expected:\n",
        "  print(\"Test 2 passed\", actual)\n",
        "else:\n",
        "  print(\"Test 2 failed\", \"should be\", expected, \"got\", actual)"
      ],
      "execution_count": 54,
      "outputs": [
        {
          "output_type": "stream",
          "name": "stdout",
          "text": [
            "['Andy', 'Angela']\n",
            "[95, 53]\n",
            "['Andy', 'Angela']\n",
            "[58, 72]\n",
            "Test 1 failed should be (['Andy', 'Angela'], [95, 53]) got None\n",
            "['Andy', 'Angela']\n",
            "[95, 53]\n",
            "['Andy', 'Angela']\n",
            "[58, 72]\n",
            "Test 2 failed should be (['Andy', 'Angela'], [58, 72]) got None\n"
          ]
        }
      ]
    },
    {
      "cell_type": "markdown",
      "metadata": {
        "id": "segSpkmBFSJl"
      },
      "source": [
        "---\n",
        "### Exercise 5 - add field\n",
        "\n",
        "Write a function which will:\n",
        "\n",
        "*  create a new dictionary called **science_scores** with values of 0 for both Andy and Angela\n",
        "*  update Andy's score for science to 73 and Angela's score to 75   \n",
        "*  create a new key/value pair by adding another learner to the `science_scores`  dictionary (George has a score of 55)    \n",
        "*  return the `science_scores` dictionary  \n",
        "\n",
        "Expected Output\n",
        "\n",
        "{'Andy': 73, 'Angela': 73, 'George': 55}"
      ]
    },
    {
      "cell_type": "code",
      "metadata": {
        "id": "BL1JM-Z7Gttf",
        "colab": {
          "base_uri": "https://localhost:8080/"
        },
        "outputId": "b9ba2db9-f913-474b-dccd-b87faf7795c7"
      },
      "source": [
        "def get_science_scores():\n",
        "  #write a function to create a dictionary, add data and print it.\n",
        "  science_scores = {\"Andy\" : \"0\", \"Angela\" : \"0\"}\n",
        "  science_scores[\"Andy\"] = 73\n",
        "  science_scores[\"Angela\"] = 75\n",
        "  science_scores[\"George\"] = 55\n",
        "  return science_scores\n",
        "\n",
        "\n",
        "# run and test\n",
        "actual = get_science_scores()\n",
        "expected = {'Andy': 73, 'Angela': 75, 'George': 55}\n",
        "if actual == expected:\n",
        "  print(\"Test passed\", actual)\n",
        "else:\n",
        "  print(\"Test failed\", \"should be\", expected, \"got\",actual)"
      ],
      "execution_count": 55,
      "outputs": [
        {
          "output_type": "stream",
          "name": "stdout",
          "text": [
            "Test passed {'Andy': 73, 'Angela': 75, 'George': 55}\n"
          ]
        }
      ]
    },
    {
      "cell_type": "markdown",
      "metadata": {
        "id": "_Vzv0zlHGt-C"
      },
      "source": [
        "---\n",
        "### Exercise 6 - loop through keys/value pairs\n",
        "\n",
        "Write a function which will use a *for* loop to print the each key/value pair in the science dictionary (recreate the science_score dictionary in this function) \n",
        "\n",
        "*(Hint: you can iterate through the key/value pairs in the dictionary in the same way as you iterate through a loop (e.g. for record in dictionary) and print the record (which is the key) and its value)*\n",
        "\n",
        "**Expected output**:  \n",
        "Andy 73  \n",
        "Angela 75   \n",
        "George 55  "
      ]
    },
    {
      "cell_type": "code",
      "metadata": {
        "id": "JL40_-W-Hxnt",
        "colab": {
          "base_uri": "https://localhost:8080/",
          "height": 321
        },
        "outputId": "b003fc99-ec14-47f2-87c7-0536bc12bdc2"
      },
      "source": [
        "def loop_through_dict():\n",
        "  #write a function to iterate through key/value pairs\n",
        "  science_scores = {\"Andy\" : \"0\", \"Angela\" : \"0\"}\n",
        "  science_scores[\"Andy\"] = 73\n",
        "  science_scores[\"Angela\"] = 75\n",
        "  science_scores[\"George\"] = 55\n",
        "  # get_science_scores() this didn't work so I used the cheat above just tp recreate the \n",
        "  \n",
        "  for key, value in science_scores:\n",
        "    print(key, value)\n",
        "\n",
        "\n",
        "\n",
        "loop_through_dict()"
      ],
      "execution_count": 75,
      "outputs": [
        {
          "output_type": "error",
          "ename": "ValueError",
          "evalue": "ignored",
          "traceback": [
            "\u001b[0;31m---------------------------------------------------------------------------\u001b[0m",
            "\u001b[0;31mValueError\u001b[0m                                Traceback (most recent call last)",
            "\u001b[0;32m<ipython-input-75-c7f671e607b0>\u001b[0m in \u001b[0;36m<module>\u001b[0;34m()\u001b[0m\n\u001b[1;32m     12\u001b[0m \u001b[0;34m\u001b[0m\u001b[0m\n\u001b[1;32m     13\u001b[0m \u001b[0;34m\u001b[0m\u001b[0m\n\u001b[0;32m---> 14\u001b[0;31m \u001b[0mloop_through_dict\u001b[0m\u001b[0;34m(\u001b[0m\u001b[0;34m)\u001b[0m\u001b[0;34m\u001b[0m\u001b[0;34m\u001b[0m\u001b[0m\n\u001b[0m",
            "\u001b[0;32m<ipython-input-75-c7f671e607b0>\u001b[0m in \u001b[0;36mloop_through_dict\u001b[0;34m()\u001b[0m\n\u001b[1;32m      7\u001b[0m   \u001b[0;31m# get_science_scores() this didn't work so I used the cheat above just tp recreate the\u001b[0m\u001b[0;34m\u001b[0m\u001b[0;34m\u001b[0m\u001b[0;34m\u001b[0m\u001b[0m\n\u001b[1;32m      8\u001b[0m \u001b[0;34m\u001b[0m\u001b[0m\n\u001b[0;32m----> 9\u001b[0;31m   \u001b[0;32mfor\u001b[0m \u001b[0;34m(\u001b[0m\u001b[0mkey\u001b[0m\u001b[0;34m,\u001b[0m \u001b[0mvalue\u001b[0m\u001b[0;34m)\u001b[0m \u001b[0;32min\u001b[0m \u001b[0mscience_scores\u001b[0m\u001b[0;34m:\u001b[0m\u001b[0;34m\u001b[0m\u001b[0;34m\u001b[0m\u001b[0m\n\u001b[0m\u001b[1;32m     10\u001b[0m     \u001b[0mprint\u001b[0m\u001b[0;34m(\u001b[0m\u001b[0mkey\u001b[0m\u001b[0;34m,\u001b[0m \u001b[0mvalue\u001b[0m\u001b[0;34m)\u001b[0m\u001b[0;34m\u001b[0m\u001b[0;34m\u001b[0m\u001b[0m\n\u001b[1;32m     11\u001b[0m \u001b[0;34m\u001b[0m\u001b[0m\n",
            "\u001b[0;31mValueError\u001b[0m: too many values to unpack (expected 2)"
          ]
        }
      ]
    },
    {
      "cell_type": "markdown",
      "metadata": {
        "id": "G9wamxzRJdrE"
      },
      "source": [
        "---\n",
        "### Exercise 7 - generate new dictionary  \n",
        "\n",
        "Write a function which will:\n",
        "*  create a new dictionary where the keys are numbers between 1 and 15 (both included) and the values are square of keys\n",
        "*  print the dictionary\n",
        "\n",
        "Expected output:  \n",
        "{1: 1, 2: 4, 3: 9, 4: 16, 5: 25, 6: 36, 7: 49, 8: 64, 9: 81, 10: 100, 11: 121, 12: 144, 13: 169, 14: 196, 15: 225}"
      ]
    },
    {
      "cell_type": "code",
      "metadata": {
        "id": "1-LI-LVrJ--N"
      },
      "source": [
        "def generate_dict():\n",
        "  #write a function to create a new dictionary with numerical keys and print it\n",
        "  \n",
        "\n",
        "  \n",
        "# run and test the function generate_dict()\n",
        "actual = generate_dict()\n",
        "expected = {1: 1, 2: 4, 3: 9, 4: 16, 5: 25, 6: 36, 7: 49, 8: 64, 9: 81, 10: 100, 11: 121, 12: 144, 13: 169, 14: 196, 15: 225}\n",
        "if actual == expected:\n",
        "  print(\"Test passed\", actual)\n",
        "else:\n",
        "  print(\"Test failed\", \"expected\", expected, \"got\", actual)"
      ],
      "execution_count": null,
      "outputs": []
    },
    {
      "cell_type": "markdown",
      "metadata": {
        "id": "t0y4mefwJ_jQ"
      },
      "source": [
        "---\n",
        "### Exercise 8 - colour dictionary  \n",
        "\n",
        "Write a function which will:  \n",
        "*  create a new dictionary record called colour_codes with the values 'red' - '#FF0000', 'green' - '#008000', 'black' - '#000000', 'white' - '#FFFFFF'\n",
        "*  add a new colour code:  'blue' - '#0000FF'    \n",
        "*  remove the colours black and white from the dictionary  \n",
        "*  return the final version of the dictionary\n",
        "\n",
        "*Hint:  there is a list of methods [here](https://www.w3schools.com/python/python_ref_dictionary.asp)*  "
      ]
    },
    {
      "cell_type": "code",
      "metadata": {
        "id": "yod1mUNOMeWg"
      },
      "source": [
        "def get_colour_codes():\n",
        "  # write a function that will create a new dictionary and store colour codes in key value pairs and edit it\n",
        "\n",
        "\n",
        "# run and test the function get_colour_codes()\n",
        "actual = get_colour_codes()\n",
        "expected = {'red':'#FF0000','green':'#008000','blue':'#0000FF'}\n",
        "if actual == expected:\n",
        "  print(\"Test passed\", actual)\n",
        "else:\n",
        "  print(\"Test failed\", \"expected\", expected, \"got\", actual)"
      ],
      "execution_count": null,
      "outputs": []
    },
    {
      "cell_type": "markdown",
      "metadata": {
        "id": "pQV2NO8umBSk"
      },
      "source": [
        "# Reflection\n",
        "----\n",
        "\n",
        "## What you learnt through completing this notebook?"
      ]
    },
    {
      "cell_type": "markdown",
      "metadata": {
        "id": "NUVvt2r0mCKq"
      },
      "source": [
        "Your answer:"
      ]
    },
    {
      "cell_type": "markdown",
      "metadata": {
        "id": "SOrbWOuFmObq"
      },
      "source": [
        "## What caused you the most difficulty?"
      ]
    },
    {
      "cell_type": "markdown",
      "metadata": {
        "id": "G_eGng1GmO78"
      },
      "source": [
        "Your answer: Understanding what we were supposed to do. I didn't think the instructions were clear enough for people that have as little experience with Python as I do. \n",
        "\n",
        "Errors in the test code for Exercise 3"
      ]
    }
  ]
}