{
  "nbformat": 4,
  "nbformat_minor": 0,
  "metadata": {
    "colab": {
      "name": "Dictionaries.ipynb",
      "provenance": [],
      "collapsed_sections": [],
      "include_colab_link": true
    },
    "kernelspec": {
      "name": "python3",
      "display_name": "Python 3"
    },
    "language_info": {
      "name": "python"
    }
  },
  "cells": [
    {
      "cell_type": "markdown",
      "metadata": {
        "id": "view-in-github",
        "colab_type": "text"
      },
      "source": [
        "<a href=\"https://colab.research.google.com/github/claret003/pythoncourse/blob/main/Worksheets/Dictionaries.ipynb\" target=\"_parent\"><img src=\"https://colab.research.google.com/assets/colab-badge.svg\" alt=\"Open In Colab\"/></a>"
      ]
    },
    {
      "cell_type": "markdown",
      "metadata": {
        "id": "AiiF1h2X4PHP"
      },
      "source": [
        "# Dictionaries\n",
        "\n",
        "---\n",
        "\n",
        "A **dictionary** is a collection of dissimilar data stored together in one *record*. Each item of data has a  (or key) that describes its paired value.  \n",
        "\n",
        "Create a dictionary object by declaring the set of keys and values, e.g.:\n",
        "\n",
        "```\n",
        "   transport = {\n",
        "       \"type\":\"bus\",\n",
        "       \"numPassengers\":72,\n",
        "       \"colour\":\"blue\",\n",
        "       \"fuel\":\"diesel\"\n",
        "   }\n",
        "```\n",
        "\n",
        "To access or change a value in a dictionary, use its key:  \n",
        "\n",
        "```\n",
        "transport[\"type\"] = \"coach\"\n",
        "transport_type = transport[\"type\"]\n",
        "transport_colour = transport[\"colour\"]\n",
        "transport[\"fuel\"] = petrol\n",
        "```\n",
        "\n",
        "To add a new key/value pair to a dictionary, simply assign a value to a new key:  \n",
        "```\n",
        "transport[\"seats\"] = 54\n",
        "```\n",
        "\n",
        "The transport dictionary will now look like this:  \n",
        "```\n",
        "   transport = {\n",
        "       \"type\":\"bus\",\n",
        "       \"numPassengers\":72,\n",
        "       \"colour\":\"blue\",\n",
        "       \"fuel\":\"diesel\",\n",
        "       \"seats\":54\n",
        "   }\n",
        "```\n",
        "\n"
      ]
    },
    {
      "cell_type": "markdown",
      "metadata": {
        "id": "1uZ5kNWB6CqK"
      },
      "source": [
        "---\n",
        "### Exercise 1 - print dictionary\n",
        "\n",
        "Write a function which will:  \n",
        "\n",
        "*  create an empty dictionary for a person (name, age and postcode, with values \"\", 0 and \"\")\n",
        "*  set the name value to \"Jack Jones\"\n",
        "*  set the age value to 16\n",
        "*  set the postcode value \"AB5 3DF\"  \n",
        "*  print the dictionary\n",
        "\n",
        "Expected output:  \n",
        "[\"name\":\"Jack Jones\", \"age\":16, \"postcode\":\"AB5 3DF\"]"
      ]
    },
    {
      "cell_type": "code",
      "metadata": {
        "id": "Ac7VQTj94Mrc",
        "colab": {
          "base_uri": "https://localhost:8080/"
        },
        "outputId": "4c96f433-07fd-4fdd-df9b-4790f2a157bc"
      },
      "source": [
        "def print_dict():\n",
        "  #write a function that will create an empty dictionary and print it\n",
        "  person = {\"name\" : \"\" , \"age\" : \"0\", \"postcode\" : \"\"}\n",
        "  person[\"name\"] = \"Jack Jones\"\n",
        "  person[\"age\"] = \"16\"\n",
        "  person[\"postcode\"] = \"AB5 3DF\"\n",
        "  print(person)\n",
        "\n",
        "\n",
        "# run the function print_dict()\n",
        "print_dict()"
      ],
      "execution_count": 4,
      "outputs": [
        {
          "output_type": "stream",
          "name": "stdout",
          "text": [
            "{'name': 'Jack Jones', 'age': '16', 'postcode': 'AB5 3DF'}\n"
          ]
        }
      ]
    },
    {
      "cell_type": "markdown",
      "metadata": {
        "id": "0OtNqNKv7WKm"
      },
      "source": [
        "---\n",
        "### Exercise 2 - create a dictionary\n",
        "\n",
        "Write a function that will create two dictionaries,without values:  \n",
        "\n",
        "1.  person (with keys firstname, surname, birthdate, postcode)  \n",
        "2.  car (with key/value pairs as follows:  make - Vauxhall, model - Corsa, engineSize - 1199, fuelType - unleaded, num_doors - 4)  \n",
        "\n",
        "*   assign values for the person dictionary as below:  \n",
        "Jack  \n",
        "Jones  \n",
        "2006/02/02    \n",
        "AB5 3DF\n",
        "*   return a string containing the person's full name from the person dictionary and the make of the car from the car dictionary.\n"
      ]
    },
    {
      "cell_type": "code",
      "metadata": {
        "id": "ZyqhaBCC-GdI",
        "colab": {
          "base_uri": "https://localhost:8080/"
        },
        "outputId": "8b0fc519-d173-4f9a-c2dd-8c9160497d4a"
      },
      "source": [
        "from datetime import datetime\n",
        "\n",
        "def create_two_dicts():\n",
        "  #write a function that will create two dictionaries and create inputs\n",
        "  person ={\"firstname\" : \"\", \"surname\" :\"\", \"birthdate\" :\"\", \"postcode\" :\"\"}\n",
        "  car = {\"make\" : \"Vauxhall\", \"model\" : \"Corsa\", \"engineSize\" : \"1199\", \"fuelType\" : \"unleaded\", \"num_doors\" : \"4\"}\n",
        "  person[\"firstname\"] = \"Jack\"\n",
        "  person[\"surname\"] = \"Jones\"\n",
        "  person[\"postcode\"] = \"AB5 3DF\"\n",
        "  person[\"birthdate\"] = datetime(2006,2,2)\n",
        "  return person, car\n",
        "\n",
        "# run and test the function create_two_dicts()\n",
        "actual = create_two_dicts()\n",
        "expected = \"Jack Jones Vauxhall\"\n",
        "if actual == expected:\n",
        "  print(\"Test passed\", actual)\n",
        "else:\n",
        "  print(\"Test failed\", \"should be\", expected, \"but was\", actual) #I DON'T UNDERSTAND HOW THIS TEST FAILED WHEN THE OUTPUT IS THE SAME AS THE EXPECTED??"
      ],
      "execution_count": 122,
      "outputs": [
        {
          "output_type": "stream",
          "name": "stdout",
          "text": [
            "Test failed should be Jack Jones Vauxhall but was ({'firstname': 'Jack', 'surname': 'Jones', 'birthdate': datetime.datetime(2006, 2, 2, 0, 0), 'postcode': 'AB5 3DF'}, {'make': 'Vauxhall', 'model': 'Corsa', 'engineSize': '1199', 'fuelType': 'unleaded', 'num_doors': '4'})\n"
          ]
        }
      ]
    },
    {
      "cell_type": "markdown",
      "metadata": {
        "id": "gYuuOUYw-G4I"
      },
      "source": [
        "---\n",
        "### Exercise 3 - check dictionary values\n",
        "\n",
        "Write a new function which will:\n",
        "\n",
        "*  set up the same two dictionaries as in Exercise 2   \n",
        "*  fill in the person data from the function's parameters  \n",
        "*  if the person is under 17 then print a message to say that they can't buy a car as they are too young to drive\n",
        "*  else if the person is under 25 then print a message to say that an engine size under 1200 is recommended  \n",
        "*  assign the make of car from the final parameter  \n",
        "*  if the car is the same make as that stored in the car record, then return a message to say that you have a car of that make in stock near the user's postcode\n",
        "*  else (if the user enters any other car make) then return a message to say sorry that you don't have any cars of that make in stock near the user's postcode\n",
        "\n",
        "\n",
        "Test input:  \n",
        "John  \n",
        "Jones  \n",
        "2004/02/02  \n",
        "AB5 3DF  \n",
        "Ford  \n",
        "\n",
        "Expected output:  \n",
        "An engine size under 1200 is recommended  \n",
        "Sorry, we don't have any of that make in stock  \n"
      ]
    },
    {
      "cell_type": "code",
      "metadata": {
        "id": "Wp9Il2JG_hDh",
        "colab": {
          "base_uri": "https://localhost:8080/"
        },
        "outputId": "078bea32-8f94-45d8-cdf4-9ef8a4236bba"
      },
      "source": [
        "from datetime import datetime, timedelta\n",
        "\n",
        "\n",
        "def check_values(firstname, surname, birthdate, postcode, make):\n",
        "  #write a function that will calculate age based on a given date\n",
        "  person ={\"firstname\" : \"\", \"surname\" :\"\", \"birthdate\" :\"\", \"postcode\" :\"\"}\n",
        "  car = {\"make\" : \"Vauxhall\", \"model\" : \"Corsa\", \"engineSize\" : \"1199\", \"fuelType\" : \"unleaded\", \"num_doors\" : \"4\"}\n",
        "    \n",
        "  person[\"firstname\"] = firstname\n",
        "  person[\"surname\"] = surname\n",
        "  person[\"birthdate\"] = birthdate\n",
        "  person[\"postcode\"] = postcode\n",
        "  now = datetime.now()\n",
        "  person[\"age\"] = (now - person[\"birthdate\"]) // timedelta(days=365.2425)\n",
        "  print(person[\"age\"])\n",
        "  if person[\"age\"] <17:\n",
        "    return \"You are too young to drive\"\n",
        "  elif person[\"age\"] <25:\n",
        "    if car[\"make\"] == make:\n",
        "     return \"An engine size under 1200 is recommended. We have one \" + car[make] + \" in stock near \" + person[\"postcode\"]\n",
        "    else: \n",
        "      return \"An engine size under 1200 is recommended. Sorry we don't have any of that make in stock near \" + person[\"postcode\"]\n",
        "  else:\n",
        "    if car[\"make\"] == make:\n",
        "     return \"We have one \" + car[make] + \" in stock near \" + person[\"postcode\"]\n",
        "    else: \n",
        "      return \"Sorry we don't have any of that make in stock near \" + person[\"postcode\"]     \n",
        "\n",
        "    \n",
        "\n",
        "#I'M GIVING UP ON THIS!\n",
        "\n",
        "# run and test the function check_values() where the person is under 17\n",
        "actual = check_values(\"Jack\", \"Jones\", datetime(2006,2,2), \"AB5 3DF\", \"Vauxhall\")\n",
        "expected = \"You are too young to drive\"\n",
        "if actual == expected:\n",
        "  print(\"Test 1 passed\", actual)\n",
        "else:\n",
        "  print(\"Test 1 failed\", \"Should be\", expected, \"got\", actual)\n",
        "\n",
        "  # run and test the function check_values() where the person is between 17 and 25\n",
        "actual = check_values(\"John\", \"Jones\", datetime(2002,2,2), \"AB5 3DF\", \"Ford\")\n",
        "expected = \"An engine size under 1200 is recommended. We have one Vauxhall in stock near AB5 3DF\"\n",
        "if actual == expected:\n",
        "  print(\"Test 2 passed\", actual)\n",
        "else:\n",
        "  print(\"Test 2 failed\", \"Should be\", expected, \"got\", actual)\n",
        "\n",
        "# run and test the function check_values()\n",
        "actual = check_values(\"John\", \"Jones\", datetime(1994,2,2), \"AB5 3DF\", \"Ford\")\n",
        "expected = \"An engine size under 1200 is recommended. Sorry, we don't have any of that make in stock near AB5 3DF\"\n",
        "if actual == expected:\n",
        "  print(\"Test 3 passed\", actual)\n",
        "else:\n",
        "  print(\"Test 3 failed\", \"Should be\", expected, \"got\", actual)"
      ],
      "execution_count": 140,
      "outputs": [
        {
          "output_type": "stream",
          "name": "stdout",
          "text": [
            "15\n",
            "Test 1 passed You are too young to drive\n",
            "19\n",
            "Test 2 failed Should be An engine size under 1200 is recommended. We have one Vauxhall in stock near AB5 3DF got An engine size under 1200 is recommended. Sorry we don't have any of that make in stock near AB5 3DF\n",
            "27\n",
            "Test 3 failed Should be An engine size under 1200 is recommended. Sorry, we don't have any of that make in stock near AB5 3DF got Sorry we don't have any of that make in stock near AB5 3DF\n"
          ]
        }
      ]
    },
    {
      "cell_type": "markdown",
      "metadata": {
        "id": "I6dUiRwn7Gkg"
      },
      "source": [
        "---\n",
        "### Exercise 4 - print keys and values\n",
        "\n",
        "Two dictionaries have been created below.  You can print a list of the dictionary's keys using `dictionary_name.keys()` and the values using `dictionary_name.values()`\n",
        "\n",
        "Write a function which will accept a dictionary as a parameter and will:  \n",
        "*  print the dictionary keys as a list   \n",
        "*  print the dictionary values as a list  \n",
        "\n",
        "*Hint*:  you will need to cast the keys as a list (`list(dictionary_name.keys()`)  and do the same for the values.\n"
      ]
    },
    {
      "cell_type": "code",
      "metadata": {
        "id": "FApOckhJEsMs",
        "colab": {
          "base_uri": "https://localhost:8080/"
        },
        "outputId": "84bfb0f6-9408-4ca9-860c-bdd4d81ae5eb"
      },
      "source": [
        "def display_dictionary(subject):\n",
        "  #add your code below this line\n",
        "  english_scores = {'Andy': 95, 'Angela': 53}\n",
        "  maths_scores = {'Andy': 58, 'Angela': 72}\n",
        "  return list(english_scores.keys()) , list(english_scores.values())\n",
        "  return list(maths_scores.keys()) , list(maths_scores.values())  # WHY IS IT PULLING THROUGH THE ENGLISH SCORES WHEN THE CODE IS FOR MATHS VALUES????\n",
        "  \n",
        "       \n",
        "# run and test the function display_dictionary()\n",
        "actual = display_dictionary(\"English\")\n",
        "expected = ([\"Andy\",\"Angela\"],[95, 53])\n",
        "if actual == expected:\n",
        "  print(\"Test 1 passed\", actual)\n",
        "else:\n",
        "  print(\"Test 1 failed\", \"should be\", expected, \"got\", actual)\n",
        "\n",
        "# run and test the function display_dictionary()\n",
        "actual = display_dictionary(\"Maths\")\n",
        "expected = ([\"Andy\",\"Angela\"],[58,72])\n",
        "if actual == expected:\n",
        "  print(\"Test 2 passed\", actual)\n",
        "else:\n",
        "  print(\"Test 2 failed\", \"should be\", expected, \"got\", actual)"
      ],
      "execution_count": 176,
      "outputs": [
        {
          "output_type": "stream",
          "name": "stdout",
          "text": [
            "Test 1 passed (['Andy', 'Angela'], [95, 53])\n",
            "Test 2 failed should be (['Andy', 'Angela'], [58, 72]) got (['Andy', 'Angela'], [95, 53])\n"
          ]
        }
      ]
    },
    {
      "cell_type": "markdown",
      "metadata": {
        "id": "segSpkmBFSJl"
      },
      "source": [
        "---\n",
        "### Exercise 5 - add field\n",
        "\n",
        "Write a function which will:\n",
        "\n",
        "*  create a new dictionary called **science_scores** with values of 0 for both Andy and Angela\n",
        "*  update Andy's score for science to 73 and Angela's score to 75   \n",
        "*  create a new key/value pair by adding another learner to the `science_scores`  dictionary (George has a score of 55)    \n",
        "*  return the `science_scores` dictionary  \n",
        "\n",
        "Expected Output\n",
        "\n",
        "{'Andy': 73, 'Angela': 73, 'George': 55}"
      ]
    },
    {
      "cell_type": "code",
      "metadata": {
        "id": "BL1JM-Z7Gttf",
        "colab": {
          "base_uri": "https://localhost:8080/"
        },
        "outputId": "b9ba2db9-f913-474b-dccd-b87faf7795c7"
      },
      "source": [
        "def get_science_scores():\n",
        "  #write a function to create a dictionary, add data and print it.\n",
        "  science_scores = {\"Andy\" : \"0\", \"Angela\" : \"0\"}\n",
        "  science_scores[\"Andy\"] = 73\n",
        "  science_scores[\"Angela\"] = 75\n",
        "  science_scores[\"George\"] = 55\n",
        "  return science_scores\n",
        "\n",
        "\n",
        "# run and test\n",
        "actual = get_science_scores()\n",
        "expected = {'Andy': 73, 'Angela': 75, 'George': 55}\n",
        "if actual == expected:\n",
        "  print(\"Test passed\", actual)\n",
        "else:\n",
        "  print(\"Test failed\", \"should be\", expected, \"got\",actual)"
      ],
      "execution_count": 55,
      "outputs": [
        {
          "output_type": "stream",
          "name": "stdout",
          "text": [
            "Test passed {'Andy': 73, 'Angela': 75, 'George': 55}\n"
          ]
        }
      ]
    },
    {
      "cell_type": "markdown",
      "metadata": {
        "id": "_Vzv0zlHGt-C"
      },
      "source": [
        "---\n",
        "### Exercise 6 - loop through keys/value pairs\n",
        "\n",
        "Write a function which will use a *for* loop to print the each key/value pair in the science dictionary (recreate the science_score dictionary in this function) \n",
        "\n",
        "*(Hint: you can iterate through the key/value pairs in the dictionary in the same way as you iterate through a loop (e.g. for record in dictionary) and print the record (which is the key) and its value)*\n",
        "\n",
        "**Expected output**:  \n",
        "Andy 73  \n",
        "Angela 75   \n",
        "George 55  "
      ]
    },
    {
      "cell_type": "code",
      "metadata": {
        "id": "JL40_-W-Hxnt",
        "colab": {
          "base_uri": "https://localhost:8080/"
        },
        "outputId": "968b68b8-c9cc-4130-d1b7-ef6059b427db"
      },
      "source": [
        "def loop_through_dict():\n",
        "  #write a function to iterate through key/value pairs\n",
        "  science_scores = get_science_scores()\n",
        "  for student in science_scores:\n",
        "    print(student,science_scores) # I EXPECTED THIS TO PROVIDE EACH INDIVIDUALLY...RATHER THAN GIVE ALL THREE SCORES AGAINST EACH NAME\n",
        "  \n",
        "\n",
        "\n",
        "  # the code below provides a list of names, but not scores....\n",
        "  # science_scores = {\"Andy\" : \"0\", \"Angela\" : \"0\"}\n",
        "  # science_scores[\"Andy\"] = 73\n",
        "  # science_scores[\"Angela\"] = 75\n",
        "  # science_scores[\"George\"] = 55\n",
        "  # for (record) in science_scores:\n",
        "  #   print (record)\n",
        "\n",
        "\n",
        "#I tried changing the last part of the code block above to this to add in values but it didn't work\n",
        "    # for (record, value) in science_scores:    \n",
        "  #   print (record, value)\n",
        "\n",
        "\n",
        "\n",
        "loop_through_dict()"
      ],
      "execution_count": 195,
      "outputs": [
        {
          "output_type": "stream",
          "name": "stdout",
          "text": [
            "Andy {'Andy': 73, 'Angela': 75, 'George': 55}\n",
            "Angela {'Andy': 73, 'Angela': 75, 'George': 55}\n",
            "George {'Andy': 73, 'Angela': 75, 'George': 55}\n"
          ]
        }
      ]
    },
    {
      "cell_type": "markdown",
      "metadata": {
        "id": "G9wamxzRJdrE"
      },
      "source": [
        "---\n",
        "### Exercise 7 - generate new dictionary  \n",
        "\n",
        "Write a function which will:\n",
        "*  create a new dictionary where the keys are numbers between 1 and 15 (both included) and the values are square of keys\n",
        "*  print the dictionary\n",
        "\n",
        "Expected output:  \n",
        "{1: 1, 2: 4, 3: 9, 4: 16, 5: 25, 6: 36, 7: 49, 8: 64, 9: 81, 10: 100, 11: 121, 12: 144, 13: 169, 14: 196, 15: 225}"
      ]
    },
    {
      "cell_type": "code",
      "metadata": {
        "id": "1-LI-LVrJ--N",
        "colab": {
          "base_uri": "https://localhost:8080/",
          "height": 374
        },
        "outputId": "32115856-a793-4367-b90c-2ff8399160ef"
      },
      "source": [
        "# I WAS TRYING TO ADD EACH 1-15 NUMBER TO THE DICTIONARY USING A WHILE LOOP, BUT IT I THINK I'M JUST OVERWRITING EACH TIME, AND AS A RESULT HAVE CREATED AN INFINITE LOOP. CAN'T FIGURE OUT HOW TO ADD TO THE DICTIONARY TRIED TO .APPEND BUT IT DIDN'T SEEM TO WORK\n",
        "\n",
        "def generate_dict():\n",
        "  #write a function to create a new dictionary with numerical keys and print it\n",
        "  dict = {}\n",
        "  key =1\n",
        "  dict[\"key\"] = key\n",
        "  dict[\"value\"] = key^2\n",
        "  while key <=15:\n",
        "    dict[\"key\"] = key # THIS IS THE BIT WHERE I WANT TO ADD TO THE LIST OF KEYS TO THE EXISTING DICTIONARY, ALSO TRIED A .APPEND APPROACH BUT THIS DIDN'T WORK EITHER\n",
        "    key =+1\n",
        "  return dictionary  \n",
        "\n",
        "  \n",
        "# run and test the function generate_dict()\n",
        "actual = generate_dict()\n",
        "expected = {1: 1, 2: 4, 3: 9, 4: 16, 5: 25, 6: 36, 7: 49, 8: 64, 9: 81, 10: 100, 11: 121, 12: 144, 13: 169, 14: 196, 15: 225}\n",
        "if actual == expected:\n",
        "  print(\"Test passed\", actual)\n",
        "else:\n",
        "  print(\"Test failed\", \"expected\", expected, \"got\", actual)"
      ],
      "execution_count": 174,
      "outputs": [
        {
          "output_type": "error",
          "ename": "KeyboardInterrupt",
          "evalue": "ignored",
          "traceback": [
            "\u001b[0;31m---------------------------------------------------------------------------\u001b[0m",
            "\u001b[0;31mKeyboardInterrupt\u001b[0m                         Traceback (most recent call last)",
            "\u001b[0;32m<ipython-input-174-89cf76f267fc>\u001b[0m in \u001b[0;36m<module>\u001b[0;34m()\u001b[0m\n\u001b[1;32m     14\u001b[0m \u001b[0;34m\u001b[0m\u001b[0m\n\u001b[1;32m     15\u001b[0m \u001b[0;31m# run and test the function generate_dict()\u001b[0m\u001b[0;34m\u001b[0m\u001b[0;34m\u001b[0m\u001b[0;34m\u001b[0m\u001b[0m\n\u001b[0;32m---> 16\u001b[0;31m \u001b[0mactual\u001b[0m \u001b[0;34m=\u001b[0m \u001b[0mgenerate_dict\u001b[0m\u001b[0;34m(\u001b[0m\u001b[0;34m)\u001b[0m\u001b[0;34m\u001b[0m\u001b[0;34m\u001b[0m\u001b[0m\n\u001b[0m\u001b[1;32m     17\u001b[0m \u001b[0mexpected\u001b[0m \u001b[0;34m=\u001b[0m \u001b[0;34m{\u001b[0m\u001b[0;36m1\u001b[0m\u001b[0;34m:\u001b[0m \u001b[0;36m1\u001b[0m\u001b[0;34m,\u001b[0m \u001b[0;36m2\u001b[0m\u001b[0;34m:\u001b[0m \u001b[0;36m4\u001b[0m\u001b[0;34m,\u001b[0m \u001b[0;36m3\u001b[0m\u001b[0;34m:\u001b[0m \u001b[0;36m9\u001b[0m\u001b[0;34m,\u001b[0m \u001b[0;36m4\u001b[0m\u001b[0;34m:\u001b[0m \u001b[0;36m16\u001b[0m\u001b[0;34m,\u001b[0m \u001b[0;36m5\u001b[0m\u001b[0;34m:\u001b[0m \u001b[0;36m25\u001b[0m\u001b[0;34m,\u001b[0m \u001b[0;36m6\u001b[0m\u001b[0;34m:\u001b[0m \u001b[0;36m36\u001b[0m\u001b[0;34m,\u001b[0m \u001b[0;36m7\u001b[0m\u001b[0;34m:\u001b[0m \u001b[0;36m49\u001b[0m\u001b[0;34m,\u001b[0m \u001b[0;36m8\u001b[0m\u001b[0;34m:\u001b[0m \u001b[0;36m64\u001b[0m\u001b[0;34m,\u001b[0m \u001b[0;36m9\u001b[0m\u001b[0;34m:\u001b[0m \u001b[0;36m81\u001b[0m\u001b[0;34m,\u001b[0m \u001b[0;36m10\u001b[0m\u001b[0;34m:\u001b[0m \u001b[0;36m100\u001b[0m\u001b[0;34m,\u001b[0m \u001b[0;36m11\u001b[0m\u001b[0;34m:\u001b[0m \u001b[0;36m121\u001b[0m\u001b[0;34m,\u001b[0m \u001b[0;36m12\u001b[0m\u001b[0;34m:\u001b[0m \u001b[0;36m144\u001b[0m\u001b[0;34m,\u001b[0m \u001b[0;36m13\u001b[0m\u001b[0;34m:\u001b[0m \u001b[0;36m169\u001b[0m\u001b[0;34m,\u001b[0m \u001b[0;36m14\u001b[0m\u001b[0;34m:\u001b[0m \u001b[0;36m196\u001b[0m\u001b[0;34m,\u001b[0m \u001b[0;36m15\u001b[0m\u001b[0;34m:\u001b[0m \u001b[0;36m225\u001b[0m\u001b[0;34m}\u001b[0m\u001b[0;34m\u001b[0m\u001b[0;34m\u001b[0m\u001b[0m\n\u001b[1;32m     18\u001b[0m \u001b[0;32mif\u001b[0m \u001b[0mactual\u001b[0m \u001b[0;34m==\u001b[0m \u001b[0mexpected\u001b[0m\u001b[0;34m:\u001b[0m\u001b[0;34m\u001b[0m\u001b[0;34m\u001b[0m\u001b[0m\n",
            "\u001b[0;32m<ipython-input-174-89cf76f267fc>\u001b[0m in \u001b[0;36mgenerate_dict\u001b[0;34m()\u001b[0m\n\u001b[1;32m      8\u001b[0m   \u001b[0mdict\u001b[0m\u001b[0;34m[\u001b[0m\u001b[0;34m\"value\"\u001b[0m\u001b[0;34m]\u001b[0m \u001b[0;34m=\u001b[0m \u001b[0mkey\u001b[0m\u001b[0;34m^\u001b[0m\u001b[0;36m2\u001b[0m\u001b[0;34m\u001b[0m\u001b[0;34m\u001b[0m\u001b[0m\n\u001b[1;32m      9\u001b[0m   \u001b[0;32mwhile\u001b[0m \u001b[0mkey\u001b[0m \u001b[0;34m<=\u001b[0m\u001b[0;36m15\u001b[0m\u001b[0;34m:\u001b[0m\u001b[0;34m\u001b[0m\u001b[0;34m\u001b[0m\u001b[0m\n\u001b[0;32m---> 10\u001b[0;31m     \u001b[0mdict\u001b[0m\u001b[0;34m[\u001b[0m\u001b[0;34m\"key\"\u001b[0m\u001b[0;34m]\u001b[0m \u001b[0;34m=\u001b[0m \u001b[0mkey\u001b[0m \u001b[0;31m# THIS IS THE BIT WHERE I WANT TO ADD TO THE LIST OF KEYS\u001b[0m\u001b[0;34m\u001b[0m\u001b[0;34m\u001b[0m\u001b[0m\n\u001b[0m\u001b[1;32m     11\u001b[0m     \u001b[0mkey\u001b[0m \u001b[0;34m=\u001b[0m\u001b[0;34m+\u001b[0m\u001b[0;36m1\u001b[0m\u001b[0;34m\u001b[0m\u001b[0;34m\u001b[0m\u001b[0m\n\u001b[1;32m     12\u001b[0m   \u001b[0;32mreturn\u001b[0m \u001b[0mdictionary\u001b[0m\u001b[0;34m\u001b[0m\u001b[0;34m\u001b[0m\u001b[0m\n",
            "\u001b[0;31mKeyboardInterrupt\u001b[0m: "
          ]
        }
      ]
    },
    {
      "cell_type": "markdown",
      "metadata": {
        "id": "t0y4mefwJ_jQ"
      },
      "source": [
        "---\n",
        "### Exercise 8 - colour dictionary  \n",
        "\n",
        "Write a function which will:  \n",
        "*  create a new dictionary record called colour_codes with the values 'red' - '#FF0000', 'green' - '#008000', 'black' - '#000000', 'white' - '#FFFFFF'\n",
        "*  add a new colour code:  'blue' - '#0000FF'    \n",
        "*  remove the colours black and white from the dictionary  \n",
        "*  return the final version of the dictionary\n",
        "\n",
        "*Hint:  there is a list of methods [here](https://www.w3schools.com/python/python_ref_dictionary.asp)*  "
      ]
    },
    {
      "cell_type": "code",
      "metadata": {
        "id": "yod1mUNOMeWg",
        "colab": {
          "base_uri": "https://localhost:8080/"
        },
        "outputId": "b3ce2e5b-54e2-4d22-a4ae-c10d4c745113"
      },
      "source": [
        "def get_colour_codes():\n",
        "  # write a function that will create a new dictionary and store colour codes in key value pairs and edit it\n",
        "  colour_codes = {\"red\" : \"#FF000\", \"green\" : \"#008000\", \"black\" : \"#000000\" , \"white\" : \"#FFFFFF\"}\n",
        "  colour_codes[\"blue\"] = \"#0000FF\"\n",
        "  colour_codes.pop(\"black\")\n",
        "  colour_codes.pop(\"white\")\n",
        "  return colour_codes # DON'T UNDERSTAND HOW TEST FAILED, OUTPUT IS AS EXPECTED\n",
        "\n",
        "\n",
        "# run and test the function get_colour_codes()\n",
        "actual = get_colour_codes()\n",
        "expected = {'red':'#FF0000','green':'#008000','blue':'#0000FF'}\n",
        "if actual == expected:\n",
        "  print(\"Test passed\", actual)\n",
        "else:\n",
        "  print(\"Test failed\", \"expected\", expected, \"got\", actual)"
      ],
      "execution_count": 86,
      "outputs": [
        {
          "output_type": "stream",
          "name": "stdout",
          "text": [
            "Test failed expected {'red': '#FF0000', 'green': '#008000', 'blue': '#0000FF'} got {'red': '#FF000', 'green': '#008000', 'blue': '#0000FF'}\n"
          ]
        }
      ]
    },
    {
      "cell_type": "markdown",
      "metadata": {
        "id": "pQV2NO8umBSk"
      },
      "source": [
        "# Reflection\n",
        "----\n",
        "\n",
        "## What you learnt through completing this notebook?"
      ]
    },
    {
      "cell_type": "markdown",
      "metadata": {
        "id": "NUVvt2r0mCKq"
      },
      "source": [
        "Your answer: when defining functions, don't put in your own values, refer to the variable names that will then be pulled in when you use the function for real."
      ]
    },
    {
      "cell_type": "markdown",
      "metadata": {
        "id": "SOrbWOuFmObq"
      },
      "source": [
        "## What caused you the most difficulty?"
      ]
    },
    {
      "cell_type": "markdown",
      "metadata": {
        "id": "G_eGng1GmO78"
      },
      "source": [
        "Your answer: Understanding what we were supposed to do. I didn't think the instructions were clear enough for people that have as little experience with Python as I do. \n",
        "\n",
        "Errors in the test code for Exercise 3"
      ]
    }
  ]
}