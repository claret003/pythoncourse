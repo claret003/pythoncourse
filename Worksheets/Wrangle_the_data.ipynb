{
  "nbformat": 4,
  "nbformat_minor": 0,
  "metadata": {
    "colab": {
      "name": "Wrangle-the-data.ipynb",
      "provenance": [],
      "collapsed_sections": [],
      "include_colab_link": true
    },
    "kernelspec": {
      "name": "python3",
      "display_name": "Python 3"
    },
    "language_info": {
      "name": "python"
    }
  },
  "cells": [
    {
      "cell_type": "markdown",
      "metadata": {
        "id": "view-in-github",
        "colab_type": "text"
      },
      "source": [
        "<a href=\"https://colab.research.google.com/github/claret003/pythoncourse/blob/main/Worksheets/Wrangle_the_data.ipynb\" target=\"_parent\"><img src=\"https://colab.research.google.com/assets/colab-badge.svg\" alt=\"Open In Colab\"/></a>"
      ]
    },
    {
      "cell_type": "markdown",
      "metadata": {
        "id": "BKBQIxC4YPKX"
      },
      "source": [
        "# Merging dataframes, creating new columns, replacing with default or correctly formatted values\n",
        "---\n",
        "\n",
        "## Merging dataframes\n",
        "\n",
        "We often want to use data from a set of different data files, or a set of dataframes we have prepared, to combine into one dataframe.\n",
        "\n",
        "### To merge two dataframes together when both dataframes have column headings in common\n",
        "\n",
        "If `df1` and `df2` have some column headings in common, to combine the two into one dataframe we use:  \n",
        "\n",
        "`pd.concat([dataframes to combine])`\n",
        "\n",
        "This will create a new dataframe with all columns from the original two dataframes, which we can store in a new variable for later use.  Missing values are filled with null values. \n",
        "\n",
        "If we want only the column headings that appear in both tables, we can use join='inner':\n",
        "\n",
        "`pd.concat([dataframes to combine], join='inner')` \n",
        "\n",
        "We may also need to refactor the indexing, where two tables are indexed from 0 upwards, adding the two tables together will result in multiple occurences of the same index.  This can be overcome by using ignore_index=True:\n",
        "\n",
        "`pd.concat([dataframes to combine], join='inner', ignore_index=True)`\n",
        "\n",
        "\n"
      ]
    },
    {
      "cell_type": "markdown",
      "metadata": {
        "id": "g0mUEA5ugGyJ"
      },
      "source": [
        "### Exercise 1 - combine the two data sets\n",
        "\n",
        "The Excel file at this URL https://github.com/futureCodersSE/working-with-data/blob/main/Data%20sets/Income-Data.xlsx?raw=true contains TWO data sheets named county-level and state-level.  \n",
        "\n",
        "Read the county-level sheet into a dataframe called **county_level_df** \n",
        "Read the state-level sheet into a dataframe called **state_level_df** \n",
        "\n",
        "Write a function called **combine_whole** which: \n",
        "\n",
        "Uses `pd.concat([list of dataframes])` to combine the two dataframes into a new dataframe called **income_df**, filling missing values with null values.  \n"
      ]
    },
    {
      "cell_type": "code",
      "metadata": {
        "id": "s6qHNDn-YN0i",
        "colab": {
          "base_uri": "https://localhost:8080/",
          "height": 241
        },
        "outputId": "d115d8e6-cf75-41b4-a814-6a9032b80b70"
      },
      "source": [
        "import pandas as pd\n",
        "\n",
        "\n",
        "county_level_df = pd.read_excel('https://github.com/futureCodersSE/working-with-data/blob/main/Data%20sets/Income-Data.xlsx?raw=true', sheet_name = 'county-level')\n",
        "state_level_df = pd.read_excel('https://github.com/futureCodersSE/working-with-data/blob/main/Data%20sets/Income-Data.xlsx?raw=true', sheet_name = 'state-level')\n",
        "\n",
        "def combine_whole():\n",
        "  # add code to combine the 2 dataframes, filling missing values with NA\n",
        "  return pd.concat([county_level_df, state_level_df])\n",
        "  \n",
        "  # create new dataframe from your function above \n",
        "income_df = combine_whole()\n",
        "\n",
        "\n",
        "# run and test to check your new dataframe contains null values \n",
        "actual = income_df.isnull().values.any()\n",
        "expected = True \n",
        "\n",
        "if actual == expected:\n",
        "  print(\"Test passed\", actual)\n",
        "else:\n",
        "  print(\"Test failed, expected\", expected, \"got\", actual)\n",
        "\n",
        "print(income_df.shape)\n",
        "income_df.head()\n"
      ],
      "execution_count": 26,
      "outputs": [
        {
          "output_type": "stream",
          "name": "stdout",
          "text": [
            "Test passed True\n",
            "(23, 7)\n"
          ]
        },
        {
          "output_type": "execute_result",
          "data": {
            "text/html": [
              "<div>\n",
              "<style scoped>\n",
              "    .dataframe tbody tr th:only-of-type {\n",
              "        vertical-align: middle;\n",
              "    }\n",
              "\n",
              "    .dataframe tbody tr th {\n",
              "        vertical-align: top;\n",
              "    }\n",
              "\n",
              "    .dataframe thead th {\n",
              "        text-align: right;\n",
              "    }\n",
              "</style>\n",
              "<table border=\"1\" class=\"dataframe\">\n",
              "  <thead>\n",
              "    <tr style=\"text-align: right;\">\n",
              "      <th></th>\n",
              "      <th>State</th>\n",
              "      <th>County</th>\n",
              "      <th>Population</th>\n",
              "      <th>Age</th>\n",
              "      <th>Income</th>\n",
              "      <th>Pop</th>\n",
              "      <th>Education</th>\n",
              "    </tr>\n",
              "  </thead>\n",
              "  <tbody>\n",
              "    <tr>\n",
              "      <th>0</th>\n",
              "      <td>TX</td>\n",
              "      <td>1.0</td>\n",
              "      <td>72.0</td>\n",
              "      <td>34</td>\n",
              "      <td>65</td>\n",
              "      <td>NaN</td>\n",
              "      <td>NaN</td>\n",
              "    </tr>\n",
              "    <tr>\n",
              "      <th>1</th>\n",
              "      <td>TX</td>\n",
              "      <td>2.0</td>\n",
              "      <td>33.0</td>\n",
              "      <td>42</td>\n",
              "      <td>45</td>\n",
              "      <td>NaN</td>\n",
              "      <td>NaN</td>\n",
              "    </tr>\n",
              "    <tr>\n",
              "      <th>2</th>\n",
              "      <td>TX</td>\n",
              "      <td>5.0</td>\n",
              "      <td>25.0</td>\n",
              "      <td>23</td>\n",
              "      <td>46</td>\n",
              "      <td>NaN</td>\n",
              "      <td>NaN</td>\n",
              "    </tr>\n",
              "    <tr>\n",
              "      <th>3</th>\n",
              "      <td>TX</td>\n",
              "      <td>6.0</td>\n",
              "      <td>54.0</td>\n",
              "      <td>36</td>\n",
              "      <td>65</td>\n",
              "      <td>NaN</td>\n",
              "      <td>NaN</td>\n",
              "    </tr>\n",
              "    <tr>\n",
              "      <th>4</th>\n",
              "      <td>TX</td>\n",
              "      <td>7.0</td>\n",
              "      <td>11.0</td>\n",
              "      <td>42</td>\n",
              "      <td>53</td>\n",
              "      <td>NaN</td>\n",
              "      <td>NaN</td>\n",
              "    </tr>\n",
              "  </tbody>\n",
              "</table>\n",
              "</div>"
            ],
            "text/plain": [
              "  State  County  Population  Age  Income  Pop  Education\n",
              "0    TX     1.0        72.0   34      65  NaN        NaN\n",
              "1    TX     2.0        33.0   42      45  NaN        NaN\n",
              "2    TX     5.0        25.0   23      46  NaN        NaN\n",
              "3    TX     6.0        54.0   36      65  NaN        NaN\n",
              "4    TX     7.0        11.0   42      53  NaN        NaN"
            ]
          },
          "metadata": {},
          "execution_count": 26
        }
      ]
    },
    {
      "cell_type": "markdown",
      "metadata": {
        "id": "aekH_ewx7FM3"
      },
      "source": [
        "### Exercise 2 - ignoring index to get a new indexing system\n",
        "---\n",
        "\n",
        "All rows in each dataframe are indexed from 0 to one less than the number of rows.  You may have noticed that the concatenation in the previous exercise has kept the indexing from the individual tables.  \n",
        "\n",
        "If we are making a new table it may make sense to create a new set of indices, from 0 to one less than the length of the new table.   Do this by adding an extra paramater ignore_index=True.  ignore_index is False by default and all original indices are kept.\n",
        "\n",
        "We can also use `join='inner'` to only join columns which are common to both tables\n",
        "\n",
        "Write a function called **combine_common** which will: \n",
        "\n",
        "Combine the dataframes `county_level_df` and `state_level_df` into a new dataframe called `income_df`, adding the parameter `ignore_index=True` and join via inner join. \n"
      ]
    },
    {
      "cell_type": "code",
      "metadata": {
        "id": "Z5ABjwed8Rpo",
        "colab": {
          "base_uri": "https://localhost:8080/",
          "height": 241
        },
        "outputId": "3db91e8a-96e7-4052-9ed8-5c2099d6c7f5"
      },
      "source": [
        "def combine_common():\n",
        "  # add code to combine the 2 dataframes ignoring index and using inner join\n",
        "  return pd.concat([county_level_df, state_level_df],join = 'inner', ignore_index= True)\n",
        "\n",
        "# create new dataframe from your function above \n",
        "income_df = combine_common()\n",
        "\n",
        "\n",
        "# run and test to check your new dataframe ends with the correct index and has the right number of columns \n",
        "actual = income_df.index[-1]\n",
        "expected = 22\n",
        "\n",
        "if actual == expected and len(income_df.columns) == 3:\n",
        "  print(\"Test passed\", actual)\n",
        "else:\n",
        "  print(\"Test failed, expected last row index of\", expected, \"got\", actual, \"and expected 3 columns but got\", len(income_df.columns))\n",
        "\n",
        "print(income_df.shape)\n",
        "income_df.head()"
      ],
      "execution_count": 27,
      "outputs": [
        {
          "output_type": "stream",
          "name": "stdout",
          "text": [
            "Test passed 22\n",
            "(23, 3)\n"
          ]
        },
        {
          "output_type": "execute_result",
          "data": {
            "text/html": [
              "<div>\n",
              "<style scoped>\n",
              "    .dataframe tbody tr th:only-of-type {\n",
              "        vertical-align: middle;\n",
              "    }\n",
              "\n",
              "    .dataframe tbody tr th {\n",
              "        vertical-align: top;\n",
              "    }\n",
              "\n",
              "    .dataframe thead th {\n",
              "        text-align: right;\n",
              "    }\n",
              "</style>\n",
              "<table border=\"1\" class=\"dataframe\">\n",
              "  <thead>\n",
              "    <tr style=\"text-align: right;\">\n",
              "      <th></th>\n",
              "      <th>State</th>\n",
              "      <th>Age</th>\n",
              "      <th>Income</th>\n",
              "    </tr>\n",
              "  </thead>\n",
              "  <tbody>\n",
              "    <tr>\n",
              "      <th>0</th>\n",
              "      <td>TX</td>\n",
              "      <td>34</td>\n",
              "      <td>65</td>\n",
              "    </tr>\n",
              "    <tr>\n",
              "      <th>1</th>\n",
              "      <td>TX</td>\n",
              "      <td>42</td>\n",
              "      <td>45</td>\n",
              "    </tr>\n",
              "    <tr>\n",
              "      <th>2</th>\n",
              "      <td>TX</td>\n",
              "      <td>23</td>\n",
              "      <td>46</td>\n",
              "    </tr>\n",
              "    <tr>\n",
              "      <th>3</th>\n",
              "      <td>TX</td>\n",
              "      <td>36</td>\n",
              "      <td>65</td>\n",
              "    </tr>\n",
              "    <tr>\n",
              "      <th>4</th>\n",
              "      <td>TX</td>\n",
              "      <td>42</td>\n",
              "      <td>53</td>\n",
              "    </tr>\n",
              "  </tbody>\n",
              "</table>\n",
              "</div>"
            ],
            "text/plain": [
              "  State  Age  Income\n",
              "0    TX   34      65\n",
              "1    TX   42      45\n",
              "2    TX   23      46\n",
              "3    TX   36      65\n",
              "4    TX   42      53"
            ]
          },
          "metadata": {},
          "execution_count": 27
        }
      ]
    },
    {
      "cell_type": "markdown",
      "metadata": {
        "id": "4QAJS3TJCz_p"
      },
      "source": [
        "# Appending rows to a dataframe\n",
        "\n",
        "Where two dataframes have matching columns, we can append one to the other to add the records from one onto the end of the other.\n",
        "\n",
        "We do this using dataframe.append()\n",
        "\n",
        "`income_2 = income.append()`"
      ]
    },
    {
      "cell_type": "markdown",
      "metadata": {
        "id": "Cwarv13blWyg"
      },
      "source": [
        "### Exercise 3 - add new rows to the end of the income dataframe\n",
        "\n",
        "The sheet `income` in the Excel data file has 10 further records showing State, Age and Income only, so this table matches the income dataframe exactly.\n",
        "\n",
        "Read the data from sheet_name `income` in the same Excel data file into a new dataframe called **income_new**.  \n",
        " \n",
        "Write a function called **combine_income** which will: \n",
        "\n",
        "Append this dataframe to the `income_df` dataframe to form a new dataframe called **income_df_v2**.  Use the ignore_index=True parameter to reindex.  \n"
      ]
    },
    {
      "cell_type": "code",
      "metadata": {
        "id": "Exik-fYQ_ORy",
        "colab": {
          "base_uri": "https://localhost:8080/",
          "height": 258
        },
        "outputId": "42eb81e9-e06b-4412-833c-8cea788e1de4"
      },
      "source": [
        "income_new = pd.read_excel('https://github.com/futureCodersSE/working-with-data/blob/main/Data%20sets/Income-Data.xlsx?raw=true', sheet_name = 'income')\n",
        "def combine_income():\n",
        "  # add code below to join the income_new dataframe with the income_df dataframe ignoring the index\n",
        "  return income_df.append(income_new, ignore_index = True)\n",
        "\n",
        "# save returned dataframe in a variable\n",
        "income_df_v2 = combine_income()\n",
        "\n",
        "# run and test to see if new dataframe has correct number of columns and correct indexing \n",
        "actual = income_df_v2.index[-1]\n",
        "expected = 32\n",
        "\n",
        "if actual == expected and len(income_df_v2.columns) == 4:\n",
        "  print(\"Test passed\", actual)\n",
        "else:\n",
        "  print(\"Test failed, expected last row index of\", expected, \"got\", actual, \"and expected 4 columns but got\", len(income_df_v2.columns))\n",
        "\n",
        "print(income_df.shape)\n",
        "print(income_df_v2.shape)\n",
        "income_df_v2.head()"
      ],
      "execution_count": 30,
      "outputs": [
        {
          "output_type": "stream",
          "name": "stdout",
          "text": [
            "Test passed 32\n",
            "(23, 3)\n",
            "(33, 4)\n"
          ]
        },
        {
          "output_type": "execute_result",
          "data": {
            "text/html": [
              "<div>\n",
              "<style scoped>\n",
              "    .dataframe tbody tr th:only-of-type {\n",
              "        vertical-align: middle;\n",
              "    }\n",
              "\n",
              "    .dataframe tbody tr th {\n",
              "        vertical-align: top;\n",
              "    }\n",
              "\n",
              "    .dataframe thead th {\n",
              "        text-align: right;\n",
              "    }\n",
              "</style>\n",
              "<table border=\"1\" class=\"dataframe\">\n",
              "  <thead>\n",
              "    <tr style=\"text-align: right;\">\n",
              "      <th></th>\n",
              "      <th>State</th>\n",
              "      <th>Age</th>\n",
              "      <th>Income</th>\n",
              "      <th>Pop</th>\n",
              "    </tr>\n",
              "  </thead>\n",
              "  <tbody>\n",
              "    <tr>\n",
              "      <th>0</th>\n",
              "      <td>TX</td>\n",
              "      <td>34</td>\n",
              "      <td>65</td>\n",
              "      <td>NaN</td>\n",
              "    </tr>\n",
              "    <tr>\n",
              "      <th>1</th>\n",
              "      <td>TX</td>\n",
              "      <td>42</td>\n",
              "      <td>45</td>\n",
              "      <td>NaN</td>\n",
              "    </tr>\n",
              "    <tr>\n",
              "      <th>2</th>\n",
              "      <td>TX</td>\n",
              "      <td>23</td>\n",
              "      <td>46</td>\n",
              "      <td>NaN</td>\n",
              "    </tr>\n",
              "    <tr>\n",
              "      <th>3</th>\n",
              "      <td>TX</td>\n",
              "      <td>36</td>\n",
              "      <td>65</td>\n",
              "      <td>NaN</td>\n",
              "    </tr>\n",
              "    <tr>\n",
              "      <th>4</th>\n",
              "      <td>TX</td>\n",
              "      <td>42</td>\n",
              "      <td>53</td>\n",
              "      <td>NaN</td>\n",
              "    </tr>\n",
              "  </tbody>\n",
              "</table>\n",
              "</div>"
            ],
            "text/plain": [
              "  State  Age  Income  Pop\n",
              "0    TX   34      65  NaN\n",
              "1    TX   42      45  NaN\n",
              "2    TX   23      46  NaN\n",
              "3    TX   36      65  NaN\n",
              "4    TX   42      53  NaN"
            ]
          },
          "metadata": {},
          "execution_count": 30
        }
      ]
    },
    {
      "cell_type": "markdown",
      "metadata": {
        "id": "X6W6V8P9Eo2A"
      },
      "source": [
        "### Exercise 4 - Create a new Pop column in county_level_df\n",
        "\n",
        "Looking at the tables country_level_df and state_level_df, each has a column containing data on population.  One column is headed *Population* and the other is headed *Pop*.  Ideally these would be merged into one column and this would minimise the number of NaN entries.  \n",
        "\n",
        "Write a function called **create_pop** that:\n",
        "\n",
        "*  Add a new column called '`Pop`' to the `county_level_df` dataframe which contains a copy of all the values in the '`Population`' column  (`df['new_name'] = df['existing_name']`)  \n",
        "*  Drop the 'Population' column `df.drop([column name], axis=1)` from `county_level_df` and store the result in a new dataframe called **county_level_df_v2**\n",
        "\n"
      ]
    },
    {
      "cell_type": "code",
      "metadata": {
        "id": "Yb_FWSLbG_zo",
        "colab": {
          "base_uri": "https://localhost:8080/",
          "height": 224
        },
        "outputId": "d67f20eb-39e3-4332-e9a1-7455ed3b087f"
      },
      "source": [
        "\n",
        "def create_pop(county_level_df):\n",
        "  # add code below to join the income_new dataframe with the income_df dataframe ignoring the index\n",
        "  county_level_df['Pop'] = state_level_df['Pop'] # creating a new column called population and filling the new population column with the values from state level population column\n",
        "  return county_level_df.drop(['Population'], axis=1) #dropping the original population column, keeping only the new pop column\n",
        "\n",
        "create_pop(county_level_df) \n",
        "\n",
        "# save returned dataframe in a variable\n",
        "county_level_df_v2 = create_pop(county_level_df)\n",
        "\n",
        "# # run and test to see if new dataframe contains pop column and dropped population column \n",
        "if 'Pop' in county_level_df_v2.columns and len(county_level_df_v2.columns) == 5:\n",
        "  print(\"Test passed, contains 5 columns including Pop column\")\n",
        "elif 'Pop' in county_level_df_v2.columns and len(county_level_df_v2.columns) != 5:\n",
        "  print(\"Test not passed, expected 5 columns, instead got\", len(county_level_df_v2.columns))\n",
        "else: \n",
        "  print(\"Test not passed, column Pop not present\")\n",
        "\n",
        "county_level_df_v2.head()\n"
      ],
      "execution_count": 62,
      "outputs": [
        {
          "output_type": "stream",
          "name": "stdout",
          "text": [
            "Test passed, contains 5 columns including Pop column\n"
          ]
        },
        {
          "output_type": "execute_result",
          "data": {
            "text/html": [
              "<div>\n",
              "<style scoped>\n",
              "    .dataframe tbody tr th:only-of-type {\n",
              "        vertical-align: middle;\n",
              "    }\n",
              "\n",
              "    .dataframe tbody tr th {\n",
              "        vertical-align: top;\n",
              "    }\n",
              "\n",
              "    .dataframe thead th {\n",
              "        text-align: right;\n",
              "    }\n",
              "</style>\n",
              "<table border=\"1\" class=\"dataframe\">\n",
              "  <thead>\n",
              "    <tr style=\"text-align: right;\">\n",
              "      <th></th>\n",
              "      <th>State</th>\n",
              "      <th>County</th>\n",
              "      <th>Age</th>\n",
              "      <th>Income</th>\n",
              "      <th>Pop</th>\n",
              "    </tr>\n",
              "  </thead>\n",
              "  <tbody>\n",
              "    <tr>\n",
              "      <th>0</th>\n",
              "      <td>TX</td>\n",
              "      <td>1</td>\n",
              "      <td>34</td>\n",
              "      <td>65</td>\n",
              "      <td>23543.0</td>\n",
              "    </tr>\n",
              "    <tr>\n",
              "      <th>1</th>\n",
              "      <td>TX</td>\n",
              "      <td>2</td>\n",
              "      <td>42</td>\n",
              "      <td>45</td>\n",
              "      <td>10343.0</td>\n",
              "    </tr>\n",
              "    <tr>\n",
              "      <th>2</th>\n",
              "      <td>TX</td>\n",
              "      <td>5</td>\n",
              "      <td>23</td>\n",
              "      <td>46</td>\n",
              "      <td>5231.0</td>\n",
              "    </tr>\n",
              "    <tr>\n",
              "      <th>3</th>\n",
              "      <td>TX</td>\n",
              "      <td>6</td>\n",
              "      <td>36</td>\n",
              "      <td>65</td>\n",
              "      <td>29587.0</td>\n",
              "    </tr>\n",
              "    <tr>\n",
              "      <th>4</th>\n",
              "      <td>TX</td>\n",
              "      <td>7</td>\n",
              "      <td>42</td>\n",
              "      <td>53</td>\n",
              "      <td>18142.0</td>\n",
              "    </tr>\n",
              "  </tbody>\n",
              "</table>\n",
              "</div>"
            ],
            "text/plain": [
              "  State  County  Age  Income      Pop\n",
              "0    TX       1   34      65  23543.0\n",
              "1    TX       2   42      45  10343.0\n",
              "2    TX       5   23      46   5231.0\n",
              "3    TX       6   36      65  29587.0\n",
              "4    TX       7   42      53  18142.0"
            ]
          },
          "metadata": {},
          "execution_count": 62
        }
      ]
    },
    {
      "cell_type": "markdown",
      "metadata": {
        "id": "d9ku407dEU_3"
      },
      "source": [
        "## Exercise 5 - clean up the format of the Pop column in state_level_df\n",
        "\n",
        "Now that both dataframes hava a Pop column, we should make the data consisent in format for both dataframes.\n",
        "\n",
        "In `state_level_df` the values in the `Pop` column are in 1000s.  In `county_level_df_v2` the values in the `Pop` column are actual numbers.  Let's convert the `state_level_df` values from 1000s for consistency.  We can do this by performing an operation on a column ( `df[column name] = df[column name] // 1000 `) \n",
        "\n",
        "first copy the state_level_df into a new variable called **state_level_df_copy** you can do this like: `df_new = df.copy()` \n",
        "\n",
        "Write a function called **clean_pop** which will:\n",
        "\n",
        "*  convert the values in the `Pop` column of the `state_level_df` dataframe from numbers of 1000s to actual numbers, rounding to whole numbers\n",
        "\n"
      ]
    },
    {
      "cell_type": "code",
      "metadata": {
        "id": "k5xM8g68N-wY",
        "colab": {
          "base_uri": "https://localhost:8080/"
        },
        "outputId": "23e47abe-1346-4e7f-affd-743a1158d1d9"
      },
      "source": [
        "state_level_df = pd.read_excel(\"https://github.com/futureCodersSE/working-with-data/blob/main/Data%20sets/Income-Data.xlsx?raw=true\", sheet_name = 'state-level')\n",
        "state_level_df_copy = state_level_df.copy()\n",
        "\n",
        "def clean_pop(df):\n",
        "  #add code below which converts the Pop column to actual numbers rather than 1000s \n",
        "  df['Pop'] = df['Pop'] // 1000\n",
        "  return df\n",
        "  \n",
        "\n",
        "# create new variable \n",
        "state_level_df_v2 = clean_pop(state_level_df_copy)\n",
        "\n",
        "\n",
        "# run and test to see if you've correctly converted the column to 10s instead of 1000s\n",
        "actual = state_level_df_v2['Pop'].max()\n",
        "expected = 29\n",
        "\n",
        "if actual == expected and len(income_df_v2.columns) == 4:\n",
        "  print(\"Test passed\", actual)\n",
        "else:\n",
        "  print(\"Test failed, expected max of\", expected, \"got\", actual)\n"
      ],
      "execution_count": 63,
      "outputs": [
        {
          "output_type": "stream",
          "name": "stdout",
          "text": [
            "Test passed 29\n"
          ]
        }
      ]
    },
    {
      "cell_type": "markdown",
      "metadata": {
        "id": "rRoghwoOilff"
      },
      "source": [
        "### Exercise 6 - combine the two v2 dataframes\n",
        "\n",
        "Write function **combine_v2** which will: \n",
        "\n",
        "Combine `county_level_df_v2` and `state_level_df_v2` to create a new dataframe called **income_df_v3**.  The join type should be 'inner' and ignore_index should be True\n"
      ]
    },
    {
      "cell_type": "code",
      "metadata": {
        "id": "SbSGRddLJXO3",
        "colab": {
          "base_uri": "https://localhost:8080/"
        },
        "outputId": "7f785c12-d7c9-41ad-ad91-5cbad9d9f0ab"
      },
      "source": [
        "def combine_v2():\n",
        "  # return the 2 dataframes combined joined inner and ignoring index \n",
        "  return pd.concat([county_level_df_v2, state_level_df_v2], join='inner', ignore_index=True)\n",
        "\n",
        "# save within a new dataframe\n",
        "income_df_v3 = combine_v2()\n",
        "\n",
        "# run and test if your new dataframe is correct length and has correct number of columns \n",
        "\n",
        "actual = len(income_df_v3)\n",
        "actual2 = len(income_df_v3.columns)\n",
        "expected = 23 \n",
        "expected2 = 4 \n",
        "\n",
        "if actual == expected and actual2 == expected2:\n",
        "  print(\"Test passed\", actual, \"rows and 4 columns\")\n",
        "else:\n",
        "  print(\"Test failed, expected\", expected, \"rows\", expected2, \"columns but got\", actual, \"rows and\", actual2,\"columns\")\n"
      ],
      "execution_count": 64,
      "outputs": [
        {
          "output_type": "stream",
          "name": "stdout",
          "text": [
            "Test passed 23 rows and 4 columns\n"
          ]
        }
      ]
    },
    {
      "cell_type": "markdown",
      "metadata": {
        "id": "wZOHWyPOHkmy"
      },
      "source": [
        "### Exercise 7 - pivot table of state and population \n",
        "---\n",
        "\n",
        "Write a function called **create_pivot** which will:\n",
        "\n",
        "Create a pivot table of `Pop` by `State` and store the result in a new dataframe called **population_pivot**  using `income_df_v3` created in exercise 6\n",
        "\n",
        "To make a pivot table:\n",
        "\n",
        "`df_pivot = pd.pivot_table(\n",
        "      df, \n",
        "      values = 'column1 name',\n",
        "      index = 'column2 name', \n",
        "      columns = 'column3 name',\n",
        "      aggfunc = np.mean\n",
        ")`  \n",
        "If index column is not specified, it will automatically use the existing dataframe index   \n",
        "Make sure to `import numpy as np` if you want to aggregate the means using `aggfunc`. \n",
        "\n",
        "**Test Input**  \n",
        "population_pivot.shape   \n",
        "**Test Output**  \n",
        "(1, 5)\n",
        "\n",
        "\n"
      ]
    },
    {
      "cell_type": "code",
      "metadata": {
        "id": "3ZC9EuabJIGi",
        "colab": {
          "base_uri": "https://localhost:8080/",
          "height": 255
        },
        "outputId": "237d96d4-dc46-4720-d356-4fe0b378a5b7"
      },
      "source": [
        "import numpy as np \n",
        "\n",
        "def create_pivot(df):\n",
        "  #add code below which creates a pivot table of Pop and State \n",
        "  df_pivot = pd.pivot_table( df, values = 'Pop', index = 'State', aggfunc = np.mean )\n",
        "  return df_pivot\n",
        "\n",
        "\n",
        "\n",
        "#save series in a new variable\n",
        "population_pivot = create_pivot(income_df_v3)\n",
        "\n",
        "\n",
        "# run and test if your new series is the correct length\n",
        "actual = len(population_pivot)\n",
        "expected = 5 \n",
        "\n",
        "if actual == expected:\n",
        "  print(\"Test passed\", actual)\n",
        "else:\n",
        "  print(\"Test failed expected\", expected, \"got\", actual)\n",
        "\n",
        "population_pivot"
      ],
      "execution_count": 69,
      "outputs": [
        {
          "output_type": "stream",
          "name": "stdout",
          "text": [
            "Test passed 5\n"
          ]
        },
        {
          "output_type": "execute_result",
          "data": {
            "text/html": [
              "<div>\n",
              "<style scoped>\n",
              "    .dataframe tbody tr th:only-of-type {\n",
              "        vertical-align: middle;\n",
              "    }\n",
              "\n",
              "    .dataframe tbody tr th {\n",
              "        vertical-align: top;\n",
              "    }\n",
              "\n",
              "    .dataframe thead th {\n",
              "        text-align: right;\n",
              "    }\n",
              "</style>\n",
              "<table border=\"1\" class=\"dataframe\">\n",
              "  <thead>\n",
              "    <tr style=\"text-align: right;\">\n",
              "      <th></th>\n",
              "      <th>Pop</th>\n",
              "    </tr>\n",
              "    <tr>\n",
              "      <th>State</th>\n",
              "      <th></th>\n",
              "    </tr>\n",
              "  </thead>\n",
              "  <tbody>\n",
              "    <tr>\n",
              "      <th>CA</th>\n",
              "      <td>29.000000</td>\n",
              "    </tr>\n",
              "    <tr>\n",
              "      <th>IN</th>\n",
              "      <td>5.000000</td>\n",
              "    </tr>\n",
              "    <tr>\n",
              "      <th>MD</th>\n",
              "      <td>10.000000</td>\n",
              "    </tr>\n",
              "    <tr>\n",
              "      <th>NY</th>\n",
              "      <td>18.000000</td>\n",
              "    </tr>\n",
              "    <tr>\n",
              "      <th>TX</th>\n",
              "      <td>14478.166667</td>\n",
              "    </tr>\n",
              "  </tbody>\n",
              "</table>\n",
              "</div>"
            ],
            "text/plain": [
              "                Pop\n",
              "State              \n",
              "CA        29.000000\n",
              "IN         5.000000\n",
              "MD        10.000000\n",
              "NY        18.000000\n",
              "TX     14478.166667"
            ]
          },
          "metadata": {},
          "execution_count": 69
        }
      ]
    },
    {
      "cell_type": "markdown",
      "metadata": {
        "id": "yQyytEbnZ1lw"
      },
      "source": [
        "# Reflection\n",
        "----\n",
        "\n",
        "## What skills have you demonstrated in completing this notebook?"
      ]
    },
    {
      "cell_type": "markdown",
      "metadata": {
        "id": "MM00hR5aZk1-"
      },
      "source": [
        "Your answer: I have learned how to bring togther different bits of data from seperate sources, concatenating to produce a new datatset."
      ]
    },
    {
      "cell_type": "markdown",
      "metadata": {
        "id": "Zgexd27sZ1ly"
      },
      "source": [
        "## What caused you the most difficulty?"
      ]
    },
    {
      "cell_type": "markdown",
      "metadata": {
        "id": "-Y_nrVBwaGXr"
      },
      "source": [
        "Your answer: No major difficulties other than a bit of country versus county confusion! :)"
      ]
    }
  ]
}