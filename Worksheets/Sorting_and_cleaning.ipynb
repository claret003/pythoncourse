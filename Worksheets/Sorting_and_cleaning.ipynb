{
  "nbformat": 4,
  "nbformat_minor": 0,
  "metadata": {
    "colab": {
      "name": "Sorting_and_cleaning.ipynb",
      "provenance": [],
      "collapsed_sections": [],
      "include_colab_link": true
    },
    "kernelspec": {
      "name": "python3",
      "display_name": "Python 3"
    },
    "language_info": {
      "name": "python"
    }
  },
  "cells": [
    {
      "cell_type": "markdown",
      "metadata": {
        "id": "view-in-github",
        "colab_type": "text"
      },
      "source": [
        "<a href=\"https://colab.research.google.com/github/claret003/pythoncourse/blob/main/Worksheets/Sorting_and_cleaning.ipynb\" target=\"_parent\"><img src=\"https://colab.research.google.com/assets/colab-badge.svg\" alt=\"Open In Colab\"/></a>"
      ]
    },
    {
      "cell_type": "markdown",
      "metadata": {
        "id": "4CVoh0pMzW0l"
      },
      "source": [
        "# Sorting and cleaning \n",
        "---\n",
        "\n",
        "\n",
        "\n",
        "In order to effectively analyse a dataset, often we need to prepare it first. \n",
        "Before a dataset is ready to be analysed we might need to:  \n",
        "\n",
        "* sort the data (can be a series or dataframe)  \n",
        "* remove any NaN values or drop NA values   \n",
        "* remove duplicate records (identical rows)  \n",
        "* normalise data in dataframe columns so that has a common scale [reference](https://towardsai.net/p/data-science/how-when-and-why-should-you-normalize-standardize-rescale-your-data-3f083def38ff#:~:text=Similarly%2C%20the%20goal%20of%20normalization,dataset%20does%20not%20require%20normalization.&text=So%20we%20normalize%20the%20data,variables%20to%20the%20same%20range.)\n",
        "\n",
        "## Sorting the data  \n",
        "---\n",
        "\n",
        "\n",
        "Typically we want to sort data by the values in one or more columns in the dataframe  \n",
        "\n",
        "To sort the dataframe by series we use the pandas function **sort_values()**.  \n",
        "\n",
        "By default `sort_values()` sorts into ascending order.\n",
        "\n",
        "* sort by a single column e.g.\n",
        "  * `df.sort_values(\"Make\") `\n",
        "* sort by multiple columns e.g. \n",
        "  * `df.sort_values(by = [\"Model\", \"Make\"]) `\n",
        "    * this sorts by Model, then my Make \n",
        "* sort in *descending* order\n",
        "  * `df.sort_values(by = \"Make\", ascending = False)`\n",
        "  * `df.sort_values(by = [\"Make\", \"Model\"], ascending = False])`  \n",
        "\n",
        "Dataframes are mostly immutable, changes like sort_values do not change the dataframe permanently, they just change it for the time that the instruction is being used.\n",
        "\n",
        "`df.sort_values(by='Make')` *dataframe is now in sorted order and can be copied to a new dataframe*  \n",
        "`df` *original dataframe, df, will be as it was - unsorted* \n",
        "\n",
        "To split the dataframe after sorting, do this in the same instruction, e.g.:\n",
        "\n",
        "`df.sort_values(by = [\"Make\", \"Model\"], ascending = False])[[\"Make\", \"Model\"]]`\n",
        "\n",
        "This sorts on Make and then Model in descending order, then splits off the Make and Model columns.\n",
        "\n",
        "`df.sort_values(by = [\"Make\", \"Model\"], ascending = False])[[\"Make\", \"Model\"]].head()`\n",
        "\n",
        "This sorts on Make and then Model, then splits off the Make and Model columns and then splits off the first 5 rows."
      ]
    },
    {
      "cell_type": "markdown",
      "metadata": {
        "id": "ANKknIx8E-hN"
      },
      "source": [
        "### Exercise 1 - get data, sort by happiness score \n",
        "---\n",
        "\n",
        "Read data into variable called **happiness** from the Excel file on Happiness Data at this link: https://github.com/futureCodersSE/working-with-data/blob/main/Happiness-Data/2015.xlsx?raw=true\n",
        "\n",
        "Write a function called **sorted_rank** to display first 5 rows of data  \n",
        "\n",
        "The data is currently sorted by Happiness Rank...\n",
        "*  sort the data by Happiness Score in ascending order\n",
        "*  display sorted table\n",
        "\n"
      ]
    },
    {
      "cell_type": "code",
      "metadata": {
        "id": "jkvFGvJtHXiH",
        "colab": {
          "base_uri": "https://localhost:8080/",
          "height": 376
        },
        "outputId": "e770d6bc-e4b8-406a-b0f4-ec781841da7b"
      },
      "source": [
        "import pandas as pd\n",
        "happiness = pd.read_excel('https://github.com/futureCodersSE/working-with-data/blob/main/Happiness-Data/2015.xlsx?raw=true')\n",
        "# add code below to return a series sorted by Happiness Score in ascending order\n",
        "#defining the function\n",
        "def sorted_rank(happiness):\n",
        "  sorted = happiness.sort_values(by = \"Happiness Score\", ascending = True)\n",
        "  return sorted.head(6)\n",
        "\n",
        " #calling the function\n",
        "sorted_rank(happiness)\n",
        "\n",
        "# run and test if first row of your series is correct \n",
        "# actual = sorted_rank(happiness).loc[0] # do we need to reference the happiness score column in this test code? Is isn't referring to a particular column as it currently is\n",
        "# expected = 7.587\n",
        "\n",
        "# if actual == expected:\n",
        "#   print(\"Well done, test passed\")\n",
        "# else:\n",
        "#   print(\"Test failed\",\"Should have got\", expected, \"got\", actual)\n",
        "\n",
        "\n"
      ],
      "execution_count": 73,
      "outputs": [
        {
          "output_type": "execute_result",
          "data": {
            "text/html": [
              "<div>\n",
              "<style scoped>\n",
              "    .dataframe tbody tr th:only-of-type {\n",
              "        vertical-align: middle;\n",
              "    }\n",
              "\n",
              "    .dataframe tbody tr th {\n",
              "        vertical-align: top;\n",
              "    }\n",
              "\n",
              "    .dataframe thead th {\n",
              "        text-align: right;\n",
              "    }\n",
              "</style>\n",
              "<table border=\"1\" class=\"dataframe\">\n",
              "  <thead>\n",
              "    <tr style=\"text-align: right;\">\n",
              "      <th></th>\n",
              "      <th>Country</th>\n",
              "      <th>Region</th>\n",
              "      <th>Happiness Rank</th>\n",
              "      <th>Happiness Score</th>\n",
              "      <th>Standard Error</th>\n",
              "      <th>Economy (GDP per Capita)</th>\n",
              "      <th>Family</th>\n",
              "      <th>Health (Life Expectancy)</th>\n",
              "      <th>Freedom</th>\n",
              "      <th>Trust (Government Corruption)</th>\n",
              "      <th>Generosity</th>\n",
              "      <th>Dystopia Residual</th>\n",
              "    </tr>\n",
              "  </thead>\n",
              "  <tbody>\n",
              "    <tr>\n",
              "      <th>157</th>\n",
              "      <td>Togo</td>\n",
              "      <td>Sub-Saharan Africa</td>\n",
              "      <td>158</td>\n",
              "      <td>2.839</td>\n",
              "      <td>0.06727</td>\n",
              "      <td>0.20868</td>\n",
              "      <td>0.13995</td>\n",
              "      <td>0.28443</td>\n",
              "      <td>0.36453</td>\n",
              "      <td>0.10731</td>\n",
              "      <td>0.16681</td>\n",
              "      <td>1.56726</td>\n",
              "    </tr>\n",
              "    <tr>\n",
              "      <th>156</th>\n",
              "      <td>Burundi</td>\n",
              "      <td>Sub-Saharan Africa</td>\n",
              "      <td>157</td>\n",
              "      <td>2.905</td>\n",
              "      <td>0.08658</td>\n",
              "      <td>0.01530</td>\n",
              "      <td>0.41587</td>\n",
              "      <td>0.22396</td>\n",
              "      <td>0.11850</td>\n",
              "      <td>0.10062</td>\n",
              "      <td>0.19727</td>\n",
              "      <td>1.83302</td>\n",
              "    </tr>\n",
              "    <tr>\n",
              "      <th>155</th>\n",
              "      <td>Syria</td>\n",
              "      <td>Middle East and Northern Africa</td>\n",
              "      <td>156</td>\n",
              "      <td>3.006</td>\n",
              "      <td>0.05015</td>\n",
              "      <td>0.66320</td>\n",
              "      <td>0.47489</td>\n",
              "      <td>0.72193</td>\n",
              "      <td>0.15684</td>\n",
              "      <td>0.18906</td>\n",
              "      <td>0.47179</td>\n",
              "      <td>0.32858</td>\n",
              "    </tr>\n",
              "    <tr>\n",
              "      <th>154</th>\n",
              "      <td>Benin</td>\n",
              "      <td>Sub-Saharan Africa</td>\n",
              "      <td>155</td>\n",
              "      <td>3.340</td>\n",
              "      <td>0.03656</td>\n",
              "      <td>0.28665</td>\n",
              "      <td>0.35386</td>\n",
              "      <td>0.31910</td>\n",
              "      <td>0.48450</td>\n",
              "      <td>0.08010</td>\n",
              "      <td>0.18260</td>\n",
              "      <td>1.63328</td>\n",
              "    </tr>\n",
              "    <tr>\n",
              "      <th>153</th>\n",
              "      <td>Rwanda</td>\n",
              "      <td>Sub-Saharan Africa</td>\n",
              "      <td>154</td>\n",
              "      <td>3.465</td>\n",
              "      <td>0.03464</td>\n",
              "      <td>0.22208</td>\n",
              "      <td>0.77370</td>\n",
              "      <td>0.42864</td>\n",
              "      <td>0.59201</td>\n",
              "      <td>0.55191</td>\n",
              "      <td>0.22628</td>\n",
              "      <td>0.67042</td>\n",
              "    </tr>\n",
              "    <tr>\n",
              "      <th>152</th>\n",
              "      <td>Afghanistan</td>\n",
              "      <td>Southern Asia</td>\n",
              "      <td>153</td>\n",
              "      <td>3.575</td>\n",
              "      <td>0.03084</td>\n",
              "      <td>0.31982</td>\n",
              "      <td>0.30285</td>\n",
              "      <td>0.30335</td>\n",
              "      <td>0.23414</td>\n",
              "      <td>0.09719</td>\n",
              "      <td>0.36510</td>\n",
              "      <td>1.95210</td>\n",
              "    </tr>\n",
              "  </tbody>\n",
              "</table>\n",
              "</div>"
            ],
            "text/plain": [
              "         Country  ... Dystopia Residual\n",
              "157         Togo  ...           1.56726\n",
              "156      Burundi  ...           1.83302\n",
              "155        Syria  ...           0.32858\n",
              "154        Benin  ...           1.63328\n",
              "153       Rwanda  ...           0.67042\n",
              "152  Afghanistan  ...           1.95210\n",
              "\n",
              "[6 rows x 12 columns]"
            ]
          },
          "metadata": {},
          "execution_count": 73
        }
      ]
    },
    {
      "cell_type": "markdown",
      "metadata": {
        "id": "5_iomqRTH8LA"
      },
      "source": [
        "### Exercise 2 - sort by multiple columns, display the first 5 rows \n",
        "---\n",
        "\n",
        "Write a function called **get_gdp_health** which:\n",
        "\n",
        "1. sort the data by Economy (GDP per Capita) and Health (Life Expectancy) in ascending order \n",
        "2. display the first 5 rows of sorted data \n"
      ]
    },
    {
      "cell_type": "code",
      "metadata": {
        "id": "b7XalX7OK0u-",
        "colab": {
          "base_uri": "https://localhost:8080/",
          "height": 481
        },
        "outputId": "69017678-78bf-40fd-cfa4-e0b950b68d87"
      },
      "source": [
        "def get_gdp_health(happiness):\n",
        "# add code below to return a 5 row series which sorts rows by Economy and Health in ascending order \n",
        "  health_sorted = happiness.sort_values(by = [\"Economy (GDP per Capita)\",\"Health (Life Expectancy)\"], ascending = True)\n",
        "  return health_sorted.head(6)\n",
        "\n",
        "get_gdp_health(happiness)\n",
        "\n",
        "# run and test whether first row of your series is correct \n",
        "# actual = get_gdp_health(happiness).loc[0]\n",
        "# expected = 7.587\n",
        "\n",
        "# if actual == expected:\n",
        "#   print(\"Well done, test passed\")\n",
        "# else:\n",
        "#   print(\"Test failed\",\"Should have got\", expected, \"got\", actual)\n",
        "\n"
      ],
      "execution_count": 71,
      "outputs": [
        {
          "output_type": "execute_result",
          "data": {
            "text/html": [
              "<div>\n",
              "<style scoped>\n",
              "    .dataframe tbody tr th:only-of-type {\n",
              "        vertical-align: middle;\n",
              "    }\n",
              "\n",
              "    .dataframe tbody tr th {\n",
              "        vertical-align: top;\n",
              "    }\n",
              "\n",
              "    .dataframe thead th {\n",
              "        text-align: right;\n",
              "    }\n",
              "</style>\n",
              "<table border=\"1\" class=\"dataframe\">\n",
              "  <thead>\n",
              "    <tr style=\"text-align: right;\">\n",
              "      <th></th>\n",
              "      <th>Country</th>\n",
              "      <th>Region</th>\n",
              "      <th>Happiness Rank</th>\n",
              "      <th>Happiness Score</th>\n",
              "      <th>Standard Error</th>\n",
              "      <th>Economy (GDP per Capita)</th>\n",
              "      <th>Family</th>\n",
              "      <th>Health (Life Expectancy)</th>\n",
              "      <th>Freedom</th>\n",
              "      <th>Trust (Government Corruption)</th>\n",
              "      <th>Generosity</th>\n",
              "      <th>Dystopia Residual</th>\n",
              "    </tr>\n",
              "  </thead>\n",
              "  <tbody>\n",
              "    <tr>\n",
              "      <th>119</th>\n",
              "      <td>Congo (Kinshasa)</td>\n",
              "      <td>Sub-Saharan Africa</td>\n",
              "      <td>120</td>\n",
              "      <td>4.517</td>\n",
              "      <td>0.03680</td>\n",
              "      <td>0.00000</td>\n",
              "      <td>1.00120</td>\n",
              "      <td>0.09806</td>\n",
              "      <td>0.22605</td>\n",
              "      <td>0.07625</td>\n",
              "      <td>0.24834</td>\n",
              "      <td>2.86712</td>\n",
              "    </tr>\n",
              "    <tr>\n",
              "      <th>156</th>\n",
              "      <td>Burundi</td>\n",
              "      <td>Sub-Saharan Africa</td>\n",
              "      <td>157</td>\n",
              "      <td>2.905</td>\n",
              "      <td>0.08658</td>\n",
              "      <td>0.01530</td>\n",
              "      <td>0.41587</td>\n",
              "      <td>0.22396</td>\n",
              "      <td>0.11850</td>\n",
              "      <td>0.10062</td>\n",
              "      <td>0.19727</td>\n",
              "      <td>1.83302</td>\n",
              "    </tr>\n",
              "    <tr>\n",
              "      <th>130</th>\n",
              "      <td>Malawi</td>\n",
              "      <td>Sub-Saharan Africa</td>\n",
              "      <td>131</td>\n",
              "      <td>4.292</td>\n",
              "      <td>0.06130</td>\n",
              "      <td>0.01604</td>\n",
              "      <td>0.41134</td>\n",
              "      <td>0.22562</td>\n",
              "      <td>0.43054</td>\n",
              "      <td>0.06977</td>\n",
              "      <td>0.33128</td>\n",
              "      <td>2.80791</td>\n",
              "    </tr>\n",
              "    <tr>\n",
              "      <th>143</th>\n",
              "      <td>Niger</td>\n",
              "      <td>Sub-Saharan Africa</td>\n",
              "      <td>144</td>\n",
              "      <td>3.845</td>\n",
              "      <td>0.03602</td>\n",
              "      <td>0.06940</td>\n",
              "      <td>0.77265</td>\n",
              "      <td>0.29707</td>\n",
              "      <td>0.47692</td>\n",
              "      <td>0.15639</td>\n",
              "      <td>0.19387</td>\n",
              "      <td>1.87877</td>\n",
              "    </tr>\n",
              "    <tr>\n",
              "      <th>115</th>\n",
              "      <td>Liberia</td>\n",
              "      <td>Sub-Saharan Africa</td>\n",
              "      <td>116</td>\n",
              "      <td>4.571</td>\n",
              "      <td>0.11068</td>\n",
              "      <td>0.07120</td>\n",
              "      <td>0.78968</td>\n",
              "      <td>0.34201</td>\n",
              "      <td>0.28531</td>\n",
              "      <td>0.06232</td>\n",
              "      <td>0.24362</td>\n",
              "      <td>2.77729</td>\n",
              "    </tr>\n",
              "    <tr>\n",
              "      <th>147</th>\n",
              "      <td>Central African Republic</td>\n",
              "      <td>Sub-Saharan Africa</td>\n",
              "      <td>148</td>\n",
              "      <td>3.678</td>\n",
              "      <td>0.06112</td>\n",
              "      <td>0.07850</td>\n",
              "      <td>0.00000</td>\n",
              "      <td>0.06699</td>\n",
              "      <td>0.48879</td>\n",
              "      <td>0.08289</td>\n",
              "      <td>0.23835</td>\n",
              "      <td>2.72230</td>\n",
              "    </tr>\n",
              "  </tbody>\n",
              "</table>\n",
              "</div>"
            ],
            "text/plain": [
              "                      Country  ... Dystopia Residual\n",
              "119          Congo (Kinshasa)  ...           2.86712\n",
              "156                   Burundi  ...           1.83302\n",
              "130                    Malawi  ...           2.80791\n",
              "143                     Niger  ...           1.87877\n",
              "115                   Liberia  ...           2.77729\n",
              "147  Central African Republic  ...           2.72230\n",
              "\n",
              "[6 rows x 12 columns]"
            ]
          },
          "metadata": {},
          "execution_count": 71
        }
      ]
    },
    {
      "cell_type": "markdown",
      "metadata": {
        "id": "xfQ3cys4LHNc"
      },
      "source": [
        "### Exercise 3 - sorting in descending order \n",
        "---\n",
        "\n",
        "Write a function called **get_descending** which will: \n",
        "\n",
        "Sort the data by Freedom and Trust (Government Corruption) in descending order and show the Country and Region only for the last five rows\n",
        "\n"
      ]
    },
    {
      "cell_type": "code",
      "metadata": {
        "id": "3haPVvX7MCom",
        "colab": {
          "base_uri": "https://localhost:8080/"
        },
        "outputId": "a7a6fb1f-2460-406e-cf2c-b9a18ac0f107"
      },
      "source": [
        "def get_descending(happiness):\n",
        "  #add code below to return a series which contains the last 5 rows of Country and Region sorted by Freedom and Trust in descending order\n",
        "  corrupt_sorted_sliced = happiness.sort_values(by = [\"Freedom\", \"Trust (Government Corruption)\"], ascending = False) [[\"Country\", \"Region\"]].tail(5)\n",
        "  return corrupt_sorted_sliced\n",
        "\n",
        "get_descending(happiness)\n",
        "\n",
        "# run and test to see if length and series are correct \n",
        "actual = get_descending(happiness).index[0] # not sure this test will work becasue we have sliced off the other columns\n",
        "expected = 136\n",
        "\n",
        "if actual == expected and (len(get_descending(happiness)) == 5):\n",
        "  print(\"Test passed\", actual)\n",
        "else:\n",
        "  print(\"Test failed\",\"Should have got\", expected, \"got\", actual, \"and length of series should have been 5 but was\", len(get_descending(happiness)))"
      ],
      "execution_count": 64,
      "outputs": [
        {
          "output_type": "stream",
          "name": "stdout",
          "text": [
            "Test passed 136\n"
          ]
        }
      ]
    },
    {
      "cell_type": "markdown",
      "metadata": {
        "id": "MqnAoELjMDs7"
      },
      "source": [
        "# Cleaning the data\n",
        "\n",
        "Data comes from a range of sources:  forms, monitoring devices, etc.  There will often be missing values, duplicate records and values that are incorrectly formatted.  These can affect summary statistics and graphs plotted from the data.\n",
        "\n",
        "Techniques for data cleansing include:\n",
        "*  removing records with missing or null data (NaN, NA, \"\")\n",
        "*  removing duplicate rows (keeping just one, either the first or the last)\n",
        "\n",
        "Removal of rows according to criteria, or of columns are other ways that data might be cleaned up.  \n"
      ]
    },
    {
      "cell_type": "markdown",
      "metadata": {
        "id": "rVqmfM5wk7NK"
      },
      "source": [
        "---\n",
        "\n",
        "## Removing NaN/Dropping NA values \n",
        "\n",
        "pandas have functions for checking a dataframe, or column, for null values, checking a column for missing values, and functions for dropping all rows that contain null values.\n",
        "\n",
        "* check for NA/NaN/missing values across dataframe (returns True if NA values exist)  \n",
        "  `df.isnull().values.any()`  \n",
        "\n",
        "* check for NA/NaN/missing values in specific column  \n",
        "  `df[\"Make\"].isnull().values.any()`  \n",
        "\n",
        "* drop all rows that have NA/NaN values   \n",
        "  `df.dropna()`  \n",
        "\n",
        "* drop rows where NA/NaN values exist in specific columns  \n",
        "  `df.dropna(subset = [\"Make\", \"Model\"])`  "
      ]
    },
    {
      "cell_type": "markdown",
      "metadata": {
        "id": "DC65hEZGOKNL"
      },
      "source": [
        "### Exercise 4 - check for null values \n",
        "---\n",
        "\n",
        "1. read data into a variable called **housing** from the file housing_in_london_yearly_variables.csv from this link: https://raw.githubusercontent.com/futureCodersSE/working-with-data/main/Data%20sets/housing_in_london_yearly_variables.csv \n",
        "\n",
        "Write a function called **check_null** which will:\n",
        "2. check if any NA values exist in the dataframe and print the result \n",
        "3. use df.info() to see which columns have null entries (*Hint: if the non-null count is less than total entries, column contains missing/NA entries*)  \n"
      ]
    },
    {
      "cell_type": "code",
      "metadata": {
        "id": "U7LYkXDNVVc9",
        "colab": {
          "base_uri": "https://localhost:8080/"
        },
        "outputId": "353e9578-0c1d-47e5-82cf-3cfaac1715c8"
      },
      "source": [
        "housing = pd.read_csv('https://raw.githubusercontent.com/futureCodersSE/working-with-data/main/Data%20sets/housing_in_london_yearly_variables.csv')\n",
        "\n",
        "def check_null(df):\n",
        "  # add code below to return a bool statement for whether or not there are null values \n",
        "  return df.isnull().values.any()\n",
        "\n",
        "check_null(housing)\n",
        "\n",
        "# run and test if you are returning the correct answer\n",
        "actual = check_null(housing)\n",
        "expected = True\n",
        "\n",
        "if actual == expected:\n",
        "  print(\"Test passed\", actual)\n",
        "else:\n",
        "  print(\"Test failed\",\"Should have got\", expected, \"got\", actual)\n",
        "\n",
        "print(housing.info())"
      ],
      "execution_count": 55,
      "outputs": [
        {
          "output_type": "stream",
          "name": "stdout",
          "text": [
            "Test passed True\n",
            "<class 'pandas.core.frame.DataFrame'>\n",
            "RangeIndex: 1071 entries, 0 to 1070\n",
            "Data columns (total 12 columns):\n",
            " #   Column             Non-Null Count  Dtype  \n",
            "---  ------             --------------  -----  \n",
            " 0   code               1071 non-null   object \n",
            " 1   area               1071 non-null   object \n",
            " 2   date               1071 non-null   object \n",
            " 3   median_salary      1049 non-null   float64\n",
            " 4   life_satisfaction  352 non-null    float64\n",
            " 5   mean_salary        1071 non-null   object \n",
            " 6   recycling_pct      860 non-null    object \n",
            " 7   population_size    1018 non-null   float64\n",
            " 8   number_of_jobs     931 non-null    float64\n",
            " 9   area_size          666 non-null    float64\n",
            " 10  no_of_houses       666 non-null    float64\n",
            " 11  borough_flag       1071 non-null   int64  \n",
            "dtypes: float64(6), int64(1), object(5)\n",
            "memory usage: 100.5+ KB\n",
            "None\n"
          ]
        }
      ]
    },
    {
      "cell_type": "markdown",
      "metadata": {
        "id": "BRBLm_bJVItu"
      },
      "source": [
        "### Exercise 5 - remove null values \n",
        "---\n",
        "Write a function called **drop_null** which will:\n",
        "1. remove rows with NA values for `life_satisfaction` (use [ ] even if only one column in list)\n"
      ]
    },
    {
      "cell_type": "code",
      "metadata": {
        "id": "OjZJNIC3QObK",
        "colab": {
          "base_uri": "https://localhost:8080/"
        },
        "outputId": "a0d03bb4-4578-4905-a734-2fcb22f24e3a"
      },
      "source": [
        "def drop_null(df):\n",
        "  # add code which returns a dataframe with rows that contain NA values in the life_satisfaction column removed\n",
        "  return df.dropna(subset = [\"life_satisfaction\"])\n",
        "\n",
        "\n",
        "drop_null(housing)\n",
        "\n",
        "\n",
        "# run and test if you have returned a series with the correct length and first row\n",
        "actual = drop_null(housing).index[0]\n",
        "expected = 613 \n",
        "\n",
        "if actual == expected and len(drop_null(housing)) == 352:\n",
        "  print(\"Test passed\", actual)\n",
        "else:\n",
        "  print(\"Test failed\",\"Should have got\", expected, \"got\", actual, \"and length of series should have been 352 but was\", len(drop_null(housing))) "
      ],
      "execution_count": 67,
      "outputs": [
        {
          "output_type": "stream",
          "name": "stdout",
          "text": [
            "Test passed 613\n"
          ]
        }
      ]
    },
    {
      "cell_type": "markdown",
      "metadata": {
        "id": "ui8HF5z8SiK8"
      },
      "source": [
        "## Dropping duplicates\n",
        "---\n",
        "\n",
        "* To remove duplicate rows based on duplication of values in all columns  \n",
        "  `df.drop_duplicates()`  \n",
        "\n",
        "* To remove rows that have duplicate entries in a specified column  \n",
        "  `df.drop_duplicates(subset = ['Make'])`  \n",
        "\n",
        "* To remove rows that have duplicate entries in multiple columns  \n",
        "  `df.drop_duplicates(subset = ['Make', 'Model'])` \n",
        "\n",
        "* Remove duplicate rows keeping the last instance rather than the first (default):  \n",
        "  `df.drop_duplicates(keep='last')`  "
      ]
    },
    {
      "cell_type": "markdown",
      "metadata": {
        "id": "_2Qf6uMxSb5t"
      },
      "source": [
        "### Exercise 6 - Removing duplicate entries \n",
        "---\n",
        "Write a function called **drop_duplicates** which will: \n",
        "\n",
        "remove duplicate `area` entries keeping first instance  \n"
      ]
    },
    {
      "cell_type": "code",
      "metadata": {
        "id": "OQ8T0tYVQj74",
        "colab": {
          "base_uri": "https://localhost:8080/"
        },
        "outputId": "ac73fe36-f13e-472c-c213-ef5d9025fefe"
      },
      "source": [
        "def drop_duplicates(df):\n",
        "  # add code which returns a dataframe without duplicate area entries with first instance kept \n",
        "  return df.drop_duplicates(subset = ['area'])\n",
        "\n",
        "\n",
        "\n",
        "# run and test if you have returned a series with the correct length and first row\n",
        "actual = drop_duplicates(housing).index[0]\n",
        "expected = 0\n",
        "\n",
        "if actual == expected and len(drop_duplicates(housing)) == 51:\n",
        "  print(\"Test passed\", actual)\n",
        "else:\n",
        "  print(\"Test failed\",\"Should have got\", expected, \"got\", actual, \"and length of series should have been 51 but was\", len(drop_duplicates(housing))) "
      ],
      "execution_count": 62,
      "outputs": [
        {
          "output_type": "stream",
          "name": "stdout",
          "text": [
            "Test passed 0\n"
          ]
        }
      ]
    },
    {
      "cell_type": "markdown",
      "metadata": {
        "id": "yQyytEbnZ1lw"
      },
      "source": [
        "# Reflection\n",
        "----\n",
        "\n",
        "## What skills have you demonstrated in completing this notebook?"
      ]
    },
    {
      "cell_type": "markdown",
      "metadata": {
        "id": "MM00hR5aZk1-"
      },
      "source": [
        "Your answer: Sorting, removing duplications an null values. Defining functions, call functions."
      ]
    },
    {
      "cell_type": "markdown",
      "metadata": {
        "id": "Zgexd27sZ1ly"
      },
      "source": [
        "## What caused you the most difficulty?"
      ]
    },
    {
      "cell_type": "markdown",
      "metadata": {
        "id": "-Y_nrVBwaGXr"
      },
      "source": [
        "Your answer: I had some trouble getting the tests to pass for a couple of exercises. In some cases this was because I was displaying or printing the output rather than returning it. In some cases there might be an issue with the test code itself - I have commented out the test code so you can still see the output."
      ]
    }
  ]
}