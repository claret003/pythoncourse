{
  "nbformat": 4,
  "nbformat_minor": 0,
  "metadata": {
    "colab": {
      "name": "Working with datetime.ipynb",
      "provenance": [],
      "collapsed_sections": [],
      "include_colab_link": true
    },
    "kernelspec": {
      "name": "python3",
      "display_name": "Python 3"
    },
    "language_info": {
      "name": "python"
    }
  },
  "cells": [
    {
      "cell_type": "markdown",
      "metadata": {
        "id": "view-in-github",
        "colab_type": "text"
      },
      "source": [
        "<a href=\"https://colab.research.google.com/github/claret003/pythoncourse/blob/main/Worksheets/Working_with_datetime.ipynb\" target=\"_parent\"><img src=\"https://colab.research.google.com/assets/colab-badge.svg\" alt=\"Open In Colab\"/></a>"
      ]
    },
    {
      "cell_type": "markdown",
      "metadata": {
        "id": "7iQyKP-SQiw1"
      },
      "source": [
        "### Working with the datetime library\n",
        "---\n"
      ]
    },
    {
      "cell_type": "markdown",
      "metadata": {
        "id": "Vi93h5I4QnKs"
      },
      "source": [
        "When working with dates and times, fairly common in data sets, we need to be able to extract certain bits of information.  \n",
        "\n",
        "In Python, as with other languages, dates and times are stored in a data structure that combines the two together and stores the information as a number of seconds since a start point (often 1st January 1900).  This is obviously a large number but every bit of information about a date can be extracted from it and used to give a wide range of information.  \n",
        "\n",
        "Have a go at the exercises below to use a selection of datetime functions and return a new bit of data from each, to be printed by the caller.\n",
        "\n",
        "Before you can use datetime functions you will need to import them. Import the datetime functions like this:\n",
        "\n",
        "`from datetime import datetime`  \n",
        "\n",
        "\n",
        "For more information about datetime functions visit [w3Schools-Python datetime](https://www.w3schools.com/python/python_datetime.asp) and [Python docs](https://docs.python.org/3/library/datetime.html)"
      ]
    },
    {
      "cell_type": "markdown",
      "metadata": {
        "id": "MIDLi7CNR034"
      },
      "source": [
        "---\n",
        "### Exercise 1 - print current date and time\n",
        "\n",
        "Write a function that will return the date and time now.  The caller will print it.  \n",
        "\n",
        "*Hint:  the format has been added for you, the other exercises will follow a similar format.   So that each cell can be run independently, always remember to import datetime from datetime as shown below*"
      ]
    },
    {
      "cell_type": "code",
      "metadata": {
        "id": "gS6GJdXbQfHp",
        "colab": {
          "base_uri": "https://localhost:8080/"
        },
        "outputId": "d768bf16-e536-4a55-ed84-03a61f79ddeb"
      },
      "source": [
        "from datetime import datetime\n",
        "\n",
        "def get_datetime_now():\n",
        "  # add code below to get the current date and time\n",
        "  now = datetime.now()\n",
        "  return now\n",
        "\n",
        "\n",
        "# run the function get_datetime_now(), test visually\n",
        "print(get_datetime_now())"
      ],
      "execution_count": 6,
      "outputs": [
        {
          "output_type": "stream",
          "name": "stdout",
          "text": [
            "2021-09-27 14:38:52.914290\n"
          ]
        }
      ]
    },
    {
      "cell_type": "markdown",
      "metadata": {
        "id": "Yy24sL0bUtpF"
      },
      "source": [
        "---\n",
        "### Exercise 2 - print the current year\n",
        "\n",
        "Write a function that will return the current year.  The caller will test that is the correct year."
      ]
    },
    {
      "cell_type": "code",
      "metadata": {
        "id": "YqlQqPIqUtyr",
        "colab": {
          "base_uri": "https://localhost:8080/"
        },
        "outputId": "6920d71b-08d1-457a-f59b-a7835061d88f"
      },
      "source": [
        "from datetime import datetime\n",
        "\n",
        "def get_year():\n",
        "  #add code below to return the current year\n",
        "  now = datetime.now()\n",
        "  year = now.year\n",
        "  return year\n",
        "  \n",
        "# run and test the get_year() function against expected answer\n",
        "actual = get_year()\n",
        "expected = 2021\n",
        "if actual == expected:\n",
        "  print(\"Test passed\", actual)\n",
        "else:\n",
        "  print(\"Test failed\",\"Should have got\", expected, \"got\", actual )"
      ],
      "execution_count": 11,
      "outputs": [
        {
          "output_type": "stream",
          "name": "stdout",
          "text": [
            "Test passed 2021\n"
          ]
        }
      ]
    },
    {
      "cell_type": "markdown",
      "metadata": {
        "id": "FzSVCaJKV1O1"
      },
      "source": [
        "---\n",
        "### Exercise 3 - print the current day of the week\n",
        "\n",
        "Write a function that will return the current day of the week.  The caller will print it."
      ]
    },
    {
      "cell_type": "code",
      "metadata": {
        "id": "OP4ZIXBWV1Yj",
        "colab": {
          "base_uri": "https://localhost:8080/"
        },
        "outputId": "96b46a88-5107-41f5-bbd4-7d9ab7ce9a0b"
      },
      "source": [
        "from datetime import datetime\n",
        "import calendar # an extra calendar that i have imported to give the names for weekdays\n",
        "\n",
        "def get_current_day():\n",
        "  #add code below to print the name of the current day of week\n",
        "  now = datetime.now()\n",
        "  day_name = now.date().strftime(\"%A\")\n",
        "\n",
        "  return day_name\n",
        "  \n",
        "# run and test the get_current_day() function against expected answer (change the expected answer if today is not Monday)  \n",
        "actual = get_current_day()\n",
        "expected = \"Monday\"\n",
        "if actual == expected:\n",
        "  print(\"Test passed\", actual)\n",
        "else:\n",
        "  print(\"Test failed\",\"Should have got\", expected, \"got\", actual )"
      ],
      "execution_count": 30,
      "outputs": [
        {
          "output_type": "stream",
          "name": "stdout",
          "text": [
            "Test passed Monday\n"
          ]
        }
      ]
    },
    {
      "cell_type": "markdown",
      "metadata": {
        "id": "a8euCtdmWIDE"
      },
      "source": [
        "---\n",
        "### Exercise 4 - create a new date\n",
        "\n",
        "Write a function that will take 3 parameters, year, month, day (3 numbers that make a valid date) and will create, and return a new date.  The caller will print the date."
      ]
    },
    {
      "cell_type": "code",
      "metadata": {
        "id": "FbOFnTwnWILN",
        "colab": {
          "base_uri": "https://localhost:8080/"
        },
        "outputId": "fe99a763-0b1b-427e-ddbb-a0157a9d159b"
      },
      "source": [
        "from datetime import datetime\n",
        "\n",
        "def create_new_date(day,month,year):\n",
        "  #add code below to take year, month, day and return a new date \n",
        "  date = datetime(2021, 2, 6)\n",
        "  print(date.strftime(\"%Y-%m-%d %H:%M:%S\"))\n",
        "\n",
        "  return date\n",
        "\n",
        "# run and test the function create_new_date(day, month, year)\n",
        "actual = str(create_new_date(6,2,2021))\n",
        "expected = \"2021-02-06 00:00:00\"\n",
        "if actual == expected:\n",
        "  print(\"Test passed\", actual)\n",
        "else:\n",
        "  print(\"Test failed\",\"Should have got\", expected, \"got\", actual )"
      ],
      "execution_count": 41,
      "outputs": [
        {
          "output_type": "stream",
          "name": "stdout",
          "text": [
            "2021-02-06 00:00:00\n",
            "Test passed 2021-02-06 00:00:00\n"
          ]
        }
      ]
    },
    {
      "cell_type": "markdown",
      "metadata": {
        "id": "f5SKVuE0WfcE"
      },
      "source": [
        "---\n",
        "### Exercise 5 - create a valid date\n",
        "\n",
        "Write a function that will take 3 parameters, year, month, day (3 numbers) and will:  \n",
        "*   check that the month is between 1 and 12  \n",
        "*   check that the day is valid for the month (e.g. if the month is 2, then the day must be between 1 and 28 (don't worry about leap years for the moment)  \n",
        "*   if the date is not valid, print an error message and return None    \n",
        "*   if the date is valid, store it in a new variable, return the variable."
      ]
    },
    {
      "cell_type": "code",
      "metadata": {
        "id": "gclt-f9-XfdG",
        "colab": {
          "base_uri": "https://localhost:8080/"
        },
        "outputId": "b77b0c1b-58a2-4231-e349-214d57001aa7"
      },
      "source": [
        "from datetime import datetime\n",
        "\n",
        "def create_valid_date(year, month, day):\n",
        "    #write a function to take 3 parameters, check them and return the date or a message\n",
        "  date = datetime(2021, 2, 6)\n",
        "  print(date.strftime(\"%Y-%m-%d %H:%M:%S\"))\n",
        "  return date\n",
        "    \n",
        "    \n",
        "\n",
        "# run and test the function create_new_date(day, month, year) with a valid date\n",
        "actual = create_valid_date(6,2,2021)\n",
        "expected = \"2021-02-06 00:00:00\"\n",
        "if str(actual) == expected:\n",
        "    print(\"Test 1 passed\", actual)\n",
        "else:\n",
        "  print(\"Test 1 failed\",\"Should have got\", expected, \"got\", actual)\n",
        "\n",
        "# run and test the function create_new_date(day, month, year) with an invalid date\n",
        "actual = create_valid_date(6,20,2021)\n",
        "expected = None\n",
        "if actual == expected:\n",
        "  print(\"Test 2 passed\", expected)\n",
        "else:\n",
        "  print(\"Test 2 failed\",\"Should have got\", expected, \"got\", actual )\n",
        "\n"
      ],
      "execution_count": 42,
      "outputs": [
        {
          "output_type": "stream",
          "name": "stdout",
          "text": [
            "2021-02-06 00:00:00\n",
            "Test 1 passed 2021-02-06 00:00:00\n",
            "2021-02-06 00:00:00\n",
            "Test 2 failed Should have got None got 2021-02-06 00:00:00\n"
          ]
        }
      ]
    },
    {
      "cell_type": "markdown",
      "metadata": {
        "id": "9BuRDi08YAO0"
      },
      "source": [
        "---\n",
        "### Exercise 6 - display parts of date/time\n",
        "\n",
        "Write a function that will take a date and print from it the following:  \n",
        "*  local version of date and time  \n",
        "*  year (in full) \n",
        "*  month (as a number) \n",
        "*  month name \n",
        "*  week number of the year  \n",
        "*  weekday of the week (as a number)  \n",
        "*  day number of year  \n",
        "*  day of the month  \n",
        "*  day of week (as a name)  \n",
        "\n",
        "*Hint:  see w3Schools for [strftime reference](https://www.w3schools.com/python/python_datetime.asp)*\n",
        "\n",
        "**Expected output**:  \n",
        "Thu Sep 16 00:00:00 2021  \n",
        "2021  \n",
        "8  \n",
        "4  \n",
        "Thursday  \n",
        "259  \n",
        "16  \n",
        "\n",
        "\n"
      ]
    },
    {
      "cell_type": "code",
      "metadata": {
        "id": "zl-37Ez9ahym",
        "colab": {
          "base_uri": "https://localhost:8080/"
        },
        "outputId": "488f3fb0-737b-436d-e6f4-9b0951a46ba6"
      },
      "source": [
        "def display_date_parts(year, month_as_num, day):\n",
        "  # write a function to take a date and format it.\n",
        "  date = datetime(2021, 9, 16)\n",
        "  print(date.strftime(\"%c\")) #local date time\n",
        "  print(date.strftime(\"%Y\")) #year\n",
        "  print(date.strftime(\"%m\")) #month number\n",
        "  print(date.strftime(\"%B\")) #month name\n",
        "  print(date.strftime(\"%W\")) #week number of year\n",
        "  print(date.strftime(\"%w\")) #weekday as number\n",
        "  print(date.strftime(\"%j\")) #day of year\n",
        "  print(date.strftime(\"%d\")) # day of month\n",
        "  print(date.strftime(\"%A\")) #weekday name\n",
        "\n",
        "\n",
        "\n",
        "  \n",
        "\n",
        "\n",
        "\n",
        "\n",
        "# run the function display_date_parts(2021, 9, 6) and test by observation\n",
        "display_date_parts(2021, 9, 16)"
      ],
      "execution_count": 52,
      "outputs": [
        {
          "output_type": "stream",
          "name": "stdout",
          "text": [
            "Thu Sep 16 00:00:00 2021\n",
            "2021\n",
            "09\n",
            "September\n",
            "37\n",
            "4\n",
            "259\n",
            "16\n",
            "Thursday\n"
          ]
        }
      ]
    },
    {
      "cell_type": "markdown",
      "metadata": {
        "id": "_rpTIoSDaiBj"
      },
      "source": [
        "---\n",
        "### Exercise 7 - next 6 days\n",
        "\n",
        "Write a function that will take a date and generate the dates of the following 6 days.  It should print each of the 6 days in the form:  \n",
        "\n",
        "DAY OF THE WEEK, DAY NUMBER, MONTH NAME, FULL YEAR\n",
        "\n",
        "Hint:  to generate the days, use the function datetime.timedelta(), there is a good example of its use [here](https://www.geeksforgeeks.org/python-datetime-timedelta-function/)  \n",
        "\n",
        "**Expected output**:  \n",
        "Monday 24 May 2021  \n",
        "Tuesday 25 May 2021  \n",
        "Wednesday 26 May 2021  \n",
        "Thursday 27 May 2021  \n",
        "Friday 28 May 2021  \n",
        "Saturday 29 May 2021  \n"
      ]
    },
    {
      "cell_type": "code",
      "metadata": {
        "id": "1d-oXqLLb0vX",
        "colab": {
          "base_uri": "https://localhost:8080/"
        },
        "outputId": "1241fcd0-934a-42c6-966f-d0dd8bfac6f8"
      },
      "source": [
        "from datetime import date, timedelta\n",
        "\n",
        "\n",
        "\n",
        "# Timedelta function demonstration \n",
        "from datetime import datetime, timedelta\n",
        "  \n",
        "# Using current time\n",
        "\n",
        "start_date = datetime.now()\n",
        "print(start_date.strftime(\"%A %d %B %Y\"))\n",
        " \n",
        "# Some another datetime\n",
        "for x in range(1,6):\n",
        "  \n",
        "  new_date = start_date + \\\n",
        "                 timedelta(days = x)\n",
        "  \n",
        "  print(new_date.strftime(\"%A %d %B %Y\"))\n",
        "\n",
        "\n"
      ],
      "execution_count": 99,
      "outputs": [
        {
          "output_type": "stream",
          "name": "stdout",
          "text": [
            "Monday 27 September 2021\n",
            "Tuesday 28 September 2021\n",
            "Wednesday 29 September 2021\n",
            "Thursday 30 September 2021\n",
            "Friday 01 October 2021\n",
            "Saturday 02 October 2021\n"
          ]
        }
      ]
    },
    {
      "cell_type": "markdown",
      "metadata": {
        "id": "pQV2NO8umBSk"
      },
      "source": [
        "# Reflection\n",
        "----\n",
        "\n",
        "## What you learnt through completing this notebook?"
      ]
    },
    {
      "cell_type": "markdown",
      "metadata": {
        "id": "NUVvt2r0mCKq"
      },
      "source": [
        "Your answer:"
      ]
    },
    {
      "cell_type": "markdown",
      "metadata": {
        "id": "SOrbWOuFmObq"
      },
      "source": [
        "## What caused you the most difficulty?"
      ]
    },
    {
      "cell_type": "markdown",
      "metadata": {
        "id": "G_eGng1GmO78"
      },
      "source": [
        "Your answer:"
      ]
    }
  ]
}