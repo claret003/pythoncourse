{
  "nbformat": 4,
  "nbformat_minor": 0,
  "metadata": {
    "colab": {
      "name": "Describing and Interrogating Data.ipynb",
      "provenance": [],
      "collapsed_sections": [],
      "include_colab_link": true
    },
    "kernelspec": {
      "name": "python3",
      "display_name": "Python 3"
    },
    "language_info": {
      "name": "python"
    }
  },
  "cells": [
    {
      "cell_type": "markdown",
      "metadata": {
        "id": "view-in-github",
        "colab_type": "text"
      },
      "source": [
        "<a href=\"https://colab.research.google.com/github/claret003/pythoncourse/blob/main/Worksheets/Describing_and_Interrogating_Data.ipynb\" target=\"_parent\"><img src=\"https://colab.research.google.com/assets/colab-badge.svg\" alt=\"Open In Colab\"/></a>"
      ]
    },
    {
      "cell_type": "markdown",
      "metadata": {
        "id": "ZlD9__2sD2jr"
      },
      "source": [
        "# Describing and Interrogating Data \n",
        "---\n",
        "\n",
        "When using pandas we first need to import it \n",
        "\n",
        "` import pandas as pd ` \n",
        "\n",
        "\n",
        "When first looking at a dataset, it is important to be able to see information about the data such as summmary statistics, and interrogate it to find information. \n",
        "\n",
        "This is the least risky in terms of bias and inaccurate conclusions as it should focus just on what data is presented to us.\n",
        "\n",
        "### Summary Statistics\n",
        "--- \n",
        "\n",
        "Mean - the average  \n",
        "Median - middle value / 50% of the data (another type of average)   \n",
        "Range - the total range of values (max - min)  \n",
        "\n",
        "### Useful Functions\n",
        "---\n",
        "\n",
        "`head()` will show the first 5 rows of the dataframe. You can show a different amount of rows by putting the number of columns you would like to see in the brackets.    \n",
        "`tail()` same as head() but for the last 5 rows   \n",
        "`info()` will show information about the overall dataset, including how many Null values exist in each column, the data type of each column and dataframes length   \n",
        "`describe()` will show summary statistics for all numeric columns   \n",
        "`loc[index]`  will show you row / rows at index position or in index range  \n",
        "`unique()` will show all the unique values in a column   \n",
        "`nunique()` will show the number of unique values in a column   \n",
        "`len()` will show the length (can be used on a list, array, column etc)  \n",
        "\n",
        "### Interrogating dataframes \n",
        "---\n",
        "\n",
        "To view subsets:\n",
        "\n",
        "* single column: `dataframe['column'] `\n",
        "* multiple columns: `dataframe[['column1', 'column2']]`\n",
        "* columns by criteria: `dataframe[dataframe['column'] == 'criteria']`\n"
      ]
    },
    {
      "cell_type": "markdown",
      "metadata": {
        "id": "nfhz7LW3Qu9i"
      },
      "source": [
        "## Data Retrieval \n",
        "---\n",
        "\n",
        "In order to load in a dataset you will need to retrieve it. The following code retrieves different types of data. \n",
        "\n",
        "From a webpage:\n",
        "\n",
        "` pd.read_html(\"url\")`\n",
        "\n",
        "From a CSV hosted on Github:\n",
        "\n",
        "`pd.read_csv(\"url\")`\n",
        "\n",
        "From an Excel hosted on Github:\n",
        "\n",
        "`pd.read_excel(\"url\", sheet_name = \"sheet name\")`\n",
        "\n",
        "\n"
      ]
    },
    {
      "cell_type": "markdown",
      "metadata": {
        "id": "c1Vyby7pQOvq"
      },
      "source": [
        "### Exercise 1 - open the Titanic dataset and see descriptive info\n",
        "---\n",
        "\n",
        "The Titanic dataset is stored at this URL:\n",
        "https://raw.githubusercontent.com/pandas-dev/pandas/master/doc/data/titanic.csv\n",
        "\n",
        "1. Read the dataset into a pandas dataframe that you will call **titanic**.\n",
        "\n",
        "\n",
        "2. Write a function called **summary** that will: \n",
        "* Display the first 5 rows of the dataset \n",
        "* Use info() to display a technical summary of the data\n",
        "* Use describe() to display a numerical summary of the data \n",
        "\n",
        "\n",
        "**Expected Output** \n",
        "\n",
        "```\n",
        "   PassengerId  Survived  Pclass  ...     Fare Cabin  Embarked\n",
        "0            1         0       3  ...   7.2500   NaN         S\n",
        "1            2         1       1  ...  71.2833   C85         C\n",
        "2            3         1       3  ...   7.9250   NaN         S\n",
        "3            4         1       1  ...  53.1000  C123         S\n",
        "4            5         0       3  ...   8.0500   NaN         S\n",
        "\n",
        "[5 rows x 12 columns]\n",
        "<class 'pandas.core.frame.DataFrame'>\n",
        "RangeIndex: 891 entries, 0 to 890\n",
        "Data columns (total 12 columns):\n",
        " #   Column       Non-Null Count  Dtype  \n",
        "---  ------       --------------  -----  \n",
        " 0   PassengerId  891 non-null    int64  \n",
        " 1   Survived     891 non-null    int64  \n",
        " 2   Pclass       891 non-null    int64  \n",
        " 3   Name         891 non-null    object \n",
        " 4   Sex          891 non-null    object \n",
        " 5   Age          714 non-null    float64\n",
        " 6   SibSp        891 non-null    int64  \n",
        " 7   Parch        891 non-null    int64  \n",
        " 8   Ticket       891 non-null    object \n",
        " 9   Fare         891 non-null    float64\n",
        " 10  Cabin        204 non-null    object \n",
        " 11  Embarked     889 non-null    object \n",
        "dtypes: float64(2), int64(5), object(5)\n",
        "memory usage: 83.7+ KB\n",
        "None\n",
        "       PassengerId    Survived      Pclass  ...       SibSp       Parch        Fare\n",
        "count   891.000000  891.000000  891.000000  ...  891.000000  891.000000  891.000000\n",
        "mean    446.000000    0.383838    2.308642  ...    0.523008    0.381594   32.204208\n",
        "std     257.353842    0.486592    0.836071  ...    1.102743    0.806057   49.693429\n",
        "min       1.000000    0.000000    1.000000  ...    0.000000    0.000000    0.000000\n",
        "25%     223.500000    0.000000    2.000000  ...    0.000000    0.000000    7.910400\n",
        "50%     446.000000    0.000000    3.000000  ...    0.000000    0.000000   14.454200\n",
        "75%     668.500000    1.000000    3.000000  ...    1.000000    0.000000   31.000000\n",
        "max     891.000000    1.000000    3.000000  ...    8.000000    6.000000  512.329200\n",
        "\n",
        "[8 rows x 7 columns]\n",
        "```"
      ]
    },
    {
      "cell_type": "code",
      "metadata": {
        "id": "lRJhN1GsZSQc",
        "outputId": "eed2b622-1267-49b6-b72c-c132eae47cd6",
        "colab": {
          "base_uri": "https://localhost:8080/"
        }
      },
      "source": [
        "import pandas as pd\n",
        "\n",
        "titanic = pd.read_csv('https://raw.githubusercontent.com/pandas-dev/pandas/master/doc/data/titanic.csv')\n",
        "def get_summary(df):\n",
        "  # add code below which prints the first 5 rows of the dataset, the info and the numerical summary\n",
        "  #Display the first 5 rows of the dataset\n",
        "  print(titanic.head())\n",
        "  # Use info() to display a technical summary of the data\n",
        "  print(titanic.info())\n",
        "  # Use describe() to display a numerical summary of the data\n",
        "  print(titanic.describe())\n",
        "\n",
        "\n",
        "\n",
        "\n",
        "\n",
        "# run and visually test using example above\n",
        "get_summary(titanic)\n"
      ],
      "execution_count": 7,
      "outputs": [
        {
          "output_type": "stream",
          "name": "stdout",
          "text": [
            "   PassengerId  Survived  Pclass  ...     Fare Cabin  Embarked\n",
            "0            1         0       3  ...   7.2500   NaN         S\n",
            "1            2         1       1  ...  71.2833   C85         C\n",
            "2            3         1       3  ...   7.9250   NaN         S\n",
            "3            4         1       1  ...  53.1000  C123         S\n",
            "4            5         0       3  ...   8.0500   NaN         S\n",
            "\n",
            "[5 rows x 12 columns]\n",
            "<class 'pandas.core.frame.DataFrame'>\n",
            "RangeIndex: 891 entries, 0 to 890\n",
            "Data columns (total 12 columns):\n",
            " #   Column       Non-Null Count  Dtype  \n",
            "---  ------       --------------  -----  \n",
            " 0   PassengerId  891 non-null    int64  \n",
            " 1   Survived     891 non-null    int64  \n",
            " 2   Pclass       891 non-null    int64  \n",
            " 3   Name         891 non-null    object \n",
            " 4   Sex          891 non-null    object \n",
            " 5   Age          714 non-null    float64\n",
            " 6   SibSp        891 non-null    int64  \n",
            " 7   Parch        891 non-null    int64  \n",
            " 8   Ticket       891 non-null    object \n",
            " 9   Fare         891 non-null    float64\n",
            " 10  Cabin        204 non-null    object \n",
            " 11  Embarked     889 non-null    object \n",
            "dtypes: float64(2), int64(5), object(5)\n",
            "memory usage: 83.7+ KB\n",
            "None\n",
            "       PassengerId    Survived      Pclass  ...       SibSp       Parch        Fare\n",
            "count   891.000000  891.000000  891.000000  ...  891.000000  891.000000  891.000000\n",
            "mean    446.000000    0.383838    2.308642  ...    0.523008    0.381594   32.204208\n",
            "std     257.353842    0.486592    0.836071  ...    1.102743    0.806057   49.693429\n",
            "min       1.000000    0.000000    1.000000  ...    0.000000    0.000000    0.000000\n",
            "25%     223.500000    0.000000    2.000000  ...    0.000000    0.000000    7.910400\n",
            "50%     446.000000    0.000000    3.000000  ...    0.000000    0.000000   14.454200\n",
            "75%     668.500000    1.000000    3.000000  ...    1.000000    0.000000   31.000000\n",
            "max     891.000000    1.000000    3.000000  ...    8.000000    6.000000  512.329200\n",
            "\n",
            "[8 rows x 7 columns]\n"
          ]
        }
      ]
    },
    {
      "cell_type": "markdown",
      "metadata": {
        "id": "MReHVTG2a7Yt"
      },
      "source": [
        "### Exercise 2 - displaying other statistics\n",
        "---\n",
        "\n",
        "Take a look at the list of methods available for giving summary statistics [here](https://pandas.pydata.org/docs/user_guide/basics.html#basics-stats) \n",
        "\n",
        "Use panda functions, and your existing knowledge, to display the following summary statistics from the titanic dataset:\n",
        "\n",
        "Write a function called **statistics** which returns:\n",
        "\n",
        "1.  The total number of passengers on the titanic\n",
        "2.  The age of the youngest passenger\n",
        "3.  The most expensive ticket price\n",
        "4.  The range of ticket prices\n",
        "5.  The number of passenges with cabins\n",
        "6.  The code for the port where the highest number of passengers embarked\n",
        "7.  The most populous gender\n",
        "8.  The standard deviation for age"
      ]
    },
    {
      "cell_type": "code",
      "metadata": {
        "id": "nfF3lqNFX_Wr",
        "outputId": "1a36d219-13a5-4f79-cd13-83ce85592b65",
        "colab": {
          "base_uri": "https://localhost:8080/"
        }
      },
      "source": [
        "def get_statistics(df):\n",
        "  # add code below to return the stats listed above \n",
        "  passengers = titanic[\"Name\"].count()\n",
        "  youngest = titanic[\"Age\"].min()\n",
        "  most_expensive = titanic[\"Fare\"].max()\n",
        "  range_ticket = titanic[\"Fare\"].max() - titanic[\"Fare\"].min()\n",
        "  no_cabins = titanic[\"Cabin\"].count() # this is the number of cabins, not necessarily the number of passengers in cabins (unless it's 1 person per cabin?!)\n",
        "  embarked = titanic[\"Embarked\"]\n",
        "  gender = titanic[\"Sex\"]\n",
        "  sd = titanic.std\n",
        "  return passengers, youngest, most_expensive, range_ticket, no_cabins, embarked[0], gender[0], sd \n",
        "   \n",
        "\n",
        "\n",
        "   # run and test if answers are correct \n",
        "actual = get_statistics(titanic)\n",
        "expected = (891, 0.42, 512.3292, 512.3292, 204, 'S', 'male', 14.526497332334044)\n",
        "\n",
        "if actual == expected:\n",
        "  print(\"Test passed\", actual)\n",
        "else: \n",
        "  print(\"Test failed, expected\", expected, \"but got\", actual )\n"
      ],
      "execution_count": 21,
      "outputs": [
        {
          "output_type": "stream",
          "name": "stdout",
          "text": [
            "Test failed, expected (891, 0.42, 512.3292, 512.3292, 204, 'S', 'male', 14.526497332334044) but got (891, 0.42, 512.3292, 512.3292, 204, 'S', 'male', <bound method DataFrame.std of      PassengerId  Survived  Pclass  ...     Fare Cabin  Embarked\n",
            "0              1         0       3  ...   7.2500   NaN         S\n",
            "1              2         1       1  ...  71.2833   C85         C\n",
            "2              3         1       3  ...   7.9250   NaN         S\n",
            "3              4         1       1  ...  53.1000  C123         S\n",
            "4              5         0       3  ...   8.0500   NaN         S\n",
            "..           ...       ...     ...  ...      ...   ...       ...\n",
            "886          887         0       2  ...  13.0000   NaN         S\n",
            "887          888         1       1  ...  30.0000   B42         S\n",
            "888          889         0       3  ...  23.4500   NaN         S\n",
            "889          890         1       1  ...  30.0000  C148         C\n",
            "890          891         0       3  ...   7.7500   NaN         Q\n",
            "\n",
            "[891 rows x 12 columns]>)\n"
          ]
        }
      ]
    },
    {
      "cell_type": "markdown",
      "metadata": {
        "id": "DWoxUSTec8-R"
      },
      "source": [
        "### Exercise 3 - aggregating statistics grouped by category\n",
        "---\n",
        "\n",
        "Refer again to the tutorial  \n",
        "[How to calculate summary statistics?](https://pandas.pydata.org/docs/getting_started/intro_tutorials/06_calculate_statistics.html#)   \n",
        "looking particularly at the section on Aggregating statistics grouped by category.\n",
        "\n",
        "Write a function called **grouped** which displays:\n",
        "\n",
        "1.  The mean age for male versus female Titanic passengers?\n",
        "2.  The mean ticket fare price for each of the sex and cabin class combinations?\n",
        "3.  The mean ticket fare price for passengers who embarked at each port?\n",
        "4.  Which passenger class had the highest number of survivors (for now, just show the statistics - it may not be meaningful yet)?\n",
        "\n",
        "**Expected output**\n",
        "```\n",
        "            Age\n",
        " Sex              \n",
        " female  27.915709\n",
        " male    30.726645, \n",
        " \n",
        " Pclass  Sex   \n",
        " 1       female    106.125798\n",
        "         male       67.226127\n",
        " 2       female     21.970121\n",
        "         male       19.741782\n",
        " 3       female     16.118810\n",
        "         male       12.661633\n",
        "\n",
        " Name: Fare, dtype: float64 \n",
        " \n",
        " Embarked\n",
        " C    59.954144\n",
        " Q    13.276030\n",
        " S    27.079812\n",
        " Name: Fare, dtype: float64\n",
        " \n",
        " 0    3\n",
        " dtype: int64\n",
        " ```"
      ]
    },
    {
      "cell_type": "code",
      "metadata": {
        "id": "Q2yydIaYdLqa",
        "outputId": "0756fdcb-c306-4580-93e4-406a315da042",
        "colab": {
          "base_uri": "https://localhost:8080/"
        }
      },
      "source": [
        "def get_grouped(df):\n",
        "  # add code below to return the above stats \n",
        "# The mean age for male versus female Titanic passengers?\n",
        "  print(titanic[[\"Sex\", \"Age\"]].groupby(\"Sex\").mean())\n",
        "\n",
        "# The mean ticket fare price for each of the sex and cabin class combinations?\n",
        "  print(titanic[[\"Pclass\", \"Sex\", \"Fare\"]].groupby([\"Pclass\", \"Sex\"]).mean())\n",
        "\n",
        "# The mean ticket fare price for passengers who embarked at each port?\n",
        "  print(titanic[[\"Embarked\", \"Fare\"]].groupby(\"Embarked\").mean())\n",
        "\n",
        "# Which passenger class had the highest number of survivors (for now, just show the statistics - it may not be meaningful yet)?\n",
        "  print(titanic.groupby(\"Pclass\")[\"Survived\"].count()) # this shows survival rates across all classes. adding a max at the front prints the # that survived in the highest-survival rate class, but doesn't print the class itself\n",
        "\n",
        "\n",
        "\n",
        "\n",
        "# run and test visually using the above expected output \n",
        "get_grouped(titanic)\n",
        "\n"
      ],
      "execution_count": 56,
      "outputs": [
        {
          "output_type": "stream",
          "name": "stdout",
          "text": [
            "              Age\n",
            "Sex              \n",
            "female  27.915709\n",
            "male    30.726645\n",
            "                     Fare\n",
            "Pclass Sex               \n",
            "1      female  106.125798\n",
            "       male     67.226127\n",
            "2      female   21.970121\n",
            "       male     19.741782\n",
            "3      female   16.118810\n",
            "       male     12.661633\n",
            "               Fare\n",
            "Embarked           \n",
            "C         59.954144\n",
            "Q         13.276030\n",
            "S         27.079812\n",
            "Pclass\n",
            "1    216\n",
            "2    184\n",
            "3    491\n",
            "Name: Survived, dtype: int64\n"
          ]
        }
      ]
    },
    {
      "cell_type": "markdown",
      "metadata": {
        "id": "uK8OYsAzdvQ0"
      },
      "source": [
        "### Exercise 4 - using loc\n",
        "---\n",
        "Write a function called **get_middle** to:\n",
        "*   display the middle 20 records (use the shape of the dataframe to help you identify the index positions of these)\n"
      ]
    },
    {
      "cell_type": "code",
      "metadata": {
        "id": "2_xKQkKijYlo",
        "outputId": "ff308516-bdd3-4f77-ddf8-030f39105215",
        "colab": {
          "base_uri": "https://localhost:8080/"
        }
      },
      "source": [
        "def get_middle():\n",
        "  # add code below to return middle 20 records \n",
        "  middle = round(titanic[\"Name\"].count()/2)\n",
        "\n",
        "  start = middle - 10\n",
        "  end = middle + 10\n",
        "  return titanic.iloc[start : end]\n",
        "\n",
        "get_middle()\n",
        "\n",
        "\n",
        "# run and test if your returned 20 records starts at correct index \n",
        "\n",
        "actual = get_middle().index[0]\n",
        "expected = 436\n",
        "\n",
        "if actual == expected:\n",
        "  print(\"Test passed\", actual)\n",
        "else: \n",
        "  print(\"Test failed expected index of\", expected, \"got\", actual)\n",
        "\n"
      ],
      "execution_count": 87,
      "outputs": [
        {
          "output_type": "stream",
          "name": "stdout",
          "text": [
            "Test passed 436\n"
          ]
        }
      ]
    },
    {
      "cell_type": "markdown",
      "metadata": {
        "id": "MRzwCCb1jYts"
      },
      "source": [
        "### Exercise 5 - migration to and from\n",
        "---\n",
        "\n",
        "The Excel file at this link (which you have already opened above): https://github.com/futureCodersSE/working-with-data/blob/main/Data%20sets/public_use-talent-migration.xlsx?raw=true has three data sheets, \"Country Migration\", \"Industry Migration\" and \"Skill Migration\"\n",
        "\n",
        "Read the data sheet \"Country Migration\" into a variable called **country** \n",
        "\n",
        "Write a function called **get_uk_mig** that will return all the rows which had migration to the United Kingdom "
      ]
    },
    {
      "cell_type": "code",
      "metadata": {
        "id": "4hCS4n2XlPXN",
        "outputId": "2d50b3d0-a142-4432-b246-58c9a2d196c6",
        "colab": {
          "base_uri": "https://localhost:8080/"
        }
      },
      "source": [
        "country = pd.read_excel('https://github.com/futureCodersSE/working-with-data/blob/main/Data%20sets/public_use-talent-migration.xlsx?raw=true', sheet_name = \"Country Migration\")\n",
        "\n",
        "def get_uk_mig(country):\n",
        "  # add code below to return all rows which had migration to the UK\n",
        "  return country.loc[country['target_country_name'] == \"United Kingdom\"]\n",
        "   # why is this not printing out??\n",
        "\n",
        "get_uk_mig(country)\n",
        "\n",
        "# run and test if your returned series is the correct length \n",
        "\n",
        "actual = len(get_uk_mig(country)) \n",
        "expected = 122\n",
        "\n",
        "if actual == expected:\n",
        "  print(\"Test passed\", actual)\n",
        "else: \n",
        "  print(\"Test failed expected\", expected, \"got\", actual)\n",
        "\n",
        "\n",
        "\n"
      ],
      "execution_count": 128,
      "outputs": [
        {
          "output_type": "stream",
          "name": "stdout",
          "text": [
            "Test passed 122\n"
          ]
        }
      ]
    },
    {
      "cell_type": "markdown",
      "metadata": {
        "id": "EgW80B3mlPpl"
      },
      "source": [
        "### Exercise 6 - how many countries are migrated to\n",
        "\n",
        "Using the \"Country Migration\" sheet again, get the total number of unique country names of where people have migrated from.\n"
      ]
    },
    {
      "cell_type": "code",
      "metadata": {
        "id": "ZQTbjWlBlm3S",
        "outputId": "1d900704-2a7e-4bb9-9001-521ef8a0e47d",
        "colab": {
          "base_uri": "https://localhost:8080/"
        }
      },
      "source": [
        "def migration(country):\n",
        "  #add code below to return the total number of unique country names of where people have migrated from \n",
        "  unique_countries = country['base_country_name'].nunique()\n",
        "  return unique_countries\n",
        "\n",
        "migration(country)\n",
        "\n",
        "# run and test if you have the correct number of unique countries \n",
        "actual = migration(country)\n",
        "expected = 140\n",
        "\n",
        "if actual == expected:\n",
        "  print(\"Test passed\", actual)\n",
        "else: \n",
        "  print(\"Test failed expected\", expected, \"got\", actual)\n"
      ],
      "execution_count": 132,
      "outputs": [
        {
          "output_type": "stream",
          "name": "stdout",
          "text": [
            "Test passed 140\n"
          ]
        }
      ]
    },
    {
      "cell_type": "markdown",
      "metadata": {
        "id": "pQV2NO8umBSk"
      },
      "source": [
        "# Reflection\n",
        "----\n",
        "\n",
        "## What skills have you demonstrated in completing this notebook?"
      ]
    },
    {
      "cell_type": "markdown",
      "metadata": {
        "id": "NUVvt2r0mCKq"
      },
      "source": [
        "Your answer:\n",
        "\n",
        "Ability to import data from different sources.\n",
        "Something to remember - when importing .xlsx or .csv from a link....need to use read_csv or read_excel, rather than read_html\n",
        "\n",
        "defining functions and then calling them.....REMEMBER TO CALL THEM!!!"
      ]
    },
    {
      "cell_type": "markdown",
      "metadata": {
        "id": "SOrbWOuFmObq"
      },
      "source": [
        "## What caused you the most difficulty?"
      ]
    },
    {
      "cell_type": "markdown",
      "metadata": {
        "id": "G_eGng1GmO78"
      },
      "source": [
        "Your answer: I kept defining functions but forgetting to call them, so I had no output!"
      ]
    }
  ]
}