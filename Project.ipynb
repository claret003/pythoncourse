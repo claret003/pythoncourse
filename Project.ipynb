{
  "nbformat": 4,
  "nbformat_minor": 0,
  "metadata": {
    "colab": {
      "name": "Project.ipynb",
      "provenance": [],
      "authorship_tag": "ABX9TyMi7aJ6M/YwEKogC9lhqGRY",
      "include_colab_link": true
    },
    "kernelspec": {
      "name": "python3",
      "display_name": "Python 3"
    },
    "language_info": {
      "name": "python"
    }
  },
  "cells": [
    {
      "cell_type": "markdown",
      "metadata": {
        "id": "view-in-github",
        "colab_type": "text"
      },
      "source": [
        "<a href=\"https://colab.research.google.com/github/claret003/pythoncourse/blob/main/Project.ipynb\" target=\"_parent\"><img src=\"https://colab.research.google.com/assets/colab-badge.svg\" alt=\"Open In Colab\"/></a>"
      ]
    },
    {
      "cell_type": "markdown",
      "metadata": {
        "id": "TMXhmLLeBDip"
      },
      "source": [
        "# Air Pollution and Asthma \n",
        "\n",
        "---\n",
        "\n",
        "This project will explore two seperate datasets, one related to air pollution and the other to asthma prevalence, to test the following hypothesis....\n",
        "\n",
        "### **'elevated levels of air pollution result in increased asthma prevalence in the general population'.**\n",
        "\n",
        "Air pollution data has been obtained from the WHO Ambient Air Quality Database\n",
        "https://whoairquality.shinyapps.io/AmbientAirQualityDatabase/\n",
        "\n",
        "Asthma prevalence data has been sourced from OWID\n",
        "https://ourworldindata.org/grapher/asthma-prevalence\n",
        "\n",
        "\n",
        "For ease of access datasets have been saved on GitHub:\n",
        "\n",
        "*   **Air pollution dataset** = https://github.com/claret003/pythoncourse/blob/main/WHO_AirQuality_Database_2018.csv\n",
        "\n",
        "*   **Asthma prevalence dataset** = https://github.com/claret003/pythoncourse/blob/main/asthma-prevalence.csv\n",
        "\n",
        "This hypothesis will be tested by first conducting exploratory data analysis on both datasets to establish their completeness, data cleaning where required, then combining relevant aspects of each dataset to carry out in-depth analysis aiming to answer specific questions, specifically looking at correlation bewteen these two factors.\n",
        "\n",
        "*A project title and description (what is interesting and how do you propose to find and present this story.*\n",
        "\n",
        "*A link to the data set* \n",
        "\n",
        "*A set of code cells containing functions that manipulate the data, analyse the data, visualise the data and show correlations and trends*\n",
        "\n",
        "*Text cells which explain what is being done in each code cell and why*\n",
        "\n",
        "*Text cells with a summary of the findings from the code*\n",
        "\n",
        "*A final text cell with a reflection on what has been done, any references (including where the data came from.* \n",
        "\n"
      ]
    },
    {
      "cell_type": "markdown",
      "metadata": {
        "id": "KYo0ykrnSjls"
      },
      "source": [
        "STEP 1 - \n",
        "Importing in the relevant libraries.\n",
        "Brining the datasets into seperate dataframes.\n",
        "Carrying out some exploratory data analysis."
      ]
    },
    {
      "cell_type": "code",
      "metadata": {
        "colab": {
          "base_uri": "https://localhost:8080/",
          "height": 417
        },
        "id": "1Q53HH9NSwpg",
        "outputId": "66663ff1-cf6f-4549-beac-64c5b0717c06"
      },
      "source": [
        "import pandas as pd\n",
        "import numpy as np\n",
        "import matplotlib.pyplot as py\n",
        "import seaborn as sns\n",
        "\n",
        "air_pollution = pd.read_csv('https://raw.githubusercontent.com/claret003/pythoncourse/main/WHO_AirQuality_Database_2018.csv')\n",
        "\n",
        "asthma_prev = pd.read_csv('https://raw.githubusercontent.com/claret003/pythoncourse/main/asthma-prevalence.csv')\n",
        "\n",
        "air_pollution.head()\n"
      ],
      "execution_count": 1,
      "outputs": [
        {
          "output_type": "execute_result",
          "data": {
            "text/html": [
              "<div>\n",
              "<style scoped>\n",
              "    .dataframe tbody tr th:only-of-type {\n",
              "        vertical-align: middle;\n",
              "    }\n",
              "\n",
              "    .dataframe tbody tr th {\n",
              "        vertical-align: top;\n",
              "    }\n",
              "\n",
              "    .dataframe thead th {\n",
              "        text-align: right;\n",
              "    }\n",
              "</style>\n",
              "<table border=\"1\" class=\"dataframe\">\n",
              "  <thead>\n",
              "    <tr style=\"text-align: right;\">\n",
              "      <th></th>\n",
              "      <th>ID WHO city</th>\n",
              "      <th>iso3</th>\n",
              "      <th>country</th>\n",
              "      <th>city</th>\n",
              "      <th>pm10</th>\n",
              "      <th>Year</th>\n",
              "      <th>type_of_stations</th>\n",
              "      <th>pm10_type</th>\n",
              "      <th>pm25</th>\n",
              "      <th>pm25_type</th>\n",
              "      <th>reference</th>\n",
              "      <th>latitude</th>\n",
              "      <th>longitude</th>\n",
              "      <th>population</th>\n",
              "      <th>wbinc16_text</th>\n",
              "      <th>region</th>\n",
              "      <th>date_compiled</th>\n",
              "      <th>population_source</th>\n",
              "      <th>tempcov_PM10</th>\n",
              "      <th>tempcov_PM25</th>\n",
              "      <th>latitude_pop</th>\n",
              "      <th>longitude_pop</th>\n",
              "      <th>Region2</th>\n",
              "      <th>region_abbr</th>\n",
              "      <th>tempcov_PM10_grad</th>\n",
              "      <th>tempcov_PM25_grad</th>\n",
              "      <th>conc_pm25</th>\n",
              "      <th>color_pm25</th>\n",
              "      <th>conc_pm10</th>\n",
              "      <th>color_pm10</th>\n",
              "    </tr>\n",
              "  </thead>\n",
              "  <tbody>\n",
              "    <tr>\n",
              "      <th>0</th>\n",
              "      <td>3.0</td>\n",
              "      <td>ALB</td>\n",
              "      <td>Albania</td>\n",
              "      <td>Tirana</td>\n",
              "      <td>31.615421</td>\n",
              "      <td>2013</td>\n",
              "      <td>1 station, traffic, urban</td>\n",
              "      <td>Measured</td>\n",
              "      <td>16.062366</td>\n",
              "      <td>Measured</td>\n",
              "      <td>European Environment Agency, Air quality e-rep...</td>\n",
              "      <td>41.330269</td>\n",
              "      <td>19.821772</td>\n",
              "      <td>453509.0</td>\n",
              "      <td>Upper middle income</td>\n",
              "      <td>Eur_LM</td>\n",
              "      <td>2016</td>\n",
              "      <td>NaN</td>\n",
              "      <td>NaN</td>\n",
              "      <td>NaN</td>\n",
              "      <td>NaN</td>\n",
              "      <td>NaN</td>\n",
              "      <td>Europe (LMIC)</td>\n",
              "      <td>Eur (LMIC)</td>\n",
              "      <td>NaN</td>\n",
              "      <td>NaN</td>\n",
              "      <td>15-&lt;25</td>\n",
              "      <td>orange</td>\n",
              "      <td>30-&lt;50</td>\n",
              "      <td>darkred</td>\n",
              "    </tr>\n",
              "    <tr>\n",
              "      <th>1</th>\n",
              "      <td>15.0</td>\n",
              "      <td>AUS</td>\n",
              "      <td>Australia</td>\n",
              "      <td>Central Coast</td>\n",
              "      <td>12.820462</td>\n",
              "      <td>2014</td>\n",
              "      <td>-</td>\n",
              "      <td>Converted</td>\n",
              "      <td>5.500000</td>\n",
              "      <td>Measured</td>\n",
              "      <td>http://www.environment.nsw.gov.au/resources/aq...</td>\n",
              "      <td>-33.278889</td>\n",
              "      <td>151.432495</td>\n",
              "      <td>297713.0</td>\n",
              "      <td>High income</td>\n",
              "      <td>Wpr_HI</td>\n",
              "      <td>2016</td>\n",
              "      <td>NaN</td>\n",
              "      <td>NaN</td>\n",
              "      <td>NaN</td>\n",
              "      <td>NaN</td>\n",
              "      <td>NaN</td>\n",
              "      <td>Western Pacific (HIC)</td>\n",
              "      <td>Wpr (HIC)</td>\n",
              "      <td>NaN</td>\n",
              "      <td>NaN</td>\n",
              "      <td>&lt;10</td>\n",
              "      <td>green</td>\n",
              "      <td>&lt;20</td>\n",
              "      <td>green</td>\n",
              "    </tr>\n",
              "    <tr>\n",
              "      <th>2</th>\n",
              "      <td>18.0</td>\n",
              "      <td>AUS</td>\n",
              "      <td>Australia</td>\n",
              "      <td>Devonport</td>\n",
              "      <td>14.918356</td>\n",
              "      <td>2013</td>\n",
              "      <td>-</td>\n",
              "      <td>Converted</td>\n",
              "      <td>6.400000</td>\n",
              "      <td>Measured</td>\n",
              "      <td>Environment Protection Authority</td>\n",
              "      <td>-41.184799</td>\n",
              "      <td>146.345993</td>\n",
              "      <td>29050.0</td>\n",
              "      <td>High income</td>\n",
              "      <td>Wpr_HI</td>\n",
              "      <td>2016</td>\n",
              "      <td>NaN</td>\n",
              "      <td>NaN</td>\n",
              "      <td>NaN</td>\n",
              "      <td>NaN</td>\n",
              "      <td>NaN</td>\n",
              "      <td>Western Pacific (HIC)</td>\n",
              "      <td>Wpr (HIC)</td>\n",
              "      <td>NaN</td>\n",
              "      <td>NaN</td>\n",
              "      <td>&lt;10</td>\n",
              "      <td>green</td>\n",
              "      <td>&lt;20</td>\n",
              "      <td>green</td>\n",
              "    </tr>\n",
              "    <tr>\n",
              "      <th>3</th>\n",
              "      <td>19.0</td>\n",
              "      <td>AUS</td>\n",
              "      <td>Australia</td>\n",
              "      <td>Geelong</td>\n",
              "      <td>17.500000</td>\n",
              "      <td>2014</td>\n",
              "      <td>1 station, Residential/Light Industry</td>\n",
              "      <td>Measured</td>\n",
              "      <td>7.507530</td>\n",
              "      <td>Converted</td>\n",
              "      <td>EPA Victoria, Environment Protection Authority...</td>\n",
              "      <td>-38.174999</td>\n",
              "      <td>144.369003</td>\n",
              "      <td>173450.0</td>\n",
              "      <td>High income</td>\n",
              "      <td>Wpr_HI</td>\n",
              "      <td>2016</td>\n",
              "      <td>NaN</td>\n",
              "      <td>NaN</td>\n",
              "      <td>NaN</td>\n",
              "      <td>NaN</td>\n",
              "      <td>NaN</td>\n",
              "      <td>Western Pacific (HIC)</td>\n",
              "      <td>Wpr (HIC)</td>\n",
              "      <td>NaN</td>\n",
              "      <td>NaN</td>\n",
              "      <td>&lt;10</td>\n",
              "      <td>green</td>\n",
              "      <td>&lt;20</td>\n",
              "      <td>green</td>\n",
              "    </tr>\n",
              "    <tr>\n",
              "      <th>4</th>\n",
              "      <td>22.0</td>\n",
              "      <td>AUS</td>\n",
              "      <td>Australia</td>\n",
              "      <td>Hobart</td>\n",
              "      <td>14.219058</td>\n",
              "      <td>2013</td>\n",
              "      <td>-</td>\n",
              "      <td>Converted</td>\n",
              "      <td>6.100000</td>\n",
              "      <td>Measured</td>\n",
              "      <td>Environment Protection Authority</td>\n",
              "      <td>-42.854599</td>\n",
              "      <td>147.315002</td>\n",
              "      <td>170977.0</td>\n",
              "      <td>High income</td>\n",
              "      <td>Wpr_HI</td>\n",
              "      <td>2016</td>\n",
              "      <td>NaN</td>\n",
              "      <td>NaN</td>\n",
              "      <td>NaN</td>\n",
              "      <td>NaN</td>\n",
              "      <td>NaN</td>\n",
              "      <td>Western Pacific (HIC)</td>\n",
              "      <td>Wpr (HIC)</td>\n",
              "      <td>NaN</td>\n",
              "      <td>NaN</td>\n",
              "      <td>&lt;10</td>\n",
              "      <td>green</td>\n",
              "      <td>&lt;20</td>\n",
              "      <td>green</td>\n",
              "    </tr>\n",
              "  </tbody>\n",
              "</table>\n",
              "</div>"
            ],
            "text/plain": [
              "   ID WHO city iso3    country  ... color_pm25  conc_pm10  color_pm10\n",
              "0          3.0  ALB    Albania  ...     orange     30-<50     darkred\n",
              "1         15.0  AUS  Australia  ...      green        <20       green\n",
              "2         18.0  AUS  Australia  ...      green        <20       green\n",
              "3         19.0  AUS  Australia  ...      green        <20       green\n",
              "4         22.0  AUS  Australia  ...      green        <20       green\n",
              "\n",
              "[5 rows x 30 columns]"
            ]
          },
          "metadata": {},
          "execution_count": 1
        }
      ]
    },
    {
      "cell_type": "markdown",
      "metadata": {
        "id": "zp0GA7sqXwgF"
      },
      "source": [
        "STEP 2 - Checking shape of datasets. Looking for null values and things that might cause an issue with analysis."
      ]
    },
    {
      "cell_type": "code",
      "metadata": {
        "id": "Y-3oTP0IXv2E",
        "colab": {
          "base_uri": "https://localhost:8080/"
        },
        "outputId": "1cf3e287-dd85-467d-c49d-3ff65e11428c"
      },
      "source": [
        "# creating a function to check for null values in dataset\n",
        "def check_shape(df):\n",
        "  shape = df.shape\n",
        "  # rows = \n",
        "  nulls = df.isnull().sum() #shows the total number of null values in each column\n",
        "  print(f'there are {shape[1]} columns in the dataset')\n",
        "  print(f'there are {shape[0]} rows in the dataset \\n')\n",
        "  print('null values per column: \\n')\n",
        "  print(nulls)\n",
        "\n",
        "print('Air pollution dataset') \n",
        "check_shape(air_pollution)\n",
        "print('\\n')\n",
        "print('Asthma dataset')\n",
        "check_shape(asthma_prev)\n",
        "\n"
      ],
      "execution_count": 2,
      "outputs": [
        {
          "output_type": "stream",
          "name": "stdout",
          "text": [
            "Air pollution dataset\n",
            "there are 30 columns in the dataset\n",
            "there are 11971 rows in the dataset \n",
            "\n",
            "null values per column: \n",
            "\n",
            "ID WHO city          11090\n",
            "iso3                     0\n",
            "country                  0\n",
            "city                     0\n",
            "pm10                     0\n",
            "Year                     0\n",
            "type_of_stations        68\n",
            "pm10_type                0\n",
            "pm25                     0\n",
            "pm25_type                0\n",
            "reference               40\n",
            "latitude                 0\n",
            "longitude                0\n",
            "population               0\n",
            "wbinc16_text             0\n",
            "region                   0\n",
            "date_compiled            0\n",
            "population_source      907\n",
            "tempcov_PM10          4320\n",
            "tempcov_PM25          7458\n",
            "latitude_pop         11961\n",
            "longitude_pop        11961\n",
            "Region2                  0\n",
            "region_abbr              0\n",
            "tempcov_PM10_grad     4320\n",
            "tempcov_PM25_grad     7458\n",
            "conc_pm25                0\n",
            "color_pm25               0\n",
            "conc_pm10                0\n",
            "color_pm10               0\n",
            "dtype: int64\n",
            "\n",
            "\n",
            "Asthma dataset\n",
            "there are 4 columns in the dataset\n",
            "there are 6468 rows in the dataset \n",
            "\n",
            "null values per column: \n",
            "\n",
            "Entity                                                                 0\n",
            "Code                                                                 980\n",
            "Year                                                                   0\n",
            "Prevalence - Asthma - Sex: Both - Age: Age-standardized (Percent)      0\n",
            "dtype: int64\n"
          ]
        }
      ]
    },
    {
      "cell_type": "markdown",
      "metadata": {
        "id": "9HgcMQU9FwU0"
      },
      "source": [
        "The fields of interest in each dataset are complete - i.e the outputs above indicate that there are no null values in these columns so there is no need to remove null values as doing so would unnecessaarily reduce the size of the dataset for no gain.\n",
        "\n",
        "The fields of interest are:\n",
        "\n",
        "Air pollution dataset: **country, pm25, year**\n",
        "\n",
        "Asthma dataset: **entity, year, prevalence**\n",
        "\n",
        "'entity' refers to the country, so the column name will be changed to reflect this."
      ]
    },
    {
      "cell_type": "code",
      "metadata": {
        "colab": {
          "base_uri": "https://localhost:8080/",
          "height": 423
        },
        "id": "SzzdNBI-HFzc",
        "outputId": "34470b5c-c810-4f67-ed2e-dadd41098501"
      },
      "source": [
        "#changing column name. the output confirms that this change has been made\n",
        "\n",
        "asthma_prev.rename(columns={'Prevalence - Asthma - Sex: Both - Age: Age-standardized (Percent)' : 'prevalence', 'Entity' : 'country'})\n"
      ],
      "execution_count": 3,
      "outputs": [
        {
          "output_type": "execute_result",
          "data": {
            "text/html": [
              "<div>\n",
              "<style scoped>\n",
              "    .dataframe tbody tr th:only-of-type {\n",
              "        vertical-align: middle;\n",
              "    }\n",
              "\n",
              "    .dataframe tbody tr th {\n",
              "        vertical-align: top;\n",
              "    }\n",
              "\n",
              "    .dataframe thead th {\n",
              "        text-align: right;\n",
              "    }\n",
              "</style>\n",
              "<table border=\"1\" class=\"dataframe\">\n",
              "  <thead>\n",
              "    <tr style=\"text-align: right;\">\n",
              "      <th></th>\n",
              "      <th>country</th>\n",
              "      <th>Code</th>\n",
              "      <th>Year</th>\n",
              "      <th>prevalence</th>\n",
              "    </tr>\n",
              "  </thead>\n",
              "  <tbody>\n",
              "    <tr>\n",
              "      <th>0</th>\n",
              "      <td>Afghanistan</td>\n",
              "      <td>AFG</td>\n",
              "      <td>1990</td>\n",
              "      <td>6.871359</td>\n",
              "    </tr>\n",
              "    <tr>\n",
              "      <th>1</th>\n",
              "      <td>Afghanistan</td>\n",
              "      <td>AFG</td>\n",
              "      <td>1991</td>\n",
              "      <td>6.778874</td>\n",
              "    </tr>\n",
              "    <tr>\n",
              "      <th>2</th>\n",
              "      <td>Afghanistan</td>\n",
              "      <td>AFG</td>\n",
              "      <td>1992</td>\n",
              "      <td>6.694809</td>\n",
              "    </tr>\n",
              "    <tr>\n",
              "      <th>3</th>\n",
              "      <td>Afghanistan</td>\n",
              "      <td>AFG</td>\n",
              "      <td>1993</td>\n",
              "      <td>6.617201</td>\n",
              "    </tr>\n",
              "    <tr>\n",
              "      <th>4</th>\n",
              "      <td>Afghanistan</td>\n",
              "      <td>AFG</td>\n",
              "      <td>1994</td>\n",
              "      <td>6.546920</td>\n",
              "    </tr>\n",
              "    <tr>\n",
              "      <th>...</th>\n",
              "      <td>...</td>\n",
              "      <td>...</td>\n",
              "      <td>...</td>\n",
              "      <td>...</td>\n",
              "    </tr>\n",
              "    <tr>\n",
              "      <th>6463</th>\n",
              "      <td>Zimbabwe</td>\n",
              "      <td>ZWE</td>\n",
              "      <td>2013</td>\n",
              "      <td>2.924504</td>\n",
              "    </tr>\n",
              "    <tr>\n",
              "      <th>6464</th>\n",
              "      <td>Zimbabwe</td>\n",
              "      <td>ZWE</td>\n",
              "      <td>2014</td>\n",
              "      <td>2.938950</td>\n",
              "    </tr>\n",
              "    <tr>\n",
              "      <th>6465</th>\n",
              "      <td>Zimbabwe</td>\n",
              "      <td>ZWE</td>\n",
              "      <td>2015</td>\n",
              "      <td>2.953462</td>\n",
              "    </tr>\n",
              "    <tr>\n",
              "      <th>6466</th>\n",
              "      <td>Zimbabwe</td>\n",
              "      <td>ZWE</td>\n",
              "      <td>2016</td>\n",
              "      <td>2.967474</td>\n",
              "    </tr>\n",
              "    <tr>\n",
              "      <th>6467</th>\n",
              "      <td>Zimbabwe</td>\n",
              "      <td>ZWE</td>\n",
              "      <td>2017</td>\n",
              "      <td>2.980567</td>\n",
              "    </tr>\n",
              "  </tbody>\n",
              "</table>\n",
              "<p>6468 rows × 4 columns</p>\n",
              "</div>"
            ],
            "text/plain": [
              "          country Code  Year  prevalence\n",
              "0     Afghanistan  AFG  1990    6.871359\n",
              "1     Afghanistan  AFG  1991    6.778874\n",
              "2     Afghanistan  AFG  1992    6.694809\n",
              "3     Afghanistan  AFG  1993    6.617201\n",
              "4     Afghanistan  AFG  1994    6.546920\n",
              "...           ...  ...   ...         ...\n",
              "6463     Zimbabwe  ZWE  2013    2.924504\n",
              "6464     Zimbabwe  ZWE  2014    2.938950\n",
              "6465     Zimbabwe  ZWE  2015    2.953462\n",
              "6466     Zimbabwe  ZWE  2016    2.967474\n",
              "6467     Zimbabwe  ZWE  2017    2.980567\n",
              "\n",
              "[6468 rows x 4 columns]"
            ]
          },
          "metadata": {},
          "execution_count": 3
        }
      ]
    },
    {
      "cell_type": "markdown",
      "metadata": {
        "id": "6SSuiAeTHoev"
      },
      "source": [
        "STEP 2 - Isolate relevant repoting period for each dataset.\n",
        "\n",
        "The two datasets have differnt reporting periods. As the hypothesis being tested assumes a link between air pollution and asthma, reporting peiods are being selected on the basis that there is a lag time, i.e. exposure to air pollution is required for a period of time before the onset of asthma, and then its diagnosis.\n",
        "\n",
        "Based on this assumption, data has been selected to incorporporate a lag of 5 years bewteen the reporting periods of the two dataset. Air pollution reporting period is 2009-2013, and the Asthma prevaence reporting period is 2013 - 2017.\n",
        "*The validity of this lag time is something that could be investigated further.*"
      ]
    },
    {
      "cell_type": "code",
      "metadata": {
        "colab": {
          "base_uri": "https://localhost:8080/",
          "height": 338
        },
        "id": "VaHrzqy4JINL",
        "outputId": "8808a569-e1ac-4285-da11-dd27932df934"
      },
      "source": [
        "# isolating 2009-2013 air pollution data\n",
        "\n",
        "def keep_years(df, column_name, start_year,end_year):\n",
        "  new_df = df[(df[column_name]>=start_year)]\n",
        "  new_df = new_df[(new_df[column_name]<=end_year)]\n",
        "  return new_df\n",
        "\n",
        "air_data = keep_years(air_pollution,\"Year\",2009,2013)\n",
        "\n",
        "air_data.describe() #using this to check the max and min year, making sure that it has selected only what I have specified\n"
      ],
      "execution_count": 59,
      "outputs": [
        {
          "output_type": "execute_result",
          "data": {
            "text/html": [
              "<div>\n",
              "<style scoped>\n",
              "    .dataframe tbody tr th:only-of-type {\n",
              "        vertical-align: middle;\n",
              "    }\n",
              "\n",
              "    .dataframe tbody tr th {\n",
              "        vertical-align: top;\n",
              "    }\n",
              "\n",
              "    .dataframe thead th {\n",
              "        text-align: right;\n",
              "    }\n",
              "</style>\n",
              "<table border=\"1\" class=\"dataframe\">\n",
              "  <thead>\n",
              "    <tr style=\"text-align: right;\">\n",
              "      <th></th>\n",
              "      <th>ID WHO city</th>\n",
              "      <th>pm10</th>\n",
              "      <th>Year</th>\n",
              "      <th>pm25</th>\n",
              "      <th>latitude</th>\n",
              "      <th>longitude</th>\n",
              "      <th>population</th>\n",
              "      <th>date_compiled</th>\n",
              "      <th>tempcov_PM10</th>\n",
              "      <th>tempcov_PM25</th>\n",
              "      <th>latitude_pop</th>\n",
              "      <th>longitude_pop</th>\n",
              "    </tr>\n",
              "  </thead>\n",
              "  <tbody>\n",
              "    <tr>\n",
              "      <th>count</th>\n",
              "      <td>474.000000</td>\n",
              "      <td>3304.000000</td>\n",
              "      <td>3304.000000</td>\n",
              "      <td>3304.000000</td>\n",
              "      <td>3304.000000</td>\n",
              "      <td>3304.000000</td>\n",
              "      <td>3.304000e+03</td>\n",
              "      <td>3304.000000</td>\n",
              "      <td>1853.000000</td>\n",
              "      <td>811.000000</td>\n",
              "      <td>1.000000</td>\n",
              "      <td>1.000000</td>\n",
              "    </tr>\n",
              "    <tr>\n",
              "      <th>mean</th>\n",
              "      <td>1498.356540</td>\n",
              "      <td>35.025908</td>\n",
              "      <td>2012.538136</td>\n",
              "      <td>20.009787</td>\n",
              "      <td>34.619968</td>\n",
              "      <td>11.267983</td>\n",
              "      <td>4.604410e+05</td>\n",
              "      <td>2017.713075</td>\n",
              "      <td>0.980149</td>\n",
              "      <td>1.028545</td>\n",
              "      <td>34.681667</td>\n",
              "      <td>33.017776</td>\n",
              "    </tr>\n",
              "    <tr>\n",
              "      <th>std</th>\n",
              "      <td>675.107112</td>\n",
              "      <td>36.326386</td>\n",
              "      <td>0.871244</td>\n",
              "      <td>17.364901</td>\n",
              "      <td>25.128767</td>\n",
              "      <td>44.113748</td>\n",
              "      <td>1.875943e+06</td>\n",
              "      <td>0.701194</td>\n",
              "      <td>1.415652</td>\n",
              "      <td>2.356234</td>\n",
              "      <td>NaN</td>\n",
              "      <td>NaN</td>\n",
              "    </tr>\n",
              "    <tr>\n",
              "      <th>min</th>\n",
              "      <td>3.000000</td>\n",
              "      <td>3.414147</td>\n",
              "      <td>2009.000000</td>\n",
              "      <td>1.420602</td>\n",
              "      <td>-46.413185</td>\n",
              "      <td>-123.163330</td>\n",
              "      <td>6.000000e+00</td>\n",
              "      <td>2016.000000</td>\n",
              "      <td>0.013699</td>\n",
              "      <td>0.152854</td>\n",
              "      <td>34.681667</td>\n",
              "      <td>33.017776</td>\n",
              "    </tr>\n",
              "    <tr>\n",
              "      <th>25%</th>\n",
              "      <td>1207.250000</td>\n",
              "      <td>18.699600</td>\n",
              "      <td>2012.000000</td>\n",
              "      <td>11.750177</td>\n",
              "      <td>31.839295</td>\n",
              "      <td>-0.233333</td>\n",
              "      <td>1.148475e+04</td>\n",
              "      <td>2018.000000</td>\n",
              "      <td>0.931507</td>\n",
              "      <td>0.928767</td>\n",
              "      <td>34.681667</td>\n",
              "      <td>33.017776</td>\n",
              "    </tr>\n",
              "    <tr>\n",
              "      <th>50%</th>\n",
              "      <td>1537.000000</td>\n",
              "      <td>23.606363</td>\n",
              "      <td>2013.000000</td>\n",
              "      <td>15.306579</td>\n",
              "      <td>45.370477</td>\n",
              "      <td>8.840091</td>\n",
              "      <td>4.276900e+04</td>\n",
              "      <td>2018.000000</td>\n",
              "      <td>0.972603</td>\n",
              "      <td>0.967466</td>\n",
              "      <td>34.681667</td>\n",
              "      <td>33.017776</td>\n",
              "    </tr>\n",
              "    <tr>\n",
              "      <th>75%</th>\n",
              "      <td>1888.750000</td>\n",
              "      <td>35.213722</td>\n",
              "      <td>2013.000000</td>\n",
              "      <td>21.423682</td>\n",
              "      <td>49.329654</td>\n",
              "      <td>18.417867</td>\n",
              "      <td>1.952832e+05</td>\n",
              "      <td>2018.000000</td>\n",
              "      <td>0.992808</td>\n",
              "      <td>0.991781</td>\n",
              "      <td>34.681667</td>\n",
              "      <td>33.017776</td>\n",
              "    </tr>\n",
              "    <tr>\n",
              "      <th>max</th>\n",
              "      <td>2978.000000</td>\n",
              "      <td>540.000000</td>\n",
              "      <td>2013.000000</td>\n",
              "      <td>216.620000</td>\n",
              "      <td>69.667910</td>\n",
              "      <td>176.918625</td>\n",
              "      <td>2.570317e+07</td>\n",
              "      <td>2018.000000</td>\n",
              "      <td>61.750000</td>\n",
              "      <td>68.000000</td>\n",
              "      <td>34.681667</td>\n",
              "      <td>33.017776</td>\n",
              "    </tr>\n",
              "  </tbody>\n",
              "</table>\n",
              "</div>"
            ],
            "text/plain": [
              "       ID WHO city         pm10  ...  latitude_pop  longitude_pop\n",
              "count   474.000000  3304.000000  ...      1.000000       1.000000\n",
              "mean   1498.356540    35.025908  ...     34.681667      33.017776\n",
              "std     675.107112    36.326386  ...           NaN            NaN\n",
              "min       3.000000     3.414147  ...     34.681667      33.017776\n",
              "25%    1207.250000    18.699600  ...     34.681667      33.017776\n",
              "50%    1537.000000    23.606363  ...     34.681667      33.017776\n",
              "75%    1888.750000    35.213722  ...     34.681667      33.017776\n",
              "max    2978.000000   540.000000  ...     34.681667      33.017776\n",
              "\n",
              "[8 rows x 12 columns]"
            ]
          },
          "metadata": {},
          "execution_count": 59
        }
      ]
    },
    {
      "cell_type": "code",
      "metadata": {
        "colab": {
          "base_uri": "https://localhost:8080/"
        },
        "id": "2YAeVAgyJIGa",
        "outputId": "7f4538b6-23d6-45c9-abd3-028e1df03a26"
      },
      "source": [
        "# isolating 2013 - 2017 asthma prevalence data by calling the function defined above\n",
        "\n",
        "asthma_data = keep_years(asthma_prev,\"Year\",2013,2017)\n",
        "\n",
        "#running a test to check if the years were correctly isolated\n",
        "\n",
        "if asthma_data['Year'].min() == 2013 and asthma_data['Year'].max() ==2017:\n",
        "  print (\"test passed! years successfully isolated\")\n",
        "else:\n",
        "  print(\"somthing went wrong, ceck the code again\")"
      ],
      "execution_count": 60,
      "outputs": [
        {
          "output_type": "stream",
          "name": "stdout",
          "text": [
            "test passed! years successfully isolated\n"
          ]
        }
      ]
    },
    {
      "cell_type": "markdown",
      "metadata": {
        "id": "-VxE0Cq8j6UP"
      },
      "source": [
        "The code blocoks above use two differnt ways of assessing whether the correct date range as been isolated. One by looking at the description output and manually cheking the min and max dates, the second using a test to verify that the correct date range was selected."
      ]
    },
    {
      "cell_type": "markdown",
      "metadata": {
        "id": "1R--UYXHVVsL"
      },
      "source": [
        "**STEP 3 - Group the datasets by country to create a country mean for air pollution rate and asthma prevalence, calculated over a five year period.**"
      ]
    },
    {
      "cell_type": "code",
      "metadata": {
        "colab": {
          "base_uri": "https://localhost:8080/",
          "height": 238
        },
        "id": "R0wvtmHOVrSs",
        "outputId": "f60361c8-6fca-410d-df11-7f9f995675b5"
      },
      "source": [
        "#air pollution data\n",
        "\n",
        "air_data_by_country = air_data[[\"country\", \"pm25\"]].groupby(\"country\").mean()\n",
        "\n",
        "air_data_by_country.head()\n"
      ],
      "execution_count": 61,
      "outputs": [
        {
          "output_type": "execute_result",
          "data": {
            "text/html": [
              "<div>\n",
              "<style scoped>\n",
              "    .dataframe tbody tr th:only-of-type {\n",
              "        vertical-align: middle;\n",
              "    }\n",
              "\n",
              "    .dataframe tbody tr th {\n",
              "        vertical-align: top;\n",
              "    }\n",
              "\n",
              "    .dataframe thead th {\n",
              "        text-align: right;\n",
              "    }\n",
              "</style>\n",
              "<table border=\"1\" class=\"dataframe\">\n",
              "  <thead>\n",
              "    <tr style=\"text-align: right;\">\n",
              "      <th></th>\n",
              "      <th>pm25</th>\n",
              "    </tr>\n",
              "    <tr>\n",
              "      <th>country</th>\n",
              "      <th></th>\n",
              "    </tr>\n",
              "  </thead>\n",
              "  <tbody>\n",
              "    <tr>\n",
              "      <th>Albania</th>\n",
              "      <td>16.062366</td>\n",
              "    </tr>\n",
              "    <tr>\n",
              "      <th>Andorra</th>\n",
              "      <td>18.320474</td>\n",
              "    </tr>\n",
              "    <tr>\n",
              "      <th>Australia</th>\n",
              "      <td>7.851019</td>\n",
              "    </tr>\n",
              "    <tr>\n",
              "      <th>Austria</th>\n",
              "      <td>14.866206</td>\n",
              "    </tr>\n",
              "    <tr>\n",
              "      <th>Bahrain</th>\n",
              "      <td>54.606000</td>\n",
              "    </tr>\n",
              "  </tbody>\n",
              "</table>\n",
              "</div>"
            ],
            "text/plain": [
              "                pm25\n",
              "country             \n",
              "Albania    16.062366\n",
              "Andorra    18.320474\n",
              "Australia   7.851019\n",
              "Austria    14.866206\n",
              "Bahrain    54.606000"
            ]
          },
          "metadata": {},
          "execution_count": 61
        }
      ]
    },
    {
      "cell_type": "code",
      "metadata": {
        "colab": {
          "base_uri": "https://localhost:8080/",
          "height": 238
        },
        "id": "8QNjU0REXHL3",
        "outputId": "10a24e90-21a2-4e09-fbca-50e40e357a31"
      },
      "source": [
        "#asthma prevaence data\n",
        "# asthma_data.columns\n",
        "asthma_data_by_country = asthma_data[[\"Entity\", \"Prevalence - Asthma - Sex: Both - Age: Age-standardized (Percent)\"]].groupby(\"Entity\").mean()\n",
        "asthma_data_by_country = asthma_data_by_country.rename(columns={'Prevalence - Asthma - Sex: Both - Age: Age-standardized (Percent)' :'prevalence'})\n",
        "\n",
        "asthma_data_by_country.head()"
      ],
      "execution_count": 62,
      "outputs": [
        {
          "output_type": "execute_result",
          "data": {
            "text/html": [
              "<div>\n",
              "<style scoped>\n",
              "    .dataframe tbody tr th:only-of-type {\n",
              "        vertical-align: middle;\n",
              "    }\n",
              "\n",
              "    .dataframe tbody tr th {\n",
              "        vertical-align: top;\n",
              "    }\n",
              "\n",
              "    .dataframe thead th {\n",
              "        text-align: right;\n",
              "    }\n",
              "</style>\n",
              "<table border=\"1\" class=\"dataframe\">\n",
              "  <thead>\n",
              "    <tr style=\"text-align: right;\">\n",
              "      <th></th>\n",
              "      <th>prevalence</th>\n",
              "    </tr>\n",
              "    <tr>\n",
              "      <th>Entity</th>\n",
              "      <th></th>\n",
              "    </tr>\n",
              "  </thead>\n",
              "  <tbody>\n",
              "    <tr>\n",
              "      <th>Afghanistan</th>\n",
              "      <td>6.310381</td>\n",
              "    </tr>\n",
              "    <tr>\n",
              "      <th>Albania</th>\n",
              "      <td>2.888694</td>\n",
              "    </tr>\n",
              "    <tr>\n",
              "      <th>Algeria</th>\n",
              "      <td>5.925728</td>\n",
              "    </tr>\n",
              "    <tr>\n",
              "      <th>American Samoa</th>\n",
              "      <td>11.126043</td>\n",
              "    </tr>\n",
              "    <tr>\n",
              "      <th>Andean Latin America</th>\n",
              "      <td>5.244629</td>\n",
              "    </tr>\n",
              "  </tbody>\n",
              "</table>\n",
              "</div>"
            ],
            "text/plain": [
              "                      prevalence\n",
              "Entity                          \n",
              "Afghanistan             6.310381\n",
              "Albania                 2.888694\n",
              "Algeria                 5.925728\n",
              "American Samoa         11.126043\n",
              "Andean Latin America    5.244629"
            ]
          },
          "metadata": {},
          "execution_count": 62
        }
      ]
    },
    {
      "cell_type": "markdown",
      "metadata": {
        "id": "-cR7M1fqaw-U"
      },
      "source": [
        "**STEP 4 - checking the shape of the new dataframes. Need to know if they have the same number of countries before anything is merged.**"
      ]
    },
    {
      "cell_type": "code",
      "metadata": {
        "colab": {
          "base_uri": "https://localhost:8080/"
        },
        "id": "wGZ8oXgQa824",
        "outputId": "187b7b34-4783-442a-b50b-b55ea349c581"
      },
      "source": [
        "air_data_by_country.count(axis = 'columns')"
      ],
      "execution_count": 63,
      "outputs": [
        {
          "output_type": "execute_result",
          "data": {
            "text/plain": [
              "country\n",
              "Albania                              1\n",
              "Andorra                              1\n",
              "Australia                            1\n",
              "Austria                              1\n",
              "Bahrain                              1\n",
              "                                    ..\n",
              "United Arab Emirates                 1\n",
              "United Kingdom                       1\n",
              "United Republic of Tanzania          1\n",
              "Venezuela, Bolivarian Republic of    1\n",
              "Viet Nam                             1\n",
              "Length: 83, dtype: int64"
            ]
          },
          "metadata": {},
          "execution_count": 63
        }
      ]
    },
    {
      "cell_type": "code",
      "metadata": {
        "colab": {
          "base_uri": "https://localhost:8080/"
        },
        "id": "RjzpULPUbfX-",
        "outputId": "93183915-16aa-4eff-ccda-68798b8e969c"
      },
      "source": [
        "asthma_data_by_country.count(axis = 'columns')"
      ],
      "execution_count": 64,
      "outputs": [
        {
          "output_type": "execute_result",
          "data": {
            "text/plain": [
              "Entity\n",
              "Afghanistan                   1\n",
              "Albania                       1\n",
              "Algeria                       1\n",
              "American Samoa                1\n",
              "Andean Latin America          1\n",
              "                             ..\n",
              "Western Sub-Saharan Africa    1\n",
              "World                         1\n",
              "Yemen                         1\n",
              "Zambia                        1\n",
              "Zimbabwe                      1\n",
              "Length: 231, dtype: int64"
            ]
          },
          "metadata": {},
          "execution_count": 64
        }
      ]
    },
    {
      "cell_type": "markdown",
      "metadata": {
        "id": "IxcpcjGkdmNl"
      },
      "source": [
        "This shows that the air pollution dataset has 83 countries and the asthma prevalence dataset has 231 countries. Only those countires where both peices of data are available will help test the hypothesis."
      ]
    },
    {
      "cell_type": "code",
      "metadata": {
        "id": "IPeE_51d2DjI",
        "outputId": "ab2ab8ad-c178-4b43-ea96-74a9355690ed",
        "colab": {
          "base_uri": "https://localhost:8080/",
          "height": 131
        }
      },
      "source": [
        "air_data_by_country.to_excel(r'C:\\Users\\902729\\Desktop\\CodeDivision')\n",
        "asthma_data_by_country.(r'C:\\Users\\902729\\Desktop\\'CodeDivision')"
      ],
      "execution_count": 86,
      "outputs": [
        {
          "output_type": "error",
          "ename": "SyntaxError",
          "evalue": "ignored",
          "traceback": [
            "\u001b[0;36m  File \u001b[0;32m\"<ipython-input-86-a22aa1f5b98e>\"\u001b[0;36m, line \u001b[0;32m2\u001b[0m\n\u001b[0;31m    asthma_data_by_country.(r'C:\\Users\\902729\\Desktop\\'CodeDivision')\u001b[0m\n\u001b[0m                           ^\u001b[0m\n\u001b[0;31mSyntaxError\u001b[0m\u001b[0;31m:\u001b[0m invalid syntax\n"
          ]
        }
      ]
    },
    {
      "cell_type": "markdown",
      "metadata": {
        "id": "LTFVOiHGd5DQ"
      },
      "source": [
        "**STEP 5 - Create a new dataframe that will house all the relevant data for testing the hypothesis.**\n",
        "\n",
        "Copy the air_data dataframe, insert a new column and pull over the relevant asthma prevalence data from the other dataset.  \n"
      ]
    },
    {
      "cell_type": "code",
      "metadata": {
        "colab": {
          "base_uri": "https://localhost:8080/",
          "height": 380
        },
        "id": "sYc2NSSeeJIz",
        "outputId": "4b3a1d82-5288-4e03-a674-dd56dc920df5"
      },
      "source": [
        "#creating a new dataframe which will hold all relevant info for  assessing correlation\n",
        "\n",
        "\n",
        "# air_data_by_country = air_data_by_country.reset_index()\n",
        "# asthma_data_by_country = asthma_data_by_country.reset_index()\n",
        "\n",
        "combined_data = air_data_by_country.copy()\n",
        "combined_data = combined_data.rename(columns={'country' : 'Entity'})\n",
        "\n",
        "\n",
        "# #create an if statement on which to base values in the new column\n",
        "for i in combined_data['Entity']:\n",
        "  for k in asthma_data_by_country['prevalence']:\n",
        "    for j in asthma_data_by_country['Entity']:\n",
        "      if i == j:\n",
        "       combined_data['asthma_prev'] = k\n",
        "      else:\n",
        "       combined_data['asthma_prev'] = 0\n",
        "\n",
        "\n",
        "\n",
        "# combined_data = pd.concat([air_data_by_country, asthma_data_by_country])\n",
        "# # combined_data\n",
        "\n"
      ],
      "execution_count": 96,
      "outputs": [
        {
          "output_type": "error",
          "ename": "KeyboardInterrupt",
          "evalue": "ignored",
          "traceback": [
            "\u001b[0;31m---------------------------------------------------------------------------\u001b[0m",
            "\u001b[0;31mKeyboardInterrupt\u001b[0m                         Traceback (most recent call last)",
            "\u001b[0;32m<ipython-input-96-e94487f925da>\u001b[0m in \u001b[0;36m<module>\u001b[0;34m()\u001b[0m\n\u001b[1;32m     16\u001b[0m        \u001b[0mcombined_data\u001b[0m\u001b[0;34m[\u001b[0m\u001b[0;34m'asthma_prev'\u001b[0m\u001b[0;34m]\u001b[0m \u001b[0;34m=\u001b[0m \u001b[0mk\u001b[0m\u001b[0;34m\u001b[0m\u001b[0;34m\u001b[0m\u001b[0m\n\u001b[1;32m     17\u001b[0m       \u001b[0;32melse\u001b[0m\u001b[0;34m:\u001b[0m\u001b[0;34m\u001b[0m\u001b[0;34m\u001b[0m\u001b[0m\n\u001b[0;32m---> 18\u001b[0;31m        \u001b[0mcombined_data\u001b[0m\u001b[0;34m[\u001b[0m\u001b[0;34m'asthma_prev'\u001b[0m\u001b[0;34m]\u001b[0m \u001b[0;34m=\u001b[0m \u001b[0;36m0\u001b[0m\u001b[0;34m\u001b[0m\u001b[0;34m\u001b[0m\u001b[0m\n\u001b[0m\u001b[1;32m     19\u001b[0m \u001b[0;34m\u001b[0m\u001b[0m\n\u001b[1;32m     20\u001b[0m \u001b[0;34m\u001b[0m\u001b[0m\n",
            "\u001b[0;32m/usr/local/lib/python3.7/dist-packages/pandas/core/frame.py\u001b[0m in \u001b[0;36m__setitem__\u001b[0;34m(self, key, value)\u001b[0m\n\u001b[1;32m   3042\u001b[0m         \u001b[0;32melse\u001b[0m\u001b[0;34m:\u001b[0m\u001b[0;34m\u001b[0m\u001b[0;34m\u001b[0m\u001b[0m\n\u001b[1;32m   3043\u001b[0m             \u001b[0;31m# set column\u001b[0m\u001b[0;34m\u001b[0m\u001b[0;34m\u001b[0m\u001b[0;34m\u001b[0m\u001b[0m\n\u001b[0;32m-> 3044\u001b[0;31m             \u001b[0mself\u001b[0m\u001b[0;34m.\u001b[0m\u001b[0m_set_item\u001b[0m\u001b[0;34m(\u001b[0m\u001b[0mkey\u001b[0m\u001b[0;34m,\u001b[0m \u001b[0mvalue\u001b[0m\u001b[0;34m)\u001b[0m\u001b[0;34m\u001b[0m\u001b[0;34m\u001b[0m\u001b[0m\n\u001b[0m\u001b[1;32m   3045\u001b[0m \u001b[0;34m\u001b[0m\u001b[0m\n\u001b[1;32m   3046\u001b[0m     \u001b[0;32mdef\u001b[0m \u001b[0m_setitem_slice\u001b[0m\u001b[0;34m(\u001b[0m\u001b[0mself\u001b[0m\u001b[0;34m,\u001b[0m \u001b[0mkey\u001b[0m\u001b[0;34m:\u001b[0m \u001b[0mslice\u001b[0m\u001b[0;34m,\u001b[0m \u001b[0mvalue\u001b[0m\u001b[0;34m)\u001b[0m\u001b[0;34m:\u001b[0m\u001b[0;34m\u001b[0m\u001b[0;34m\u001b[0m\u001b[0m\n",
            "\u001b[0;32m/usr/local/lib/python3.7/dist-packages/pandas/core/frame.py\u001b[0m in \u001b[0;36m_set_item\u001b[0;34m(self, key, value)\u001b[0m\n\u001b[1;32m   3118\u001b[0m         \"\"\"\n\u001b[1;32m   3119\u001b[0m         \u001b[0mself\u001b[0m\u001b[0;34m.\u001b[0m\u001b[0m_ensure_valid_index\u001b[0m\u001b[0;34m(\u001b[0m\u001b[0mvalue\u001b[0m\u001b[0;34m)\u001b[0m\u001b[0;34m\u001b[0m\u001b[0;34m\u001b[0m\u001b[0m\n\u001b[0;32m-> 3120\u001b[0;31m         \u001b[0mvalue\u001b[0m \u001b[0;34m=\u001b[0m \u001b[0mself\u001b[0m\u001b[0;34m.\u001b[0m\u001b[0m_sanitize_column\u001b[0m\u001b[0;34m(\u001b[0m\u001b[0mkey\u001b[0m\u001b[0;34m,\u001b[0m \u001b[0mvalue\u001b[0m\u001b[0;34m)\u001b[0m\u001b[0;34m\u001b[0m\u001b[0;34m\u001b[0m\u001b[0m\n\u001b[0m\u001b[1;32m   3121\u001b[0m         \u001b[0mNDFrame\u001b[0m\u001b[0;34m.\u001b[0m\u001b[0m_set_item\u001b[0m\u001b[0;34m(\u001b[0m\u001b[0mself\u001b[0m\u001b[0;34m,\u001b[0m \u001b[0mkey\u001b[0m\u001b[0;34m,\u001b[0m \u001b[0mvalue\u001b[0m\u001b[0;34m)\u001b[0m\u001b[0;34m\u001b[0m\u001b[0;34m\u001b[0m\u001b[0m\n\u001b[1;32m   3122\u001b[0m \u001b[0;34m\u001b[0m\u001b[0m\n",
            "\u001b[0;32m/usr/local/lib/python3.7/dist-packages/pandas/core/frame.py\u001b[0m in \u001b[0;36m_sanitize_column\u001b[0;34m(self, key, value, broadcast)\u001b[0m\n\u001b[1;32m   3795\u001b[0m                 \u001b[0mvalue\u001b[0m \u001b[0;34m=\u001b[0m \u001b[0mcast_scalar_to_array\u001b[0m\u001b[0;34m(\u001b[0m\u001b[0mlen\u001b[0m\u001b[0;34m(\u001b[0m\u001b[0mself\u001b[0m\u001b[0;34m.\u001b[0m\u001b[0mindex\u001b[0m\u001b[0;34m)\u001b[0m\u001b[0;34m,\u001b[0m \u001b[0mvalue\u001b[0m\u001b[0;34m)\u001b[0m\u001b[0;34m\u001b[0m\u001b[0;34m\u001b[0m\u001b[0m\n\u001b[1;32m   3796\u001b[0m \u001b[0;34m\u001b[0m\u001b[0m\n\u001b[0;32m-> 3797\u001b[0;31m             \u001b[0mvalue\u001b[0m \u001b[0;34m=\u001b[0m \u001b[0mmaybe_cast_to_datetime\u001b[0m\u001b[0;34m(\u001b[0m\u001b[0mvalue\u001b[0m\u001b[0;34m,\u001b[0m \u001b[0minfer_dtype\u001b[0m\u001b[0;34m)\u001b[0m\u001b[0;34m\u001b[0m\u001b[0;34m\u001b[0m\u001b[0m\n\u001b[0m\u001b[1;32m   3798\u001b[0m \u001b[0;34m\u001b[0m\u001b[0m\n\u001b[1;32m   3799\u001b[0m         \u001b[0;31m# return internal types directly\u001b[0m\u001b[0;34m\u001b[0m\u001b[0;34m\u001b[0m\u001b[0;34m\u001b[0m\u001b[0m\n",
            "\u001b[0;32m/usr/local/lib/python3.7/dist-packages/pandas/core/dtypes/cast.py\u001b[0m in \u001b[0;36mmaybe_cast_to_datetime\u001b[0;34m(value, dtype, errors)\u001b[0m\n\u001b[1;32m   1321\u001b[0m \u001b[0;34m\u001b[0m\u001b[0m\n\u001b[1;32m   1322\u001b[0m         \u001b[0mis_datetime64\u001b[0m \u001b[0;34m=\u001b[0m \u001b[0mis_datetime64_dtype\u001b[0m\u001b[0;34m(\u001b[0m\u001b[0mdtype\u001b[0m\u001b[0;34m)\u001b[0m\u001b[0;34m\u001b[0m\u001b[0;34m\u001b[0m\u001b[0m\n\u001b[0;32m-> 1323\u001b[0;31m         \u001b[0mis_datetime64tz\u001b[0m \u001b[0;34m=\u001b[0m \u001b[0mis_datetime64tz_dtype\u001b[0m\u001b[0;34m(\u001b[0m\u001b[0mdtype\u001b[0m\u001b[0;34m)\u001b[0m\u001b[0;34m\u001b[0m\u001b[0;34m\u001b[0m\u001b[0m\n\u001b[0m\u001b[1;32m   1324\u001b[0m         \u001b[0mis_timedelta64\u001b[0m \u001b[0;34m=\u001b[0m \u001b[0mis_timedelta64_dtype\u001b[0m\u001b[0;34m(\u001b[0m\u001b[0mdtype\u001b[0m\u001b[0;34m)\u001b[0m\u001b[0;34m\u001b[0m\u001b[0;34m\u001b[0m\u001b[0m\n\u001b[1;32m   1325\u001b[0m \u001b[0;34m\u001b[0m\u001b[0m\n",
            "\u001b[0;32m/usr/local/lib/python3.7/dist-packages/pandas/core/dtypes/common.py\u001b[0m in \u001b[0;36mis_datetime64tz_dtype\u001b[0;34m(arr_or_dtype)\u001b[0m\n\u001b[1;32m    417\u001b[0m     \u001b[0;32mif\u001b[0m \u001b[0marr_or_dtype\u001b[0m \u001b[0;32mis\u001b[0m \u001b[0;32mNone\u001b[0m\u001b[0;34m:\u001b[0m\u001b[0;34m\u001b[0m\u001b[0;34m\u001b[0m\u001b[0m\n\u001b[1;32m    418\u001b[0m         \u001b[0;32mreturn\u001b[0m \u001b[0;32mFalse\u001b[0m\u001b[0;34m\u001b[0m\u001b[0;34m\u001b[0m\u001b[0m\n\u001b[0;32m--> 419\u001b[0;31m     \u001b[0;32mreturn\u001b[0m \u001b[0mDatetimeTZDtype\u001b[0m\u001b[0;34m.\u001b[0m\u001b[0mis_dtype\u001b[0m\u001b[0;34m(\u001b[0m\u001b[0marr_or_dtype\u001b[0m\u001b[0;34m)\u001b[0m\u001b[0;34m\u001b[0m\u001b[0;34m\u001b[0m\u001b[0m\n\u001b[0m\u001b[1;32m    420\u001b[0m \u001b[0;34m\u001b[0m\u001b[0m\n\u001b[1;32m    421\u001b[0m \u001b[0;34m\u001b[0m\u001b[0m\n",
            "\u001b[0;32m/usr/local/lib/python3.7/dist-packages/pandas/core/dtypes/base.py\u001b[0m in \u001b[0;36mis_dtype\u001b[0;34m(cls, dtype)\u001b[0m\n\u001b[1;32m    280\u001b[0m         \u001b[0mdtype\u001b[0m \u001b[0;34m=\u001b[0m \u001b[0mgetattr\u001b[0m\u001b[0;34m(\u001b[0m\u001b[0mdtype\u001b[0m\u001b[0;34m,\u001b[0m \u001b[0;34m\"dtype\"\u001b[0m\u001b[0;34m,\u001b[0m \u001b[0mdtype\u001b[0m\u001b[0;34m)\u001b[0m\u001b[0;34m\u001b[0m\u001b[0;34m\u001b[0m\u001b[0m\n\u001b[1;32m    281\u001b[0m \u001b[0;34m\u001b[0m\u001b[0m\n\u001b[0;32m--> 282\u001b[0;31m         \u001b[0;32mif\u001b[0m \u001b[0misinstance\u001b[0m\u001b[0;34m(\u001b[0m\u001b[0mdtype\u001b[0m\u001b[0;34m,\u001b[0m \u001b[0;34m(\u001b[0m\u001b[0mABCSeries\u001b[0m\u001b[0;34m,\u001b[0m \u001b[0mABCIndexClass\u001b[0m\u001b[0;34m,\u001b[0m \u001b[0mABCDataFrame\u001b[0m\u001b[0;34m,\u001b[0m \u001b[0mnp\u001b[0m\u001b[0;34m.\u001b[0m\u001b[0mdtype\u001b[0m\u001b[0;34m)\u001b[0m\u001b[0;34m)\u001b[0m\u001b[0;34m:\u001b[0m\u001b[0;34m\u001b[0m\u001b[0;34m\u001b[0m\u001b[0m\n\u001b[0m\u001b[1;32m    283\u001b[0m             \u001b[0;31m# https://github.com/pandas-dev/pandas/issues/22960\u001b[0m\u001b[0;34m\u001b[0m\u001b[0;34m\u001b[0m\u001b[0;34m\u001b[0m\u001b[0m\n\u001b[1;32m    284\u001b[0m             \u001b[0;31m# avoid passing data to `construct_from_string`. This could\u001b[0m\u001b[0;34m\u001b[0m\u001b[0;34m\u001b[0m\u001b[0;34m\u001b[0m\u001b[0m\n",
            "\u001b[0;32m/usr/local/lib/python3.7/dist-packages/pandas/core/dtypes/generic.py\u001b[0m in \u001b[0;36m_check\u001b[0;34m(cls, inst)\u001b[0m\n\u001b[1;32m      8\u001b[0m     \u001b[0;31m# https://github.com/python/mypy/issues/1006\u001b[0m\u001b[0;34m\u001b[0m\u001b[0;34m\u001b[0m\u001b[0;34m\u001b[0m\u001b[0m\n\u001b[1;32m      9\u001b[0m     \u001b[0;31m# error: 'classmethod' used with a non-method\u001b[0m\u001b[0;34m\u001b[0m\u001b[0;34m\u001b[0m\u001b[0;34m\u001b[0m\u001b[0m\n\u001b[0;32m---> 10\u001b[0;31m     \u001b[0;34m@\u001b[0m\u001b[0mclassmethod\u001b[0m  \u001b[0;31m# type: ignore\u001b[0m\u001b[0;34m\u001b[0m\u001b[0;34m\u001b[0m\u001b[0m\n\u001b[0m\u001b[1;32m     11\u001b[0m     \u001b[0;32mdef\u001b[0m \u001b[0m_check\u001b[0m\u001b[0;34m(\u001b[0m\u001b[0mcls\u001b[0m\u001b[0;34m,\u001b[0m \u001b[0minst\u001b[0m\u001b[0;34m)\u001b[0m \u001b[0;34m->\u001b[0m \u001b[0mbool\u001b[0m\u001b[0;34m:\u001b[0m\u001b[0;34m\u001b[0m\u001b[0;34m\u001b[0m\u001b[0m\n\u001b[1;32m     12\u001b[0m         \u001b[0;32mreturn\u001b[0m \u001b[0mgetattr\u001b[0m\u001b[0;34m(\u001b[0m\u001b[0minst\u001b[0m\u001b[0;34m,\u001b[0m \u001b[0mattr\u001b[0m\u001b[0;34m,\u001b[0m \u001b[0;34m\"_typ\"\u001b[0m\u001b[0;34m)\u001b[0m \u001b[0;32min\u001b[0m \u001b[0mcomp\u001b[0m\u001b[0;34m\u001b[0m\u001b[0;34m\u001b[0m\u001b[0m\n",
            "\u001b[0;31mKeyboardInterrupt\u001b[0m: "
          ]
        }
      ]
    },
    {
      "cell_type": "code",
      "metadata": {
        "id": "eC-Vv0TE0uTK",
        "outputId": "37ad8230-16cd-4583-8c53-99d1c5500d7b",
        "colab": {
          "base_uri": "https://localhost:8080/",
          "height": 423
        }
      },
      "source": [
        "combined_data"
      ],
      "execution_count": 93,
      "outputs": [
        {
          "output_type": "execute_result",
          "data": {
            "text/html": [
              "<div>\n",
              "<style scoped>\n",
              "    .dataframe tbody tr th:only-of-type {\n",
              "        vertical-align: middle;\n",
              "    }\n",
              "\n",
              "    .dataframe tbody tr th {\n",
              "        vertical-align: top;\n",
              "    }\n",
              "\n",
              "    .dataframe thead th {\n",
              "        text-align: right;\n",
              "    }\n",
              "</style>\n",
              "<table border=\"1\" class=\"dataframe\">\n",
              "  <thead>\n",
              "    <tr style=\"text-align: right;\">\n",
              "      <th></th>\n",
              "      <th>Entity</th>\n",
              "      <th>pm25</th>\n",
              "      <th>asthma_prev</th>\n",
              "    </tr>\n",
              "  </thead>\n",
              "  <tbody>\n",
              "    <tr>\n",
              "      <th>0</th>\n",
              "      <td>Albania</td>\n",
              "      <td>16.062366</td>\n",
              "      <td>0</td>\n",
              "    </tr>\n",
              "    <tr>\n",
              "      <th>1</th>\n",
              "      <td>Andorra</td>\n",
              "      <td>18.320474</td>\n",
              "      <td>0</td>\n",
              "    </tr>\n",
              "    <tr>\n",
              "      <th>2</th>\n",
              "      <td>Australia</td>\n",
              "      <td>7.851019</td>\n",
              "      <td>0</td>\n",
              "    </tr>\n",
              "    <tr>\n",
              "      <th>3</th>\n",
              "      <td>Austria</td>\n",
              "      <td>14.866206</td>\n",
              "      <td>0</td>\n",
              "    </tr>\n",
              "    <tr>\n",
              "      <th>4</th>\n",
              "      <td>Bahrain</td>\n",
              "      <td>54.606000</td>\n",
              "      <td>0</td>\n",
              "    </tr>\n",
              "    <tr>\n",
              "      <th>...</th>\n",
              "      <td>...</td>\n",
              "      <td>...</td>\n",
              "      <td>...</td>\n",
              "    </tr>\n",
              "    <tr>\n",
              "      <th>78</th>\n",
              "      <td>United Arab Emirates</td>\n",
              "      <td>59.721099</td>\n",
              "      <td>0</td>\n",
              "    </tr>\n",
              "    <tr>\n",
              "      <th>79</th>\n",
              "      <td>United Kingdom</td>\n",
              "      <td>12.160183</td>\n",
              "      <td>0</td>\n",
              "    </tr>\n",
              "    <tr>\n",
              "      <th>80</th>\n",
              "      <td>United Republic of Tanzania</td>\n",
              "      <td>23.325000</td>\n",
              "      <td>0</td>\n",
              "    </tr>\n",
              "    <tr>\n",
              "      <th>81</th>\n",
              "      <td>Venezuela, Bolivarian Republic of</td>\n",
              "      <td>25.447742</td>\n",
              "      <td>0</td>\n",
              "    </tr>\n",
              "    <tr>\n",
              "      <th>82</th>\n",
              "      <td>Viet Nam</td>\n",
              "      <td>13.420643</td>\n",
              "      <td>0</td>\n",
              "    </tr>\n",
              "  </tbody>\n",
              "</table>\n",
              "<p>83 rows × 3 columns</p>\n",
              "</div>"
            ],
            "text/plain": [
              "                               Entity       pm25 asthma_prev\n",
              "0                             Albania  16.062366           0\n",
              "1                             Andorra  18.320474           0\n",
              "2                           Australia   7.851019           0\n",
              "3                             Austria  14.866206           0\n",
              "4                             Bahrain  54.606000           0\n",
              "..                                ...        ...         ...\n",
              "78               United Arab Emirates  59.721099           0\n",
              "79                     United Kingdom  12.160183           0\n",
              "80        United Republic of Tanzania  23.325000           0\n",
              "81  Venezuela, Bolivarian Republic of  25.447742           0\n",
              "82                           Viet Nam  13.420643           0\n",
              "\n",
              "[83 rows x 3 columns]"
            ]
          },
          "metadata": {},
          "execution_count": 93
        }
      ]
    },
    {
      "cell_type": "code",
      "metadata": {
        "id": "WTNCjJyA40sZ"
      },
      "source": [
        "#visualise the data\n",
        "\n",
        "#bar chart"
      ],
      "execution_count": null,
      "outputs": []
    },
    {
      "cell_type": "markdown",
      "metadata": {
        "id": "IyqUUBrFjcMA"
      },
      "source": [
        "**STEP 6 - Assess the relationship between the two variables.**\n",
        "\n",
        "Using visualisations to display correlation\n",
        "\n",
        "Calculating the correlation coefficient"
      ]
    },
    {
      "cell_type": "code",
      "metadata": {
        "id": "CWBtGADAzvjN"
      },
      "source": [
        "# regression - correlaation calc\n",
        "\n",
        "import pandas as pd\n",
        "from scipy.stats import linregress\n",
        "\n",
        "county_level_df = pd.read_excel('https://github.com/futureCodersSE/working-with-data/blob/main/Data%20sets/Income-Data.xlsx?raw=true', sheet_name = 'county-level')\n",
        "\n",
        "x = county_level_df['Age']\n",
        "y = county_level_df['Income']\n",
        "\n",
        "regression = (linregress(x,y))\n",
        "print(regression)\n",
        "print(regression.slope)\n",
        "print(regression.intercept)\n",
        "print(regression.rvalue)"
      ],
      "execution_count": null,
      "outputs": []
    },
    {
      "cell_type": "code",
      "metadata": {
        "id": "ZhYwqo--zvgZ"
      },
      "source": [
        "#creating a scatter plot using Seaborn\n",
        "\n",
        "sns.scatterplot(x,y,combined_data, colour = 'green')\n",
        "\n",
        "plt.title('Relationship between air pollution and asthma prevalance')\n",
        "plt.xlabel('Air pollution (pm25)')\n",
        "plt.ylabel('Asthma Prevalence % adult population')\n",
        "\n",
        "plt.show()\n"
      ],
      "execution_count": null,
      "outputs": []
    }
  ]
}